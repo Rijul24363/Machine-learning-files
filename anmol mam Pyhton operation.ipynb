{
 "cells": [
  {
   "cell_type": "markdown",
   "metadata": {},
   "source": [
    "# Arthimetic Operator  (mathermatical )"
   ]
  },
  {
   "cell_type": "markdown",
   "metadata": {},
   "source": [
    "+, _ , *, /, %,//,**"
   ]
  },
  {
   "cell_type": "code",
   "execution_count": 2,
   "metadata": {},
   "outputs": [],
   "source": [
    "a=3\n",
    "b=2\n"
   ]
  },
  {
   "cell_type": "code",
   "execution_count": 8,
   "metadata": {},
   "outputs": [
    {
     "data": {
      "text/plain": [
       "1"
      ]
     },
     "execution_count": 8,
     "metadata": {},
     "output_type": "execute_result"
    }
   ],
   "source": [
    "a+b  # a,b are operand\n",
    "# = operator\n",
    "a-b # subtraction\n",
    "a**b  # Power\n",
    "a/b# divide   ( float value)\n",
    "a//b  # quotient ( integer output)\n",
    "a%b  # reminder"
   ]
  },
  {
   "cell_type": "markdown",
   "metadata": {},
   "source": [
    "# Assignment Operators"
   ]
  },
  {
   "cell_type": "markdown",
   "metadata": {},
   "source": [
    "=,+=,-=,/=,//=,%=,*="
   ]
  },
  {
   "cell_type": "code",
   "execution_count": 12,
   "metadata": {},
   "outputs": [
    {
     "name": "stdout",
     "output_type": "stream",
     "text": [
      "3\n",
      "8\n",
      "2\n"
     ]
    }
   ],
   "source": [
    "a=3 \n",
    "print(a)\n",
    "b=2\n",
    "a+=b  # add and assign\n",
    "a-=b\n",
    "a+=5\n",
    "print(a)\n",
    "print(b)"
   ]
  },
  {
   "cell_type": "markdown",
   "metadata": {},
   "source": [
    "# Relational Operators"
   ]
  },
  {
   "cell_type": "markdown",
   "metadata": {},
   "source": [
    "<,>,<=,>=,==,!="
   ]
  },
  {
   "cell_type": "code",
   "execution_count": 19,
   "metadata": {},
   "outputs": [
    {
     "data": {
      "text/plain": [
       "False"
      ]
     },
     "execution_count": 19,
     "metadata": {},
     "output_type": "execute_result"
    }
   ],
   "source": [
    "a=3\n",
    "b=3.0\n",
    "#a>b\n",
    "#a<b\n",
    "#a==b\n",
    "a<=b\n",
    "a>=b\n",
    "a!=b"
   ]
  },
  {
   "cell_type": "markdown",
   "metadata": {},
   "source": [
    "# Logical Opeartor"
   ]
  },
  {
   "cell_type": "markdown",
   "metadata": {},
   "source": [
    "and or not"
   ]
  },
  {
   "cell_type": "code",
   "execution_count": 22,
   "metadata": {},
   "outputs": [
    {
     "data": {
      "text/plain": [
       "False"
      ]
     },
     "execution_count": 22,
     "metadata": {},
     "output_type": "execute_result"
    }
   ],
   "source": [
    "a=6\n",
    "b=3\n",
    "a>=b and a<4\n",
    "a>=b or a<4\n",
    "not a>b"
   ]
  },
  {
   "cell_type": "markdown",
   "metadata": {},
   "source": [
    "# bitwise operators"
   ]
  },
  {
   "cell_type": "markdown",
   "metadata": {},
   "source": [
    "&(and) , | (or) , ~ (not) , ^(XOR),<<,>>"
   ]
  },
  {
   "cell_type": "code",
   "execution_count": 30,
   "metadata": {},
   "outputs": [
    {
     "data": {
      "text/plain": [
       "2"
      ]
     },
     "execution_count": 30,
     "metadata": {},
     "output_type": "execute_result"
    }
   ],
   "source": [
    "a=0b1010  # integer 10\n",
    "c=0b1100  # integer \n",
    "bin(a & c) # bitwise and \n",
    "a&c\n",
    "bin(a^c) # bitwise Xor\n",
    "a^c\n",
    "\n",
    "a|c   # bitwise OR\n",
    "a<<2  # left shift by 2 \n",
    "a>>2  # right shift"
   ]
  },
  {
   "cell_type": "markdown",
   "metadata": {},
   "source": [
    "input 1       input2            and        or          not             xor \n",
    "\n",
    "0                0             0            0           1                  0\n",
    "\n",
    "\n",
    "1                0             0            1            0                 1\n",
    "\n",
    "\n",
    "0                1             0            1            1                 1\n",
    "\n",
    "\n",
    "1                  1            1            1           0                    0\n"
   ]
  },
  {
   "cell_type": "markdown",
   "metadata": {},
   "source": [
    "# Memebership operator"
   ]
  },
  {
   "cell_type": "markdown",
   "metadata": {},
   "source": [
    "in , not in\n"
   ]
  },
  {
   "cell_type": "code",
   "execution_count": 33,
   "metadata": {},
   "outputs": [
    {
     "data": {
      "text/plain": [
       "True"
      ]
     },
     "execution_count": 33,
     "metadata": {},
     "output_type": "execute_result"
    }
   ],
   "source": [
    "a=\"Hello\"  # string\n",
    "# python is character case sensitive\n",
    "\"LLO\" in a\n",
    "\"llo\" in a \n",
    "\"v\" not in a "
   ]
  },
  {
   "cell_type": "markdown",
   "metadata": {},
   "source": [
    "# Identity Opeartor"
   ]
  },
  {
   "cell_type": "markdown",
   "metadata": {},
   "source": [
    "is , is not"
   ]
  },
  {
   "cell_type": "code",
   "execution_count": 36,
   "metadata": {},
   "outputs": [
    {
     "name": "stderr",
     "output_type": "stream",
     "text": [
      "<>:2: SyntaxWarning: \"is\" with a literal. Did you mean \"==\"?\n",
      "<>:3: SyntaxWarning: \"is not\" with a literal. Did you mean \"!=\"?\n",
      "<>:2: SyntaxWarning: \"is\" with a literal. Did you mean \"==\"?\n",
      "<>:3: SyntaxWarning: \"is not\" with a literal. Did you mean \"!=\"?\n",
      "<ipython-input-36-c315d45eef70>:2: SyntaxWarning: \"is\" with a literal. Did you mean \"==\"?\n",
      "  a is 20.0\n",
      "<ipython-input-36-c315d45eef70>:3: SyntaxWarning: \"is not\" with a literal. Did you mean \"!=\"?\n",
      "  a is not 30\n"
     ]
    },
    {
     "data": {
      "text/plain": [
       "True"
      ]
     },
     "execution_count": 36,
     "metadata": {},
     "output_type": "execute_result"
    }
   ],
   "source": [
    "a=20\n",
    "a is 20.0\n",
    "a is not 30"
   ]
  },
  {
   "cell_type": "code",
   "execution_count": 20,
   "metadata": {},
   "outputs": [
    {
     "name": "stdout",
     "output_type": "stream",
     "text": [
      "P.Diddy end with y\n"
     ]
    }
   ],
   "source": [
    "name=\"P.Diddy\"\n",
    "print(name ,\"end with\", name[-1])"
   ]
  },
  {
   "cell_type": "code",
   "execution_count": 40,
   "metadata": {},
   "outputs": [
    {
     "data": {
      "text/plain": [
       "True"
      ]
     },
     "execution_count": 40,
     "metadata": {},
     "output_type": "execute_result"
    }
   ],
   "source": [
    "s=\"python operator\"\n",
    "'python' in s"
   ]
  },
  {
   "cell_type": "code",
   "execution_count": 40,
   "metadata": {},
   "outputs": [
    {
     "data": {
      "text/plain": [
       "True"
      ]
     },
     "execution_count": 40,
     "metadata": {},
     "output_type": "execute_result"
    }
   ],
   "source": [
    "'a'>'z'\n",
    "'abc'<'d'"
   ]
  },
  {
   "cell_type": "code",
   "execution_count": 22,
   "metadata": {},
   "outputs": [
    {
     "data": {
      "text/plain": [
       "'a string 33 is a '"
      ]
     },
     "execution_count": 22,
     "metadata": {},
     "output_type": "execute_result"
    }
   ],
   "source": [
    "\"a string %s is a \" % \"www\"\n",
    "\"a string %d is a \" % 33\n",
    "\n"
   ]
  }
 ],
 "metadata": {
  "kernelspec": {
   "display_name": "Python 3",
   "language": "python",
   "name": "python3"
  },
  "language_info": {
   "codemirror_mode": {
    "name": "ipython",
    "version": 3
   },
   "file_extension": ".py",
   "mimetype": "text/x-python",
   "name": "python",
   "nbconvert_exporter": "python",
   "pygments_lexer": "ipython3",
   "version": "3.8.5"
  }
 },
 "nbformat": 4,
 "nbformat_minor": 2
}
