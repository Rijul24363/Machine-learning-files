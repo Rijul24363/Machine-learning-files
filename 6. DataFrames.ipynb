{
 "cells": [
  {
   "cell_type": "markdown",
   "metadata": {
    "collapsed": true
   },
   "source": [
    "# DataFrames\n"
   ]
  },
  {
   "cell_type": "code",
   "execution_count": null,
   "metadata": {},
   "outputs": [],
   "source": [
    "import pandas as pd\n",
    "import numpy as np"
   ]
  },
  {
   "cell_type": "code",
   "execution_count": null,
   "metadata": {
    "scrolled": true
   },
   "outputs": [],
   "source": [
    "#With numpy\n",
    "df = pd.DataFrame(np.random.randn(5,4),index=[\"A\",\"B\",\"C\",\"D\",\"E\"],columns=[\"W\",\"X\", \"Y\",\"Z\"])\n",
    "df"
   ]
  },
  {
   "cell_type": "code",
   "execution_count": null,
   "metadata": {},
   "outputs": [],
   "source": [
    "#With Lists\n",
    "x1=[\"John\",24,\"New Delhi\",\"India\"]\n",
    "x2=[\"Jerry\",32,\"New York\",\"USA\"]\n",
    "x3=[\"Tom\",34,\"Manhattan\",\"USA\"]\n",
    "x4=[\"Jack\",45,\"Chicago\",\"USA\"]\n",
    "New=pd.DataFrame([x1,x2,x3,x4],columns=[\"Name\",\"Age\",\"City\",\"Country\"],index=[\"A\",\"B\",\"C\",\"D\"])\n",
    "New"
   ]
  },
  {
   "cell_type": "code",
   "execution_count": null,
   "metadata": {},
   "outputs": [],
   "source": [
    "#With Tuples\n",
    "x1=(\"John\",24,\"New Delhi\",\"India\")\n",
    "x2=(\"Jerry\",32,\"New York\",\"USA\")\n",
    "x3=(\"Tom\",34,\"Manhattan\",\"USA\")\n",
    "x4=(\"Jack\",45,\"Chicago\",\"USA\")\n",
    "New1=pd.DataFrame([x1,x2,x3,x4],columns=[\"Name\",\"Age\",\"City\",\"Country\"],index=[\"A\",\"B\",\"C\",\"D\"])\n",
    "New1"
   ]
  },
  {
   "cell_type": "code",
   "execution_count": null,
   "metadata": {},
   "outputs": [],
   "source": [
    "#With Dictionaries\n",
    "datas={\"Name\":[\"Karan\",\"Raman\",\"Shravan\",\"Ajay\",\"Vijay\",\"Sanjay\"],\"Age\":[23,24,25,26,25,21],\"Location\":[\"Banglore\",\"Chandigarh\",\"Chennai\",\"Mumbai\",\"Kolkata\",\"Pune\"],\"Salary\":[22900,25800,24000,23000,25000,25500]}\n",
    "datas\n",
    "datas=pd.DataFrame(datas)\n",
    "datas"
   ]
  },
  {
   "cell_type": "code",
   "execution_count": null,
   "metadata": {},
   "outputs": [],
   "source": [
    "np.arange(18).reshape(3,6)\n",
    "df"
   ]
  },
  {
   "cell_type": "code",
   "execution_count": null,
   "metadata": {},
   "outputs": [],
   "source": [
    "np.arange(0,20).reshape(5,4)\n"
   ]
  },
  {
   "cell_type": "code",
   "execution_count": null,
   "metadata": {
    "scrolled": true
   },
   "outputs": [],
   "source": [
    "x=np.arange(0,20)\n",
    "fd=x.reshape(5,4)\n",
    "fd\n",
    "fd=pd.DataFrame(fd,index=[\"A\",\"B\",\"C\",\"D\",\"E\"],columns=[\"W\",\"X\",\"Y\",\"Z\"])\n",
    "fd"
   ]
  },
  {
   "cell_type": "code",
   "execution_count": null,
   "metadata": {},
   "outputs": [],
   "source": [
    "fd\n",
    "datas"
   ]
  },
  {
   "cell_type": "markdown",
   "metadata": {},
   "source": [
    "## Selection and Indexing\n",
    "\n",
    "Let's learn the various methods to grab data from a DataFrame"
   ]
  },
  {
   "cell_type": "code",
   "execution_count": null,
   "metadata": {},
   "outputs": [],
   "source": [
    "fd[\"W\"]\n",
    "datas[\"Location\"]"
   ]
  },
  {
   "cell_type": "code",
   "execution_count": null,
   "metadata": {},
   "outputs": [],
   "source": [
    "fd.shape #Will give you no. of rows and no. of columns\n",
    "datas.columns # Will give you the column names.\n",
    "datas"
   ]
  },
  {
   "cell_type": "code",
   "execution_count": null,
   "metadata": {},
   "outputs": [],
   "source": [
    "# Pass a list of column names\n",
    "fd[[\"X\",\"W\",\"Z\"]]\n",
    "datas[[\"Salary\",\"Age\"]]"
   ]
  },
  {
   "cell_type": "code",
   "execution_count": null,
   "metadata": {},
   "outputs": [],
   "source": [
    "fd\n"
   ]
  },
  {
   "cell_type": "code",
   "execution_count": null,
   "metadata": {},
   "outputs": [],
   "source": [
    "#Renaming Columns\n",
    "fd.rename(columns = {\"Z\":\"shape\"},inplace=True) \n",
    "#fd.rename(index = {\"A\":\"Alpha\"},inplace=True)\n",
    "\n",
    "#fd.rename(columns={\"shape\":\"Z\",\"W\":\"WON\"},index={\"Alpha\":\"A\",\"D\":\"Delhi\"},inplace=True)\n",
    "fd"
   ]
  },
  {
   "cell_type": "code",
   "execution_count": null,
   "metadata": {},
   "outputs": [],
   "source": [
    "#fd[\"W\"]\n",
    "#fd.W\n",
    "#fd.rename(columns={\"W\":\"shape\"},inplace=True)"
   ]
  },
  {
   "cell_type": "code",
   "execution_count": null,
   "metadata": {},
   "outputs": [],
   "source": [
    "fd[\"shape\"]\n",
    "fd.shape\n",
    "fd[\"shape\"]\n",
    "fd.X\n",
    "#fd.rename(columns={\"shape\":\"W\"},inplace=True)\n",
    "fd"
   ]
  },
  {
   "cell_type": "code",
   "execution_count": null,
   "metadata": {},
   "outputs": [],
   "source": [
    "# SQL Syntax (NOT RECOMMENDED!)\n",
    "#fd.rename(columns={\"shape\":\"Z\",\"mean\":\"X\"},inplace=True)\n",
    "#fd[\"shape\"]\n",
    "fd\n",
    "#Exercise. Rename any two column with mean and median and try to call the data with column names by using SQL Syntax."
   ]
  },
  {
   "cell_type": "code",
   "execution_count": null,
   "metadata": {},
   "outputs": [],
   "source": [
    "fd[\"New\"]=fd[\"X\"]+fd[\"Z\"]\n",
    "fd[\"City\"]=[\"Delhi\",\"Mumbai\",\"Chennai\",\"Kolkata\",\"Goa\"]\n",
    "fd\n"
   ]
  },
  {
   "cell_type": "code",
   "execution_count": null,
   "metadata": {},
   "outputs": [],
   "source": [
    "fd[\"New2\"]=(fd[\"X\"]*fd[\"Y\"])/fd[\"Z\"]\n",
    "fd\n",
    "fd[\"Name\"]=[\"Karan\",\"Suraj\",\"Raman\",\"Joseph\",\"Jerry\"]\n",
    "fd\n",
    "\n",
    "#fd.drop(columns=\"Name\",index=\"C\",inplace=True)\n",
    "fd"
   ]
  },
  {
   "cell_type": "code",
   "execution_count": null,
   "metadata": {},
   "outputs": [],
   "source": [
    "#Deleting the columns\n",
    "\n",
    "#fd.drop(columns=[\"City\",\"Name\"],index=[\"A\",\"E\"])\n",
    "\n",
    "fd.drop([\"A\",\"E\"],axis=0)"
   ]
  },
  {
   "cell_type": "markdown",
   "metadata": {},
   "source": [
    "DataFrame Columns are just Series"
   ]
  },
  {
   "cell_type": "markdown",
   "metadata": {},
   "source": [
    "**Creating a new column:**"
   ]
  },
  {
   "cell_type": "code",
   "execution_count": null,
   "metadata": {},
   "outputs": [],
   "source": [
    "fd"
   ]
  },
  {
   "cell_type": "code",
   "execution_count": null,
   "metadata": {},
   "outputs": [],
   "source": [
    "#Dropping the row\n",
    "fd.drop(index=[\"A\",\"C\",\"E\"],columns=[\"New2\",\"W\",\"X\"])"
   ]
  },
  {
   "cell_type": "code",
   "execution_count": null,
   "metadata": {},
   "outputs": [],
   "source": [
    "fd\n",
    "df"
   ]
  },
  {
   "cell_type": "markdown",
   "metadata": {},
   "source": [
    "** Removing Columns**"
   ]
  },
  {
   "cell_type": "code",
   "execution_count": null,
   "metadata": {},
   "outputs": [],
   "source": [
    "#Dropping the Column\n",
    "df.drop([\"W\",\"Y\"],axis=1)#axis-1 means column wise\n",
    "df.drop([\"A\",\"E\",\"C\"],axis=0)#axis=0 means row wise\n"
   ]
  },
  {
   "cell_type": "code",
   "execution_count": null,
   "metadata": {},
   "outputs": [],
   "source": [
    "# Not inplace unless specified!\n",
    "fd.drop(index=[\"A\",\"B\"],columns=[\"W\",\"X\"])"
   ]
  },
  {
   "cell_type": "code",
   "execution_count": null,
   "metadata": {},
   "outputs": [],
   "source": [
    "df.drop('Z',axis=1)"
   ]
  },
  {
   "cell_type": "code",
   "execution_count": null,
   "metadata": {},
   "outputs": [],
   "source": [
    "fd"
   ]
  },
  {
   "cell_type": "markdown",
   "metadata": {},
   "source": [
    "Can also drop rows this way:"
   ]
  },
  {
   "cell_type": "code",
   "execution_count": null,
   "metadata": {},
   "outputs": [],
   "source": [
    "#df.drop('E',axis=0)"
   ]
  },
  {
   "cell_type": "code",
   "execution_count": null,
   "metadata": {},
   "outputs": [],
   "source": [
    "fd=np.arange(0,20).reshape(5,4)\n",
    "fd=pd.DataFrame(fd,columns=[\"W\",\"X\",\"Y\",\"Z\"],index=[\"A\",\"B\",\"C\",\"D\",\"E\"])\n",
    "fd[\"New\"]=fd[\"Y\"]*fd[\"Z\"]\n",
    "fd[\"New2\"]=[\"Hi\",\"Hello\",\"Good\",\"Star\",\"Plus\"]\n",
    "fd.drop(columns=\"New2\",inplace=True)\n",
    "fd"
   ]
  },
  {
   "cell_type": "markdown",
   "metadata": {},
   "source": [
    "# Loc and iLoc"
   ]
  },
  {
   "cell_type": "markdown",
   "metadata": {},
   "source": [
    "** Selecting Rows**"
   ]
  },
  {
   "cell_type": "code",
   "execution_count": null,
   "metadata": {
    "scrolled": true
   },
   "outputs": [],
   "source": [
    "fd\n",
    "\n",
    "#LOC executes on the column's name\n",
    "#iloc executies on the column's index position number\n"
   ]
  },
  {
   "cell_type": "code",
   "execution_count": null,
   "metadata": {},
   "outputs": [],
   "source": [
    "import pandas as pd\n",
    "import numpy as np"
   ]
  },
  {
   "cell_type": "code",
   "execution_count": null,
   "metadata": {},
   "outputs": [],
   "source": [
    "car=pd.read_csv(\"C:/Users/admin/Desktop/Data/car_sales.csv\")\n",
    "car"
   ]
  },
  {
   "cell_type": "code",
   "execution_count": null,
   "metadata": {},
   "outputs": [],
   "source": [
    "car=pd.read_csv(\"C:\\\\Users\\\\admin\\\\Desktop\\\\Data\\\\Car_sales.csv\")\n",
    "car.shape\n",
    "#car.columns # For displaying the columns names\n",
    "#car=car.iloc[:,:15]\n",
    "car"
   ]
  },
  {
   "cell_type": "code",
   "execution_count": null,
   "metadata": {},
   "outputs": [],
   "source": [
    "car=pd.read_csv(\"C:\\\\Users\\\\admin\\\\Desktop\\\\Data\\\\Car_sales.csv\")"
   ]
  },
  {
   "cell_type": "code",
   "execution_count": null,
   "metadata": {},
   "outputs": [],
   "source": [
    "car\n",
    "#Dropping the columns\n",
    "#car.drop(columns=['Unnamed: 15', 'XX'])\n",
    "#car.drop(['Unnamed: 15', 'XX'],axis=1)\n",
    "\n",
    "#car.shape\n",
    "#car=car.iloc[:,:15]\n",
    "#car=car.loc[:,['Manufacturer', 'Model', 'Sales in thousands', 'x_4_year','Vehicle type', 'Price in thousands', 'Engine size', 'Horsepower','Wheelbase', 'Width', 'Length', 'Curb weight', 'Fuel capacity','Fuel efficiency', 'Latest Launch']]\n",
    "car"
   ]
  },
  {
   "cell_type": "code",
   "execution_count": null,
   "metadata": {},
   "outputs": [],
   "source": [
    "\n",
    "#fd.loc[:,3]\n",
    "#fd.iloc[:,3]\n",
    "fd"
   ]
  },
  {
   "cell_type": "code",
   "execution_count": null,
   "metadata": {
    "scrolled": true
   },
   "outputs": [],
   "source": [
    "fd\n",
    "#loc\n",
    "fd.loc[:,\"W\"]\n",
    "fd.loc[:,[\"X\",\"Z\",\"Y\"]]\n",
    "fd.loc[[\"A\"],:]\n",
    "fd.loc[[\"A\",\"C\",\"E\"],:]\n",
    "fd.loc[[\"A\",\"C\",\"E\"],[\"X\",\"Z\",\"W\"]]\n",
    "#iloc\n",
    "fd.iloc[:,0]\n",
    "fd.iloc[:,[1,3,2]]\n",
    "fd.iloc[0,:]\n",
    "fd.iloc[[0,2,4],:]\n",
    "fd.iloc[[0,2,4],[1,3,0]]\n",
    "fd"
   ]
  },
  {
   "cell_type": "code",
   "execution_count": null,
   "metadata": {},
   "outputs": [],
   "source": [
    "car.head()\n"
   ]
  },
  {
   "cell_type": "code",
   "execution_count": null,
   "metadata": {},
   "outputs": [],
   "source": [
    "car.iloc[4,:5]\n",
    "car.iloc[[4,5,6,7,8,10,20],:7]\n",
    "car.loc[[4,5,6,7,8,10,20,30,50],[\"Manufacturer\",\"Sales in thousands\",\"Engine size\"]]"
   ]
  },
  {
   "cell_type": "code",
   "execution_count": null,
   "metadata": {},
   "outputs": [],
   "source": [
    "#      7,0,16,13,19\n",
    "fd.loc[\"B\",\"Z\"]\n",
    "fd.iloc[1,3]\n",
    "fd.loc[\"E\",\"W\"]\n",
    "fd.iloc[4,0]"
   ]
  },
  {
   "cell_type": "code",
   "execution_count": null,
   "metadata": {},
   "outputs": [],
   "source": [
    "#7\n",
    "fd.iloc[1,3]\n",
    "fd.loc[\"B\",\"Z\"]\n",
    "#0\n",
    "fd.iloc[0,0]\n",
    "fd.loc[\"A\",\"W\"]\n",
    "#16\n",
    "fd.iloc[4,0]\n",
    "fd.loc[\"E\",\"W\"]\n",
    "#35\n",
    "fd.iloc[1,5]\n",
    "fd.loc[\"B\",\"New2\"]\n",
    "#9\n",
    "fd.iloc[2,1]\n",
    "fd.loc[\"C\",\"X\"]\n",
    "#323\n",
    "fd.iloc[4,5]\n",
    "fd.loc[\"E\",\"New2\"]"
   ]
  },
  {
   "cell_type": "markdown",
   "metadata": {},
   "source": [
    "Or select based off of position instead of label "
   ]
  },
  {
   "cell_type": "code",
   "execution_count": null,
   "metadata": {},
   "outputs": [],
   "source": [
    "print(fd)\n",
    "fd.iloc[2,2]\n",
    "#fd.loc[\"C\",\"W\"]"
   ]
  },
  {
   "cell_type": "code",
   "execution_count": null,
   "metadata": {},
   "outputs": [],
   "source": [
    "fd.loc[['A','B',\"E\"],['W','Y',\"Z\"]]\n",
    "#fd.iloc[0,1]\n",
    "#fd"
   ]
  },
  {
   "cell_type": "code",
   "execution_count": null,
   "metadata": {},
   "outputs": [],
   "source": [
    "#To get the data for a single ROW or COLUMN, can include [].\n",
    "car.iloc[[2],:5]#For a single ROW\n",
    "car.iloc[:10,[2]]#For a single COLUMN\n",
    "\n",
    "#Exercise try to execute the same code with loc."
   ]
  },
  {
   "cell_type": "code",
   "execution_count": null,
   "metadata": {},
   "outputs": [],
   "source": [
    "fd.loc[:,\"W\":\"Y\"]\n",
    "#fd.iloc[:,:3]"
   ]
  },
  {
   "cell_type": "code",
   "execution_count": null,
   "metadata": {},
   "outputs": [],
   "source": [
    "fd.iloc[[0,2,1],:]"
   ]
  },
  {
   "cell_type": "code",
   "execution_count": null,
   "metadata": {},
   "outputs": [],
   "source": [
    "fd.iloc[[0,2,4],[1,2,0]]\n",
    "fd.loc[[\"A\",\"C\",\"E\"],[\"X\",\"Y\"]]\n",
    "fd"
   ]
  },
  {
   "cell_type": "code",
   "execution_count": null,
   "metadata": {},
   "outputs": [],
   "source": [
    "fd.iloc[0:2,:]#Row= 0 through 2, all columns\n",
    "fd.iloc[0:-2, :]"
   ]
  },
  {
   "cell_type": "code",
   "execution_count": null,
   "metadata": {},
   "outputs": [],
   "source": [
    "fd.loc[\"A\":\"C\",:]#Row = A through C, all Columns"
   ]
  },
  {
   "cell_type": "code",
   "execution_count": null,
   "metadata": {},
   "outputs": [],
   "source": [
    "fd.loc[:,\"X\"]#All Rows and X Columns"
   ]
  },
  {
   "cell_type": "markdown",
   "metadata": {},
   "source": [
    "## Working on UFO Data with loc and iloc"
   ]
  },
  {
   "cell_type": "code",
   "execution_count": 1,
   "metadata": {},
   "outputs": [
    {
     "data": {
      "text/plain": [
       "(18241, 6)"
      ]
     },
     "execution_count": 1,
     "metadata": {},
     "output_type": "execute_result"
    }
   ],
   "source": [
    "import pandas as pd\n",
    "import numpy as np\n",
    "ufo=pd.read_csv(\"C:/Users/admin/Desktop/Data/Ufo.csv\")\n",
    "ufo.shape"
   ]
  },
  {
   "cell_type": "code",
   "execution_count": null,
   "metadata": {},
   "outputs": [],
   "source": [
    "ufo=ufo.iloc[:,1:]\n",
    "ufo"
   ]
  },
  {
   "cell_type": "code",
   "execution_count": null,
   "metadata": {},
   "outputs": [],
   "source": [
    "#ufo.drop(\"Unnamed: 0\",axis=1,inplace=True)\n",
    "#ufo.drop(columns=\"Unnamed: 0\")\n",
    "ufo"
   ]
  },
  {
   "cell_type": "code",
   "execution_count": null,
   "metadata": {},
   "outputs": [],
   "source": [
    "ufo[\"City\"].value_counts()\n",
    "#ufo[\"Shape Reported\"].value_counts().nlargest(10)\n",
    "#nlargest and nsmallest"
   ]
  },
  {
   "cell_type": "code",
   "execution_count": null,
   "metadata": {},
   "outputs": [],
   "source": [
    "ufo[ufo[\"City\"]==\"Phoenix\"]"
   ]
  },
  {
   "cell_type": "code",
   "execution_count": null,
   "metadata": {},
   "outputs": [],
   "source": [
    "ufo[ufo[\"City\"]==\"Seattle\"]\n",
    "#ufo[ufo[\"City\"]==\"Lextington\"]"
   ]
  },
  {
   "cell_type": "code",
   "execution_count": null,
   "metadata": {},
   "outputs": [],
   "source": [
    "ufo[ufo[\"City\"]==\"Seattle\"]\n",
    "ufo[ufo[\"State\"]==\"MI\"]\n",
    "ufo[ufo[\"Shape Reported\"]==\"TRIANGLE\"]\n",
    "ufo[ufo[\"State\"]==\"TX\"]\n",
    "ufo[ufo[\"Colors Reported\"]==\"RED\"]"
   ]
  },
  {
   "cell_type": "code",
   "execution_count": null,
   "metadata": {},
   "outputs": [],
   "source": [
    "ufo.head()\n",
    "car.head(20)\n",
    "\n",
    "ufo.tail(10)\n",
    "car.tail()\n",
    "#Seattle, San Diego, Miami, Albuquerque, Springfield, Tucson, Colorado Springs, Jacksonville"
   ]
  },
  {
   "cell_type": "code",
   "execution_count": null,
   "metadata": {},
   "outputs": [],
   "source": [
    "ufo.loc[ufo[\"City\"]==\"Los Angeles\",:]"
   ]
  },
  {
   "cell_type": "code",
   "execution_count": null,
   "metadata": {},
   "outputs": [],
   "source": [
    "ufo.loc[ufo[\"City\"]==\"Ithaca\",[\"City\",\"State\",\"Shape Reported\"]]"
   ]
  },
  {
   "cell_type": "code",
   "execution_count": null,
   "metadata": {},
   "outputs": [],
   "source": [
    "ufo.loc[ufo[\"City\"]==\"Holyoke\",[\"City\",\"State\",\"Time\"]]"
   ]
  },
  {
   "cell_type": "markdown",
   "metadata": {},
   "source": [
    "### Conditional Selection\n",
    "\n",
    "An important feature of pandas is conditional selection using bracket notation, very similar to numpy:"
   ]
  },
  {
   "cell_type": "code",
   "execution_count": null,
   "metadata": {},
   "outputs": [],
   "source": [
    "#print(df)\n",
    "fd"
   ]
  },
  {
   "cell_type": "code",
   "execution_count": null,
   "metadata": {},
   "outputs": [],
   "source": [
    "fd[fd<=10]"
   ]
  },
  {
   "cell_type": "code",
   "execution_count": null,
   "metadata": {},
   "outputs": [],
   "source": [
    "#df[df>0]\n",
    "fd[fd>=2]"
   ]
  },
  {
   "cell_type": "code",
   "execution_count": null,
   "metadata": {},
   "outputs": [],
   "source": [
    "ufo[ufo[\"Shape Reported\"]==\"DISK\"].head()\n",
    "#ufo[ufo[\"Shape Reported\"]==\"DISK\"]\n",
    "fd"
   ]
  },
  {
   "cell_type": "code",
   "execution_count": null,
   "metadata": {},
   "outputs": [],
   "source": [
    "\n",
    "fd[fd[\"W\"]>0]\n",
    "#fd[fd[\"W\"]>10]\n",
    "#fd[fd[\"Z\"]>10]"
   ]
  },
  {
   "cell_type": "code",
   "execution_count": null,
   "metadata": {},
   "outputs": [],
   "source": [
    "X"
   ]
  },
  {
   "cell_type": "code",
   "execution_count": null,
   "metadata": {},
   "outputs": [],
   "source": [
    "print(fd)\n",
    "fd[fd[\"W\"]>4]\n",
    "fd[fd[\"Z\"]<11]\n",
    "fd[fd[\"X\"]>5]#Column\n",
    "fd[fd[\"W\"]>8]"
   ]
  },
  {
   "cell_type": "code",
   "execution_count": null,
   "metadata": {},
   "outputs": [],
   "source": [
    "print(fd)\n",
    "fd[fd[\"Z\"]>=11]\n",
    "fd[fd[\"W\"]==8]"
   ]
  },
  {
   "cell_type": "code",
   "execution_count": null,
   "metadata": {},
   "outputs": [],
   "source": [
    "fd[fd[\"Z\"]>0]"
   ]
  },
  {
   "cell_type": "code",
   "execution_count": null,
   "metadata": {},
   "outputs": [],
   "source": [
    "df[df[\"Y\"]>0]"
   ]
  },
  {
   "cell_type": "code",
   "execution_count": null,
   "metadata": {},
   "outputs": [],
   "source": [
    "ufo[ufo[\"City\"]==\"Las Vegas\"][[\"Shape Reported\",\"Colors Reported\"]]\n",
    "ufo[(ufo[\"City\"]==\"Las Vegas\") & (ufo[\"Shape Reported\"]==\"LIGHT\") & (ufo[\"Colors Reported\"]==\"BLUE\")]\n",
    "\n",
    "ufo[(ufo[\"City\"]==\"Houston\") & (ufo[\"Shape Reported\"]==\"DIAMOND\")]\n"
   ]
  },
  {
   "cell_type": "code",
   "execution_count": null,
   "metadata": {},
   "outputs": [],
   "source": [
    "ufo.head()\n",
    "ufo[(ufo[\"City\"]==\"Seattle\") & (ufo[\"Shape Reported\"]==\"TRIANGLE\") & (ufo[\"Colors Reported\"]==\"ORANGE\")]\n",
    "\n",
    "#ufo[(condition1) & (condition2)]"
   ]
  },
  {
   "cell_type": "code",
   "execution_count": null,
   "metadata": {},
   "outputs": [],
   "source": [
    "x=ufo[ufo[\"City\"]==\"Seattle\"]\n",
    "y=x[x[\"Shape Reported\"]==\"TRIANGLE\"]\n",
    "y[y[\"Colors Reported\"]==\"ORANGE\"]"
   ]
  },
  {
   "cell_type": "code",
   "execution_count": null,
   "metadata": {},
   "outputs": [],
   "source": [
    "ufo[ufo[\"City\"]==\"New York City\"][\"Colors Reported\"].value_counts()\n",
    "#ufo[\"City\"].value_counts()\n",
    "\n",
    "#Select New York City which has RED color.\n",
    "ufo[(ufo[\"City\"]==\"New York City\") & (ufo[\"Colors Reported\"]==\"RED\") & (ufo[\"Shape Reported\"]==\"TRIANGLE\")]\n",
    "\n",
    "#Exercise\n",
    "#City name: Houston, Colors Reported: Green, Shape Reported: FIREBALL, not need state and time column.\n",
    "\n",
    "ufo[(ufo[\"City\"]==\"Houston\") & (ufo[\"Colors Reported\"]==\"GREEN\") &(ufo[\"Shape Reported\"]==\"FIREBALL\")].drop([\"State\",\"Time\"],axis=1)"
   ]
  },
  {
   "cell_type": "markdown",
   "metadata": {},
   "source": [
    "For two conditions you can use | and & with parenthesis:"
   ]
  },
  {
   "cell_type": "code",
   "execution_count": null,
   "metadata": {},
   "outputs": [],
   "source": [
    "#ufo[(ufo[\"City\"]==\"Ithaca\") & (ufo[\"Colors Reported\"]==\"Red\") & (ufo[\"Shape Reported\"]==\"OTHER\") & (ufo[\"State\"]==\"NY\")]\n",
    "ufo[(ufo[\"City\"]==\"Seattle\") & (ufo[\"Shape Reported\"]==\"CIRCLE\") & (ufo[\"Colors Reported\"]==\"GREEN\")]"
   ]
  },
  {
   "cell_type": "code",
   "execution_count": null,
   "metadata": {},
   "outputs": [],
   "source": [
    "#ufo[(ufo[\"City\"]==\"Los Angeles\") & (ufo[\"Shape Reported\"]==\"DISK\")]\n",
    "ufo.loc[(ufo[\"City\"]==\"Los Angeles\") & (ufo[\"Shape Reported\"]==\"DISK\"),:]"
   ]
  },
  {
   "cell_type": "code",
   "execution_count": null,
   "metadata": {},
   "outputs": [],
   "source": [
    "ufo[(ufo[\"City\"]==\"New York City\") & (ufo[\"Shape Reported\"]==\"TEARDROP\")]\n",
    "ufo"
   ]
  },
  {
   "cell_type": "code",
   "execution_count": null,
   "metadata": {},
   "outputs": [],
   "source": [
    "#Can you print the first 5 observations with Colum name as 1,2,3,4,5 with only the below command\n",
    "a=pd.DataFrame(ufo.tail(10).values,columns=[1,2,3,4,5])\n",
    "a"
   ]
  },
  {
   "cell_type": "markdown",
   "metadata": {},
   "source": [
    "\n",
    "## More Index Details\n",
    "\n",
    "Let's discuss some more features of indexing, including resetting the index or setting it something else. We'll also talk about index hierarchy!"
   ]
  },
  {
   "cell_type": "code",
   "execution_count": null,
   "metadata": {
    "scrolled": true
   },
   "outputs": [],
   "source": [
    "x=fd.copy()\n",
    "z=x.reset_index().drop(\"index\",axis=1)\n",
    "z"
   ]
  },
  {
   "cell_type": "code",
   "execution_count": null,
   "metadata": {},
   "outputs": [],
   "source": [
    "z.iloc[[0,2,4],[0,2]].reset_index().drop(\"index\",axis=1)"
   ]
  },
  {
   "cell_type": "code",
   "execution_count": null,
   "metadata": {},
   "outputs": [],
   "source": [
    "# Can restore the index names with rename function\n",
    "z.rename({0:\"A\",1:\"B\",2:\"C\",3:\"D\",4:\"E\"},inplace=True)"
   ]
  },
  {
   "cell_type": "code",
   "execution_count": null,
   "metadata": {},
   "outputs": [],
   "source": [
    "z"
   ]
  },
  {
   "cell_type": "code",
   "execution_count": null,
   "metadata": {},
   "outputs": [],
   "source": [
    "#x=x.reset_index().drop(columns=\"index\")\n",
    "#x=x.iloc[[0,1,2,4],:]\n",
    "#x=x.reset_index().drop(columns=\"index\")\n",
    "x"
   ]
  },
  {
   "cell_type": "code",
   "execution_count": null,
   "metadata": {},
   "outputs": [],
   "source": [
    "fd=fd.iloc[:,1:]\n",
    "fd"
   ]
  },
  {
   "cell_type": "code",
   "execution_count": null,
   "metadata": {},
   "outputs": [],
   "source": [
    "# Reset to default 0,1...n index\n",
    "#df.reset_index()\n",
    "fd.reset_index()"
   ]
  },
  {
   "cell_type": "code",
   "execution_count": null,
   "metadata": {},
   "outputs": [],
   "source": [
    "newind = 'CA NY WY OR CO'.split()\n",
    "newind"
   ]
  },
  {
   "cell_type": "code",
   "execution_count": null,
   "metadata": {},
   "outputs": [],
   "source": [
    "fd['States'] = newind"
   ]
  },
  {
   "cell_type": "code",
   "execution_count": null,
   "metadata": {},
   "outputs": [],
   "source": [
    "fd"
   ]
  },
  {
   "cell_type": "code",
   "execution_count": null,
   "metadata": {},
   "outputs": [],
   "source": [
    "#fd=fd.set_index('States')\n",
    "fd.loc[[\"CA\",\"WY\",\"OR\"],:]"
   ]
  },
  {
   "cell_type": "code",
   "execution_count": null,
   "metadata": {},
   "outputs": [],
   "source": [
    "fd"
   ]
  },
  {
   "cell_type": "code",
   "execution_count": null,
   "metadata": {},
   "outputs": [],
   "source": [
    "ufo.head()"
   ]
  },
  {
   "cell_type": "markdown",
   "metadata": {},
   "source": [
    "# Changing the Columns"
   ]
  },
  {
   "cell_type": "code",
   "execution_count": null,
   "metadata": {},
   "outputs": [],
   "source": [
    "ufo.rename(columns={\"City\":\"CITY_CITY\"})\n",
    "#ufo.rename(columns={\"Shape Reported\":\"SR\"},inplace=True)\n"
   ]
  },
  {
   "cell_type": "code",
   "execution_count": null,
   "metadata": {},
   "outputs": [],
   "source": [
    "a=pd.DataFrame(ufo.head().values,columns=[1,2,3,4,5])\n",
    "a\n",
    "\n",
    "\n",
    "\n",
    "13\n",
    "10\n",
    "14\n",
    "15"
   ]
  },
  {
   "cell_type": "markdown",
   "metadata": {},
   "source": [
    "# Discovering and Deleting Duplicate Values"
   ]
  },
  {
   "cell_type": "markdown",
   "metadata": {},
   "source": [
    "subset: Subset takes a column or list of column label. It’s default value is none. After passing columns, it will consider them only for duplicates.\n",
    "keep: keep is to control how to consider duplicate value. It has only three distinct value and default is ‘first’.\n",
    "\n",
    " * If ‘first’, it considers first value as unique and rest of the same values as duplicate.\n",
    " * If ‘last’, it considers last value as unique and rest of the same values as duplicate.\n",
    " * If False, it consider all of the same values as duplicates"
   ]
  },
  {
   "cell_type": "code",
   "execution_count": null,
   "metadata": {},
   "outputs": [],
   "source": [
    "#Dropping/Deleting the duplicate values\n",
    "data=pd.read_csv(\"C:/Users/admin/Desktop/Data/employees.csv\")\n",
    "\n",
    "print(data.shape)\n",
    "data.head()"
   ]
  },
  {
   "cell_type": "code",
   "execution_count": null,
   "metadata": {},
   "outputs": [],
   "source": [
    "data[data.duplicated(subset=\"First Name\")==True]\n",
    "ufo[ufo.duplicated(subset=\"City\")==True]"
   ]
  },
  {
   "cell_type": "code",
   "execution_count": null,
   "metadata": {},
   "outputs": [],
   "source": [
    "print(ufo.shape)\n",
    "#data.drop_duplicates(subset=\"First Name\",keep=\"first\").shape\n",
    "ufo.drop_duplicates(subset=\"City\",keep=False).shape"
   ]
  },
  {
   "cell_type": "code",
   "execution_count": null,
   "metadata": {},
   "outputs": [],
   "source": [
    "d1={\"Name\":[\"Karan\",\"Karan1\",\"Karan2\",\"Karan3\",\"Karan4\",\"Karan5\",\"Karan6\"],\"Age\":[24,24,25,26,24,25,27]}\n",
    "temp=pd.DataFrame(d1)\n",
    "temp"
   ]
  },
  {
   "cell_type": "code",
   "execution_count": null,
   "metadata": {},
   "outputs": [],
   "source": [
    "temp.drop_duplicates(subset=\"Age\",keep=False)"
   ]
  },
  {
   "cell_type": "code",
   "execution_count": null,
   "metadata": {},
   "outputs": [],
   "source": [
    "ufo"
   ]
  },
  {
   "cell_type": "markdown",
   "metadata": {},
   "source": [
    "# Displaying Compressed Data"
   ]
  },
  {
   "cell_type": "code",
   "execution_count": null,
   "metadata": {},
   "outputs": [],
   "source": [
    "pd.set_option(\"display.max_columns\",None)\n",
    "pd.set_option(\"display.max_rows\",None)"
   ]
  },
  {
   "cell_type": "code",
   "execution_count": 2,
   "metadata": {},
   "outputs": [
    {
     "data": {
      "text/html": [
       "<div>\n",
       "<style scoped>\n",
       "    .dataframe tbody tr th:only-of-type {\n",
       "        vertical-align: middle;\n",
       "    }\n",
       "\n",
       "    .dataframe tbody tr th {\n",
       "        vertical-align: top;\n",
       "    }\n",
       "\n",
       "    .dataframe thead th {\n",
       "        text-align: right;\n",
       "    }\n",
       "</style>\n",
       "<table border=\"1\" class=\"dataframe\">\n",
       "  <thead>\n",
       "    <tr style=\"text-align: right;\">\n",
       "      <th></th>\n",
       "      <th>Unnamed: 0</th>\n",
       "      <th>City</th>\n",
       "      <th>Colors Reported</th>\n",
       "      <th>Shape Reported</th>\n",
       "      <th>State</th>\n",
       "      <th>Time</th>\n",
       "    </tr>\n",
       "  </thead>\n",
       "  <tbody>\n",
       "    <tr>\n",
       "      <th>0</th>\n",
       "      <td>0</td>\n",
       "      <td>Ithaca</td>\n",
       "      <td>Red</td>\n",
       "      <td>TRIANGLE</td>\n",
       "      <td>NY</td>\n",
       "      <td>6/1/1930 22:00</td>\n",
       "    </tr>\n",
       "    <tr>\n",
       "      <th>1</th>\n",
       "      <td>1</td>\n",
       "      <td>Willingboro</td>\n",
       "      <td>Red</td>\n",
       "      <td>OTHER</td>\n",
       "      <td>NJ</td>\n",
       "      <td>6/30/1930 20:00</td>\n",
       "    </tr>\n",
       "    <tr>\n",
       "      <th>2</th>\n",
       "      <td>2</td>\n",
       "      <td>Holyoke</td>\n",
       "      <td>Red</td>\n",
       "      <td>OVAL</td>\n",
       "      <td>CO</td>\n",
       "      <td>2/15/1931 14:00</td>\n",
       "    </tr>\n",
       "    <tr>\n",
       "      <th>3</th>\n",
       "      <td>3</td>\n",
       "      <td>Abilene</td>\n",
       "      <td>Red</td>\n",
       "      <td>DISK</td>\n",
       "      <td>KS</td>\n",
       "      <td>6/1/1931 13:00</td>\n",
       "    </tr>\n",
       "    <tr>\n",
       "      <th>4</th>\n",
       "      <td>4</td>\n",
       "      <td>New York Worlds Fair</td>\n",
       "      <td>Red</td>\n",
       "      <td>LIGHT</td>\n",
       "      <td>NY</td>\n",
       "      <td>4/18/1933 19:00</td>\n",
       "    </tr>\n",
       "    <tr>\n",
       "      <th>...</th>\n",
       "      <td>...</td>\n",
       "      <td>...</td>\n",
       "      <td>...</td>\n",
       "      <td>...</td>\n",
       "      <td>...</td>\n",
       "      <td>...</td>\n",
       "    </tr>\n",
       "    <tr>\n",
       "      <th>18236</th>\n",
       "      <td>18236</td>\n",
       "      <td>Grant Park</td>\n",
       "      <td>Red</td>\n",
       "      <td>TRIANGLE</td>\n",
       "      <td>IL</td>\n",
       "      <td>12/31/2000 23:00</td>\n",
       "    </tr>\n",
       "    <tr>\n",
       "      <th>18237</th>\n",
       "      <td>18237</td>\n",
       "      <td>Spirit Lake</td>\n",
       "      <td>Red</td>\n",
       "      <td>DISK</td>\n",
       "      <td>IA</td>\n",
       "      <td>12/31/2000 23:00</td>\n",
       "    </tr>\n",
       "    <tr>\n",
       "      <th>18238</th>\n",
       "      <td>18238</td>\n",
       "      <td>Eagle River</td>\n",
       "      <td>Red</td>\n",
       "      <td>LIGHT</td>\n",
       "      <td>WI</td>\n",
       "      <td>12/31/2000 23:45</td>\n",
       "    </tr>\n",
       "    <tr>\n",
       "      <th>18239</th>\n",
       "      <td>18239</td>\n",
       "      <td>Eagle River</td>\n",
       "      <td>RED</td>\n",
       "      <td>LIGHT</td>\n",
       "      <td>WI</td>\n",
       "      <td>12/31/2000 23:45</td>\n",
       "    </tr>\n",
       "    <tr>\n",
       "      <th>18240</th>\n",
       "      <td>18240</td>\n",
       "      <td>Ybor</td>\n",
       "      <td>Red</td>\n",
       "      <td>OVAL</td>\n",
       "      <td>FL</td>\n",
       "      <td>12/31/2000 23:59</td>\n",
       "    </tr>\n",
       "  </tbody>\n",
       "</table>\n",
       "<p>18241 rows × 6 columns</p>\n",
       "</div>"
      ],
      "text/plain": [
       "       Unnamed: 0                  City Colors Reported Shape Reported State  \\\n",
       "0               0                Ithaca             Red       TRIANGLE    NY   \n",
       "1               1           Willingboro             Red          OTHER    NJ   \n",
       "2               2               Holyoke             Red           OVAL    CO   \n",
       "3               3               Abilene             Red           DISK    KS   \n",
       "4               4  New York Worlds Fair             Red          LIGHT    NY   \n",
       "...           ...                   ...             ...            ...   ...   \n",
       "18236       18236            Grant Park             Red       TRIANGLE    IL   \n",
       "18237       18237           Spirit Lake             Red           DISK    IA   \n",
       "18238       18238           Eagle River             Red          LIGHT    WI   \n",
       "18239       18239           Eagle River             RED          LIGHT    WI   \n",
       "18240       18240                  Ybor             Red           OVAL    FL   \n",
       "\n",
       "                   Time  \n",
       "0        6/1/1930 22:00  \n",
       "1       6/30/1930 20:00  \n",
       "2       2/15/1931 14:00  \n",
       "3        6/1/1931 13:00  \n",
       "4       4/18/1933 19:00  \n",
       "...                 ...  \n",
       "18236  12/31/2000 23:00  \n",
       "18237  12/31/2000 23:00  \n",
       "18238  12/31/2000 23:45  \n",
       "18239  12/31/2000 23:45  \n",
       "18240  12/31/2000 23:59  \n",
       "\n",
       "[18241 rows x 6 columns]"
      ]
     },
     "execution_count": 2,
     "metadata": {},
     "output_type": "execute_result"
    }
   ],
   "source": [
    "ufo"
   ]
  },
  {
   "cell_type": "code",
   "execution_count": null,
   "metadata": {},
   "outputs": [],
   "source": [
    "#ufo[ufo[\"City\"]==\"Seattle\"]\n",
    "\n",
    "#ufo.loc[ufo[\"City\"]==\"Seattle\",:]\n",
    "\n",
    "\n",
    "ufo.iloc[[0,1,2,3,4,5,6,67,34,78,12,999,15000],].drop(\"Unnamed: 0\",axis=1)\n",
    "\n",
    "temp=ufo.iloc[[0,1,2,3,4,5,6,67,34,78,12,999,15000],]\n"
   ]
  },
  {
   "cell_type": "code",
   "execution_count": 5,
   "metadata": {},
   "outputs": [
    {
     "data": {
      "text/html": [
       "<div>\n",
       "<style scoped>\n",
       "    .dataframe tbody tr th:only-of-type {\n",
       "        vertical-align: middle;\n",
       "    }\n",
       "\n",
       "    .dataframe tbody tr th {\n",
       "        vertical-align: top;\n",
       "    }\n",
       "\n",
       "    .dataframe thead th {\n",
       "        text-align: right;\n",
       "    }\n",
       "</style>\n",
       "<table border=\"1\" class=\"dataframe\">\n",
       "  <thead>\n",
       "    <tr style=\"text-align: right;\">\n",
       "      <th></th>\n",
       "      <th>Unnamed: 0</th>\n",
       "      <th>Colors Reported</th>\n",
       "      <th>State</th>\n",
       "    </tr>\n",
       "  </thead>\n",
       "  <tbody>\n",
       "    <tr>\n",
       "      <th>100</th>\n",
       "      <td>100</td>\n",
       "      <td>Red</td>\n",
       "      <td>WV</td>\n",
       "    </tr>\n",
       "    <tr>\n",
       "      <th>106</th>\n",
       "      <td>106</td>\n",
       "      <td>Red</td>\n",
       "      <td>AK</td>\n",
       "    </tr>\n",
       "    <tr>\n",
       "      <th>112</th>\n",
       "      <td>112</td>\n",
       "      <td>Red</td>\n",
       "      <td>WA</td>\n",
       "    </tr>\n",
       "    <tr>\n",
       "      <th>118</th>\n",
       "      <td>118</td>\n",
       "      <td>Red</td>\n",
       "      <td>WV</td>\n",
       "    </tr>\n",
       "    <tr>\n",
       "      <th>124</th>\n",
       "      <td>124</td>\n",
       "      <td>Red</td>\n",
       "      <td>MS</td>\n",
       "    </tr>\n",
       "    <tr>\n",
       "      <th>...</th>\n",
       "      <td>...</td>\n",
       "      <td>...</td>\n",
       "      <td>...</td>\n",
       "    </tr>\n",
       "    <tr>\n",
       "      <th>970</th>\n",
       "      <td>970</td>\n",
       "      <td>Red</td>\n",
       "      <td>PA</td>\n",
       "    </tr>\n",
       "    <tr>\n",
       "      <th>976</th>\n",
       "      <td>976</td>\n",
       "      <td>Red</td>\n",
       "      <td>NY</td>\n",
       "    </tr>\n",
       "    <tr>\n",
       "      <th>982</th>\n",
       "      <td>982</td>\n",
       "      <td>Red</td>\n",
       "      <td>MO</td>\n",
       "    </tr>\n",
       "    <tr>\n",
       "      <th>988</th>\n",
       "      <td>988</td>\n",
       "      <td>Red</td>\n",
       "      <td>KY</td>\n",
       "    </tr>\n",
       "    <tr>\n",
       "      <th>994</th>\n",
       "      <td>994</td>\n",
       "      <td>Red</td>\n",
       "      <td>NY</td>\n",
       "    </tr>\n",
       "  </tbody>\n",
       "</table>\n",
       "<p>150 rows × 3 columns</p>\n",
       "</div>"
      ],
      "text/plain": [
       "     Unnamed: 0 Colors Reported State\n",
       "100         100             Red    WV\n",
       "106         106             Red    AK\n",
       "112         112             Red    WA\n",
       "118         118             Red    WV\n",
       "124         124             Red    MS\n",
       "..          ...             ...   ...\n",
       "970         970             Red    PA\n",
       "976         976             Red    NY\n",
       "982         982             Red    MO\n",
       "988         988             Red    KY\n",
       "994         994             Red    NY\n",
       "\n",
       "[150 rows x 3 columns]"
      ]
     },
     "execution_count": 5,
     "metadata": {},
     "output_type": "execute_result"
    }
   ],
   "source": [
    "#temp.drop(\"Unnamed: 0\",axis=1,inplace=True)\n",
    "#temp\n",
    "\n",
    "ufo.iloc[100:1000:6,::2]"
   ]
  },
  {
   "cell_type": "code",
   "execution_count": 6,
   "metadata": {},
   "outputs": [],
   "source": [
    "#Exercise\n",
    "#Find the name of the Manufacturers who are manufacturing only the Cars(Vehicle_type)\n",
    "#Find the name of the Manufacturer who are manufacturing only the Passenger_Vehicle, also find top3 Manufacturers who-\n",
    "# are manufactuting the most."
   ]
  },
  {
   "cell_type": "code",
   "execution_count": null,
   "metadata": {},
   "outputs": [],
   "source": [
    "#nlargest()\n",
    "#nsmallest()"
   ]
  },
  {
   "cell_type": "code",
   "execution_count": null,
   "metadata": {},
   "outputs": [],
   "source": [
    "#ufo.head()\n",
    "#Seattle, San Diego, Miami, Albuquerque, Springfield, Tucson, Colorado Springs, Jacksonville"
   ]
  },
  {
   "cell_type": "markdown",
   "metadata": {},
   "source": [
    "# Great Job!"
   ]
  }
 ],
 "metadata": {
  "kernelspec": {
   "display_name": "Python 3",
   "language": "python",
   "name": "python3"
  },
  "language_info": {
   "codemirror_mode": {
    "name": "ipython",
    "version": 3
   },
   "file_extension": ".py",
   "mimetype": "text/x-python",
   "name": "python",
   "nbconvert_exporter": "python",
   "pygments_lexer": "ipython3",
   "version": "3.8.8"
  }
 },
 "nbformat": 4,
 "nbformat_minor": 1
}
