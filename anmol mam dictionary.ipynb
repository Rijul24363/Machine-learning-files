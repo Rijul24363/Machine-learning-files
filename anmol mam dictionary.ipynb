{
 "cells": [
  {
   "cell_type": "code",
   "execution_count": 19,
   "metadata": {},
   "outputs": [
    {
     "name": "stdout",
     "output_type": "stream",
     "text": [
      "{1: 123, 2: 345, 3: 678}\n"
     ]
    },
    {
     "data": {
      "text/plain": [
       "3"
      ]
     },
     "execution_count": 19,
     "metadata": {},
     "output_type": "execute_result"
    }
   ],
   "source": [
    "#Each key is separated from its value by a colon (:), the items are separated by commas,\n",
    "# and the whole thing is enclosed in curly braces.\n",
    "# unordered sequence\n",
    "# pair= key:value\n",
    "\n",
    "\n",
    "#( unorederd sequence)\n",
    "ph={1:123,2:345,3:678}\n",
    "print(ph)\n",
    "len(ph)\n"
   ]
  },
  {
   "cell_type": "code",
   "execution_count": 2,
   "metadata": {},
   "outputs": [
    {
     "name": "stdout",
     "output_type": "stream",
     "text": [
      "{'aman': 555, 'anu': 345, 'iop': 678}\n"
     ]
    }
   ],
   "source": [
    "#More than one entry per key not allowed. Which means no duplicate key is allowed.\n",
    "#When duplicate keys encountered during assignment, the last assignment wins. \n",
    "#Keys are immutable but values can be modified\n",
    "\n",
    "ph={'aman':123,'aman':555,'anu':345,'iop':678}\n",
    "print(ph)\n"
   ]
  },
  {
   "cell_type": "code",
   "execution_count": 6,
   "metadata": {},
   "outputs": [
    {
     "data": {
      "text/plain": [
       "345"
      ]
     },
     "execution_count": 6,
     "metadata": {},
     "output_type": "execute_result"
    }
   ],
   "source": [
    "# to aceess the value from dictionary\n",
    "#variablename[key]\n",
    "ph[\"aman\"]\n",
    "ph[\"anu\"]"
   ]
  },
  {
   "cell_type": "code",
   "execution_count": null,
   "metadata": {},
   "outputs": [],
   "source": []
  },
  {
   "cell_type": "code",
   "execution_count": 6,
   "metadata": {},
   "outputs": [
    {
     "name": "stdout",
     "output_type": "stream",
     "text": [
      "{'aman': 123345, 'anu': 345, 'iop': 678}\n"
     ]
    },
    {
     "data": {
      "text/plain": [
       "{'aman': 123345, 'anu': 345, 'iop': 678, 'avi': 76576}"
      ]
     },
     "execution_count": 6,
     "metadata": {},
     "output_type": "execute_result"
    }
   ],
   "source": [
    "ph['aman']=123345  ##updating existing value\n",
    "print(ph)\n",
    "# variablename[\"new key\"]=new value\n",
    "ph[\"avi\"]=76576  # add new item in dictionary\n",
    "ph"
   ]
  },
  {
   "cell_type": "code",
   "execution_count": 9,
   "metadata": {},
   "outputs": [
    {
     "name": "stdout",
     "output_type": "stream",
     "text": [
      "{'aman': 123345, 'anu': 22334, 'iop': 678, 'avi': 76576}\n",
      "dict_values([123345, 22334, 678, 76576])\n",
      "dict_keys(['aman', 'anu', 'iop', 'avi'])\n"
     ]
    },
    {
     "data": {
      "text/plain": [
       "4"
      ]
     },
     "execution_count": 9,
     "metadata": {},
     "output_type": "execute_result"
    }
   ],
   "source": [
    "ph['anu']=22334 #updating existing value\n",
    "print(ph)\n",
    "print(ph.values()) # to get all values\n",
    "print(ph.keys())# to get all keys\n",
    "len(ph)"
   ]
  },
  {
   "cell_type": "code",
   "execution_count": 7,
   "metadata": {},
   "outputs": [
    {
     "name": "stdout",
     "output_type": "stream",
     "text": [
      "{'aman': 555, 'iop': 678}\n"
     ]
    },
    {
     "data": {
      "text/plain": [
       "2"
      ]
     },
     "execution_count": 7,
     "metadata": {},
     "output_type": "execute_result"
    }
   ],
   "source": [
    "#to delete the item from dictionary\n",
    "\n",
    "del ph['anu']  # ph.pop(\"anu\") for deleting entry\n",
    "print(ph)\n",
    "\n",
    "len(ph)\n",
    "\n"
   ]
  },
  {
   "cell_type": "code",
   "execution_count": 8,
   "metadata": {},
   "outputs": [
    {
     "name": "stdout",
     "output_type": "stream",
     "text": [
      "{}\n"
     ]
    }
   ],
   "source": [
    "\n",
    "ph.clear()  # for clearing all entries\n",
    "print(ph)# empty dictionary \n"
   ]
  },
  {
   "cell_type": "code",
   "execution_count": 9,
   "metadata": {},
   "outputs": [
    {
     "name": "stdout",
     "output_type": "stream",
     "text": [
      "{'dog': 'husky', 'Tiger': 'Animal'}\n"
     ]
    }
   ],
   "source": [
    "#Lets work on 2 dictionaries\n",
    "\n",
    "# First dictionary. \n",
    "pets1 = {\"cat\": \"black\", \"dog\": \"white\"} \n",
    "\n",
    "# Second dictionary. \n",
    "pets2 = {\"dog\": \"animal\", \"Tiger\": \"Animal\",\"dog\":\"husky\"} \n",
    "print(pets2)\n",
    "\n",
    "\n",
    "\n",
    "\n"
   ]
  },
  {
   "cell_type": "code",
   "execution_count": null,
   "metadata": {},
   "outputs": [],
   "source": [
    "pets1.update(pets2)   # Update first dictionary with second. print(pets1)\n",
    "print(pets1)\n",
    "print(pets2)"
   ]
  },
  {
   "cell_type": "code",
   "execution_count": 17,
   "metadata": {},
   "outputs": [
    {
     "name": "stdout",
     "output_type": "stream",
     "text": [
      "dict_values(['black', 'husky', 'Animal'])\n"
     ]
    },
    {
     "data": {
      "text/plain": [
       "dict_keys(['cat', 'dog', 'Tiger'])"
      ]
     },
     "execution_count": 17,
     "metadata": {},
     "output_type": "execute_result"
    }
   ],
   "source": [
    "print(pets1.values())\n",
    "pets1.keys()"
   ]
  }
 ],
 "metadata": {
  "kernelspec": {
   "display_name": "Python 3",
   "language": "python",
   "name": "python3"
  },
  "language_info": {
   "codemirror_mode": {
    "name": "ipython",
    "version": 3
   },
   "file_extension": ".py",
   "mimetype": "text/x-python",
   "name": "python",
   "nbconvert_exporter": "python",
   "pygments_lexer": "ipython3",
   "version": "3.8.5"
  }
 },
 "nbformat": 4,
 "nbformat_minor": 2
}
