{
 "cells": [
  {
   "cell_type": "code",
   "execution_count": null,
   "id": "161693fe",
   "metadata": {},
   "outputs": [],
   "source": [
    "# for loops"
   ]
  },
  {
   "cell_type": "markdown",
   "id": "f1b30137",
   "metadata": {},
   "source": []
  },
  {
   "cell_type": "code",
   "execution_count": 6,
   "id": "b3b1a771",
   "metadata": {},
   "outputs": [
    {
     "data": {
      "text/plain": [
       "[1, 2, 3, 4, 5, 'rizul', 6, 7, 8, 9, 10, 11, 12, 13]"
      ]
     },
     "execution_count": 6,
     "metadata": {},
     "output_type": "execute_result"
    }
   ],
   "source": [
    "seq = [1,2,3,4,5, \"rizul\", 6,7,8,9,10,11,12,13]\n",
    "seq"
   ]
  },
  {
   "cell_type": "code",
   "execution_count": 9,
   "id": "5130ed92",
   "metadata": {},
   "outputs": [
    {
     "name": "stdout",
     "output_type": "stream",
     "text": [
      "1\n",
      "2\n",
      "3\n",
      "4\n",
      "5\n",
      "rizul\n",
      "6\n",
      "7\n",
      "8\n",
      "9\n",
      "10\n",
      "11\n",
      "12\n",
      "13\n"
     ]
    },
    {
     "data": {
      "text/plain": [
       "13"
      ]
     },
     "execution_count": 9,
     "metadata": {},
     "output_type": "execute_result"
    }
   ],
   "source": [
    "for star in seq:\n",
    "    print(star)\n",
    "    \n",
    "star"
   ]
  },
  {
   "cell_type": "code",
   "execution_count": 12,
   "id": "367d2be8",
   "metadata": {},
   "outputs": [
    {
     "name": "stdout",
     "output_type": "stream",
     "text": [
      "G\n",
      "o\n",
      "o\n",
      "d\n",
      " \n",
      "M\n",
      "o\n",
      "r\n",
      "n\n",
      "i\n",
      "n\n",
      "g\n"
     ]
    },
    {
     "data": {
      "text/plain": [
       "[1, 2, 3, 4, 5, 'rizul', 6, 7, 8, 9, 10, 11, 12, 13]"
      ]
     },
     "execution_count": 12,
     "metadata": {},
     "output_type": "execute_result"
    }
   ],
   "source": [
    "for fun in \"Good Morning\":\n",
    "    print(fun)\n",
    "\n",
    "fun\n",
    "seq\n"
   ]
  },
  {
   "cell_type": "code",
   "execution_count": 13,
   "id": "3039a0c0",
   "metadata": {},
   "outputs": [
    {
     "name": "stdout",
     "output_type": "stream",
     "text": [
      "yup\n",
      "yup\n",
      "yup\n",
      "yup\n",
      "yup\n",
      "yup\n",
      "yup\n",
      "yup\n",
      "yup\n",
      "yup\n",
      "yup\n",
      "yup\n",
      "yup\n",
      "yup\n"
     ]
    }
   ],
   "source": [
    "for item in seq:\n",
    "    print('yup')"
   ]
  },
  {
   "cell_type": "code",
   "execution_count": 16,
   "id": "ed3a2210",
   "metadata": {},
   "outputs": [
    {
     "name": "stdout",
     "output_type": "stream",
     "text": [
      "1. Iteration- 10/1\n",
      "13.0\n",
      "\n",
      "2. Iteration- 10/2\n",
      "6.5\n",
      "\n",
      "3. Iteration- 10/3\n",
      "4.333333333333333\n",
      "\n",
      "4. Iteration- 10/4\n",
      "3.25\n",
      "\n",
      "5. Iteration- 10/5\n",
      "2.6\n",
      "\n",
      "rizul. Iteration- 10/rizul\n"
     ]
    },
    {
     "ename": "TypeError",
     "evalue": "unsupported operand type(s) for /: 'int' and 'str'",
     "output_type": "error",
     "traceback": [
      "\u001b[1;31m---------------------------------------------------------------------------\u001b[0m",
      "\u001b[1;31mTypeError\u001b[0m                                 Traceback (most recent call last)",
      "\u001b[1;32m<ipython-input-16-d0583bc423dc>\u001b[0m in \u001b[0;36m<module>\u001b[1;34m\u001b[0m\n\u001b[0;32m      3\u001b[0m \u001b[1;32mfor\u001b[0m \u001b[0mjelly\u001b[0m \u001b[1;32min\u001b[0m \u001b[0mseq\u001b[0m\u001b[1;33m:\u001b[0m\u001b[1;33m\u001b[0m\u001b[1;33m\u001b[0m\u001b[0m\n\u001b[0;32m      4\u001b[0m     \u001b[0mprint\u001b[0m\u001b[1;33m(\u001b[0m\u001b[1;34m\"{}. Iteration- 10/{}\"\u001b[0m\u001b[1;33m.\u001b[0m\u001b[0mformat\u001b[0m\u001b[1;33m(\u001b[0m\u001b[0mjelly\u001b[0m\u001b[1;33m,\u001b[0m\u001b[0mjelly\u001b[0m\u001b[1;33m)\u001b[0m\u001b[1;33m)\u001b[0m\u001b[1;33m\u001b[0m\u001b[1;33m\u001b[0m\u001b[0m\n\u001b[1;32m----> 5\u001b[1;33m     \u001b[0mprint\u001b[0m\u001b[1;33m(\u001b[0m\u001b[0mstar\u001b[0m\u001b[1;33m/\u001b[0m\u001b[0mjelly\u001b[0m\u001b[1;33m)\u001b[0m\u001b[1;33m\u001b[0m\u001b[1;33m\u001b[0m\u001b[0m\n\u001b[0m\u001b[0;32m      6\u001b[0m     \u001b[0mprint\u001b[0m\u001b[1;33m(\u001b[0m\u001b[1;33m)\u001b[0m\u001b[1;33m\u001b[0m\u001b[1;33m\u001b[0m\u001b[0m\n",
      "\u001b[1;31mTypeError\u001b[0m: unsupported operand type(s) for /: 'int' and 'str'"
     ]
    }
   ],
   "source": [
    "#indentation \n",
    "\n",
    "for jelly in seq:\n",
    "    print(\"{}. Iteration- 10/{}\".format(jelly,jelly))\n",
    "    print(star/jelly)\n",
    "    print()"
   ]
  },
  {
   "cell_type": "code",
   "execution_count": 17,
   "id": "d9b516d8",
   "metadata": {},
   "outputs": [
    {
     "name": "stdout",
     "output_type": "stream",
     "text": [
      "1*1=1 \n",
      "\n",
      "2*2=4 \n",
      "\n",
      "5*5=25 \n",
      "\n",
      "6*6=36 \n",
      "\n",
      "7*7=49 \n",
      "\n",
      "8*8=64 \n",
      "\n",
      "25*25=625 \n",
      "\n"
     ]
    }
   ],
   "source": [
    "num = [1,2,5,6,7,8,25]\n",
    "sq = []\n",
    "for i in num:\n",
    "    z = i*i\n",
    "    print(\"{}*{}={}\".format(i,i,z),\"\\n\")\n",
    "    sq.append(z)"
   ]
  },
  {
   "cell_type": "code",
   "execution_count": 18,
   "id": "57c37f38",
   "metadata": {},
   "outputs": [
    {
     "data": {
      "text/plain": [
       "[1, 4, 25, 36, 49, 64, 625]"
      ]
     },
     "execution_count": 18,
     "metadata": {},
     "output_type": "execute_result"
    }
   ],
   "source": [
    "sq"
   ]
  },
  {
   "cell_type": "code",
   "execution_count": null,
   "id": "424ad72e",
   "metadata": {},
   "outputs": [],
   "source": [
    "# while loops"
   ]
  },
  {
   "cell_type": "code",
   "execution_count": 26,
   "id": "cd1e2ee2",
   "metadata": {},
   "outputs": [
    {
     "name": "stdout",
     "output_type": "stream",
     "text": [
      "i is: 0\n",
      "1\n",
      "i is: 1\n",
      "2\n",
      "i is: 2\n",
      "3\n",
      "i is: 3\n",
      "4\n",
      "i is: 4\n",
      "5\n",
      "i is: 5\n",
      "6\n",
      "i is: 6\n",
      "7\n",
      "i is: 7\n",
      "8\n",
      "i is: 8\n",
      "9\n",
      "i is: 9\n",
      "10\n",
      "i is: 10\n",
      "11\n"
     ]
    }
   ],
   "source": [
    "i = 0\n",
    "while i <= 10: \n",
    "    print(f'i is: {i}')      # Latest or traditional \n",
    "    #print(\"i is:\",i)\n",
    "    #print(\"i is: {}\".format(i))  # Traditional\n",
    "    #print (\"i is: \"+str(i))    \n",
    "    i = i + 1\n",
    "    print(i)"
   ]
  },
  {
   "cell_type": "code",
   "execution_count": 27,
   "id": "ab3a49c1",
   "metadata": {},
   "outputs": [
    {
     "name": "stdout",
     "output_type": "stream",
     "text": [
      "[1, 2, 3, 4, 5, 6, 7, 8, 9, 10]\n",
      "\n",
      "\n",
      "[1, 2, 3, 4, 5, 6, 7, 8, 9, 10]\n"
     ]
    }
   ],
   "source": [
    "# list comprehension \n",
    "\n",
    "# simple list comprehension \n",
    "\n",
    "x = [i + 1 for i in range(10)]\n",
    "print(x)\n",
    "\n",
    "print(\"\\n\")\n",
    "y = []\n",
    "for i in range(10):\n",
    "    y.append(i + 1)\n",
    "print(y)"
   ]
  },
  {
   "cell_type": "code",
   "execution_count": 31,
   "id": "2b603909",
   "metadata": {},
   "outputs": [
    {
     "name": "stdout",
     "output_type": "stream",
     "text": [
      "[0, 2, 4, 6, 8, 10, 12, 14, 16, 18]\n",
      "\n",
      "\n",
      "[0, 2, 4, 6, 8, 10, 12, 14, 16, 18]\n"
     ]
    }
   ],
   "source": [
    "x = [i+i for i in range(10)]\n",
    "print(x)\n",
    "\n",
    "print(\"\\n\")\n",
    "y = []\n",
    "for i in range(10):\n",
    "    y.append(i+i)\n",
    "print(y)"
   ]
  },
  {
   "cell_type": "code",
   "execution_count": 32,
   "id": "4fc3442b",
   "metadata": {},
   "outputs": [
    {
     "name": "stdout",
     "output_type": "stream",
     "text": [
      "100\n",
      "101\n",
      "102\n",
      "103\n",
      "104\n",
      "105\n",
      "106\n",
      "107\n",
      "108\n",
      "109\n",
      "110\n",
      "111\n",
      "112\n",
      "113\n",
      "114\n",
      "115\n",
      "116\n",
      "117\n",
      "118\n",
      "119\n",
      "120\n",
      "121\n",
      "122\n",
      "123\n",
      "124\n",
      "125\n",
      "126\n",
      "127\n",
      "128\n",
      "129\n",
      "130\n",
      "131\n",
      "132\n",
      "133\n",
      "134\n",
      "135\n",
      "136\n",
      "137\n",
      "138\n",
      "139\n",
      "140\n",
      "141\n",
      "142\n",
      "143\n",
      "144\n",
      "145\n",
      "146\n",
      "147\n",
      "148\n",
      "149\n",
      "150\n",
      "151\n",
      "152\n",
      "153\n",
      "154\n",
      "155\n",
      "156\n",
      "157\n",
      "158\n",
      "159\n",
      "160\n",
      "161\n",
      "162\n",
      "163\n",
      "164\n",
      "165\n",
      "166\n",
      "167\n",
      "168\n",
      "169\n",
      "170\n",
      "171\n",
      "172\n",
      "173\n",
      "174\n",
      "175\n",
      "176\n",
      "177\n",
      "178\n",
      "179\n",
      "180\n",
      "181\n",
      "182\n",
      "183\n",
      "184\n",
      "185\n",
      "186\n",
      "187\n",
      "188\n",
      "189\n",
      "190\n",
      "191\n",
      "192\n",
      "193\n",
      "194\n",
      "195\n",
      "196\n",
      "197\n",
      "198\n",
      "199\n"
     ]
    }
   ],
   "source": [
    "for i in range(100,200):\n",
    "    print(i)"
   ]
  },
  {
   "cell_type": "code",
   "execution_count": 34,
   "id": "95c6f2df",
   "metadata": {},
   "outputs": [
    {
     "name": "stdout",
     "output_type": "stream",
     "text": [
      "[0, 1, 4, 9, 16, 25, 36, 49, 64, 81]\n",
      "\n",
      "\n",
      "[0, 1, 4, 9, 16, 25, 36, 49, 64, 81]\n"
     ]
    }
   ],
   "source": [
    "# for loops vs list comprehension\n",
    "\n",
    "sq = []\n",
    "for x in range(10):\n",
    "    sq.append(x**2)\n",
    "print(sq)\n",
    "    \n",
    "print(\"\\n\")\n",
    "\n",
    "#list comprehensions\n",
    "squares=[x**2 for x in range(10)]\n",
    "print(squares)"
   ]
  },
  {
   "cell_type": "code",
   "execution_count": 35,
   "id": "900938af",
   "metadata": {},
   "outputs": [
    {
     "name": "stdout",
     "output_type": "stream",
     "text": [
      "[2, 3, 4, 5, 6, 7, 8, 9, 10, 11]\n",
      "\n",
      "\n",
      "[2, 3, 4, 5, 6, 7, 8, 9, 10, 11]\n"
     ]
    }
   ],
   "source": [
    "# for loops\n",
    "sq=[]\n",
    "for x in range(10):\n",
    "    sq.append(x+2)\n",
    "print(sq)\n",
    "    \n",
    "print(\"\\n\")\n",
    "    \n",
    "#list comprehensions\n",
    "squares=[x+2 for x in range(10)]\n",
    "print(squares)"
   ]
  },
  {
   "cell_type": "code",
   "execution_count": 38,
   "id": "074398e0",
   "metadata": {},
   "outputs": [
    {
     "name": "stdout",
     "output_type": "stream",
     "text": [
      "[12.0, 16.333333333333336, 21.333333333333332, 16.333333333333336, 8.333333333333334, 0.3333333333333333, 27.0]\n",
      "[12.0, 16.333333333333336, 21.333333333333332, 16.333333333333336, 8.333333333333334, 0.3333333333333333, 27.0]\n"
     ]
    }
   ],
   "source": [
    "list1=[6,7,8,7,5,1,9]\n",
    "multiple=[item*(item/3) for item in list1]\n",
    "print(multiple)\n",
    "\n",
    "# execute the code with for loops as well by using append function.\n",
    "\n",
    "sq=[]\n",
    "for i in list1:\n",
    "    sq.append(i*(i/3))\n",
    "print(sq)"
   ]
  },
  {
   "cell_type": "code",
   "execution_count": null,
   "id": "65c73e8f",
   "metadata": {},
   "outputs": [],
   "source": [
    "# Functions\n",
    "# Basic function"
   ]
  },
  {
   "cell_type": "code",
   "execution_count": 39,
   "id": "d929cbbd",
   "metadata": {},
   "outputs": [],
   "source": [
    "def fun_session(x):\n",
    "    return min(x)/max(x)"
   ]
  },
  {
   "cell_type": "code",
   "execution_count": 40,
   "id": "79d6cca1",
   "metadata": {},
   "outputs": [
    {
     "data": {
      "text/plain": [
       "0.06493506493506493"
      ]
     },
     "execution_count": 40,
     "metadata": {},
     "output_type": "execute_result"
    }
   ],
   "source": [
    "5/77"
   ]
  },
  {
   "cell_type": "code",
   "execution_count": 41,
   "id": "9530a756",
   "metadata": {},
   "outputs": [
    {
     "data": {
      "text/plain": [
       "0.0449438202247191"
      ]
     },
     "execution_count": 41,
     "metadata": {},
     "output_type": "execute_result"
    }
   ],
   "source": [
    "kite=[5,6,7,8,9,4,10,14,15,18,21,77,89]\n",
    "fun_session(kite)"
   ]
  },
  {
   "cell_type": "code",
   "execution_count": 42,
   "id": "11f4a01a",
   "metadata": {},
   "outputs": [
    {
     "data": {
      "text/plain": [
       "20"
      ]
     },
     "execution_count": 42,
     "metadata": {},
     "output_type": "execute_result"
    }
   ],
   "source": [
    "def multiplication(x,y):\n",
    "    mult=x*y\n",
    "    return mult;\n",
    "multiplication(10,2)"
   ]
  },
  {
   "cell_type": "code",
   "execution_count": 44,
   "id": "734752bf",
   "metadata": {},
   "outputs": [
    {
     "data": {
      "text/plain": [
       "12"
      ]
     },
     "execution_count": 44,
     "metadata": {},
     "output_type": "execute_result"
    }
   ],
   "source": [
    "def add(x,y):\n",
    "    return x+y\n",
    "\n",
    "add(10,2)"
   ]
  },
  {
   "cell_type": "code",
   "execution_count": 45,
   "id": "76aedf98",
   "metadata": {},
   "outputs": [
    {
     "name": "stdout",
     "output_type": "stream",
     "text": [
      "68.0 Fahrenheit\n"
     ]
    }
   ],
   "source": [
    "def celcius_to_fahre(x):\n",
    "    fah=((x*1.8)+32)\n",
    "    print(fah,\"Fahrenheit\")\n",
    "celcius_to_fahre(20)"
   ]
  },
  {
   "cell_type": "code",
   "execution_count": null,
   "id": "f52f1442",
   "metadata": {},
   "outputs": [],
   "source": [
    "# Exercise1  convert Fahrenheit to celcius.\n",
    "# Exercise2 convert kilometer per litre to miles per gallon\n",
    "# Exercise3 convert km/h to meter/second"
   ]
  },
  {
   "cell_type": "code",
   "execution_count": 49,
   "id": "f252786b",
   "metadata": {},
   "outputs": [
    {
     "name": "stdout",
     "output_type": "stream",
     "text": [
      "101.0 celcius\n"
     ]
    }
   ],
   "source": []
  },
  {
   "cell_type": "code",
   "execution_count": null,
   "id": "546cbed6",
   "metadata": {},
   "outputs": [],
   "source": [
    "# methods"
   ]
  },
  {
   "cell_type": "code",
   "execution_count": 50,
   "id": "16d39538",
   "metadata": {},
   "outputs": [
    {
     "data": {
      "text/plain": [
       "'Hello my name is rizul'"
      ]
     },
     "execution_count": 50,
     "metadata": {},
     "output_type": "execute_result"
    }
   ],
   "source": [
    "st='Hello my name is rizul'\n",
    "st"
   ]
  },
  {
   "cell_type": "code",
   "execution_count": 51,
   "id": "7cba4d53",
   "metadata": {},
   "outputs": [
    {
     "data": {
      "text/plain": [
       "'hello my name is rizul'"
      ]
     },
     "execution_count": 51,
     "metadata": {},
     "output_type": "execute_result"
    }
   ],
   "source": [
    "st.lower()"
   ]
  },
  {
   "cell_type": "code",
   "execution_count": 52,
   "id": "60e17af1",
   "metadata": {},
   "outputs": [
    {
     "data": {
      "text/plain": [
       "'HELLO MY NAME IS RIZUL'"
      ]
     },
     "execution_count": 52,
     "metadata": {},
     "output_type": "execute_result"
    }
   ],
   "source": [
    "st.upper()"
   ]
  },
  {
   "cell_type": "code",
   "execution_count": 53,
   "id": "2eddf2c8",
   "metadata": {},
   "outputs": [
    {
     "data": {
      "text/plain": [
       "['Hello', 'my', 'name', 'is', 'rizul']"
      ]
     },
     "execution_count": 53,
     "metadata": {},
     "output_type": "execute_result"
    }
   ],
   "source": [
    "x=st.split()\n",
    "x"
   ]
  },
  {
   "cell_type": "code",
   "execution_count": 58,
   "id": "67e4c75b",
   "metadata": {},
   "outputs": [
    {
     "name": "stdout",
     "output_type": "stream",
     "text": [
      "['I', \"can't\", 'wait', 'to', 'go', '@', 'the', 'amusement', 'park']\n"
     ]
    }
   ],
   "source": [
    "mes2=\"I can't wait to go @ the amusement park\"\n",
    "#print(mes2.split(\"to\"),\"\\n\")\n",
    "print(mes2.split())"
   ]
  },
  {
   "cell_type": "code",
   "execution_count": 59,
   "id": "166e43d0",
   "metadata": {},
   "outputs": [
    {
     "name": "stdout",
     "output_type": "stream",
     "text": [
      "['my', 'age', 'is', '21']\n"
     ]
    },
    {
     "data": {
      "text/plain": [
       "'AGE'"
      ]
     },
     "execution_count": 59,
     "metadata": {},
     "output_type": "execute_result"
    }
   ],
   "source": [
    "# Exercise\n",
    "ss=\"my age is 21\"\n",
    "ss1=ss.split()\n",
    "print(ss1)\n",
    "ss1[1].upper()"
   ]
  },
  {
   "cell_type": "code",
   "execution_count": 60,
   "id": "bd3c5a78",
   "metadata": {},
   "outputs": [
    {
     "name": "stdout",
     "output_type": "stream",
     "text": [
      "['my', 'age', 'is', '21']\n"
     ]
    },
    {
     "data": {
      "text/plain": [
       "'MY'"
      ]
     },
     "execution_count": 60,
     "metadata": {},
     "output_type": "execute_result"
    }
   ],
   "source": [
    "print(ss1)\n",
    "ss1[0].upper()"
   ]
  },
  {
   "cell_type": "code",
   "execution_count": 61,
   "id": "321e629f",
   "metadata": {},
   "outputs": [
    {
     "name": "stdout",
     "output_type": "stream",
     "text": [
      "['go sports! ', 'sports']\n",
      "['go sports', ' #sports']\n",
      "go sports\n",
      " #sports\n"
     ]
    }
   ],
   "source": [
    "tweet = 'go sports! #sports'\n",
    "print(tweet.split(\"#\"))\n",
    "print(tweet.split(\"!\"))\n",
    "print(tweet.split(\"!\")[0])\n",
    "print(tweet.split(\"!\")[1])\n"
   ]
  },
  {
   "cell_type": "code",
   "execution_count": null,
   "id": "88fcacfa",
   "metadata": {},
   "outputs": [],
   "source": [
    "tweet = 'go sports! #sports'\n",
    "\n",
    "# work on below exercise as well\n",
    "\n",
    "#\"Good morning! How is the Day! What time is it?\"\n",
    "#\"Welcome home buddy! I have got 200$ for shopping\"\n",
    "#\"I can't wait to go to the amusement park\"\n",
    "#Split the string on!\n",
    "#Split the string on ! and $ seperately\n",
    "# Transform the strings in upper case."
   ]
  },
  {
   "cell_type": "code",
   "execution_count": 65,
   "id": "eea44d38",
   "metadata": {},
   "outputs": [
    {
     "ename": "AttributeError",
     "evalue": "'list' object has no attribute 'split'",
     "output_type": "error",
     "traceback": [
      "\u001b[1;31m---------------------------------------------------------------------------\u001b[0m",
      "\u001b[1;31mAttributeError\u001b[0m                            Traceback (most recent call last)",
      "\u001b[1;32m<ipython-input-65-d1830e4ba2c3>\u001b[0m in \u001b[0;36m<module>\u001b[1;34m\u001b[0m\n\u001b[0;32m      1\u001b[0m \u001b[0mtweet\u001b[0m \u001b[1;33m=\u001b[0m \u001b[1;34m\"Welcome home buddy! I have got 200$ for shopping\"\u001b[0m\u001b[1;33m\u001b[0m\u001b[1;33m\u001b[0m\u001b[0m\n\u001b[1;32m----> 2\u001b[1;33m \u001b[0mprint\u001b[0m\u001b[1;33m(\u001b[0m\u001b[0mx\u001b[0m\u001b[1;33m.\u001b[0m\u001b[0msplit\u001b[0m\u001b[1;33m(\u001b[0m\u001b[1;34m\"!\"\u001b[0m\u001b[1;33m)\u001b[0m\u001b[1;33m)\u001b[0m\u001b[1;33m\u001b[0m\u001b[1;33m\u001b[0m\u001b[0m\n\u001b[0m\u001b[0;32m      3\u001b[0m \u001b[0mx\u001b[0m\u001b[1;33m.\u001b[0m\u001b[0msplit\u001b[0m\u001b[1;33m(\u001b[0m\u001b[1;34m\"$\"\u001b[0m\u001b[1;33m)\u001b[0m\u001b[1;33m\u001b[0m\u001b[1;33m\u001b[0m\u001b[0m\n",
      "\u001b[1;31mAttributeError\u001b[0m: 'list' object has no attribute 'split'"
     ]
    }
   ],
   "source": [
    "tweet = \"Welcome home buddy! I have got 200$ for shopping\"\n",
    "print(x.split(\"!\"))\n",
    "x.split(\"$\")"
   ]
  },
  {
   "cell_type": "code",
   "execution_count": null,
   "id": "13cf7700",
   "metadata": {},
   "outputs": [
    {
     "name": "stdout",
     "output_type": "stream",
     "text": [
      "How many records you want56\n",
      "Namerizul\n",
      "Age21\n"
     ]
    }
   ],
   "source": [
    "x=int(input(\"How many records you want\"))\n",
    "list1=[]\n",
    "for i in range(x):\n",
    "    name1=input(\"Name\")\n",
    "    age1=float(input(\"Age\"))\n",
    "    list1.extend([name1,age1])\n",
    "print(list1)"
   ]
  },
  {
   "cell_type": "code",
   "execution_count": null,
   "id": "640d26f8",
   "metadata": {},
   "outputs": [],
   "source": [
    "#sorting\n",
    "a=[7,8,9,6,10,16]\n",
    "a.sort()\n",
    "print(a)\n",
    "a.sort(reverse=True)\n",
    "a"
   ]
  },
  {
   "cell_type": "code",
   "execution_count": null,
   "id": "9b662ed8",
   "metadata": {},
   "outputs": [],
   "source": [
    "# concatenation\n",
    "[56,\"fish\",\"sun\",99]+[7,6,\"rise\",5,55]"
   ]
  },
  {
   "cell_type": "code",
   "execution_count": null,
   "id": "09998bf0",
   "metadata": {},
   "outputs": [],
   "source": []
  },
  {
   "cell_type": "code",
   "execution_count": null,
   "id": "50e57b8c",
   "metadata": {},
   "outputs": [],
   "source": []
  }
 ],
 "metadata": {
  "kernelspec": {
   "display_name": "Python 3",
   "language": "python",
   "name": "python3"
  },
  "language_info": {
   "codemirror_mode": {
    "name": "ipython",
    "version": 3
   },
   "file_extension": ".py",
   "mimetype": "text/x-python",
   "name": "python",
   "nbconvert_exporter": "python",
   "pygments_lexer": "ipython3",
   "version": "3.8.8"
  }
 },
 "nbformat": 4,
 "nbformat_minor": 5
}
