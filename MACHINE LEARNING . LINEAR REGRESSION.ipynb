{
 "cells": [
  {
   "cell_type": "code",
   "execution_count": 1,
   "id": "9c059204",
   "metadata": {},
   "outputs": [],
   "source": [
    "import pandas as pd\n",
    "import numpy as np\n",
    "import seaborn as sns\n",
    "import matplotlib.pyplot as plt"
   ]
  },
  {
   "cell_type": "code",
   "execution_count": 3,
   "id": "4c8546cf",
   "metadata": {},
   "outputs": [
    {
     "data": {
      "text/html": [
       "<div>\n",
       "<style scoped>\n",
       "    .dataframe tbody tr th:only-of-type {\n",
       "        vertical-align: middle;\n",
       "    }\n",
       "\n",
       "    .dataframe tbody tr th {\n",
       "        vertical-align: top;\n",
       "    }\n",
       "\n",
       "    .dataframe thead th {\n",
       "        text-align: right;\n",
       "    }\n",
       "</style>\n",
       "<table border=\"1\" class=\"dataframe\">\n",
       "  <thead>\n",
       "    <tr style=\"text-align: right;\">\n",
       "      <th></th>\n",
       "      <th>TV</th>\n",
       "      <th>radio</th>\n",
       "      <th>newspaper</th>\n",
       "      <th>sales</th>\n",
       "    </tr>\n",
       "  </thead>\n",
       "  <tbody>\n",
       "    <tr>\n",
       "      <th>0</th>\n",
       "      <td>230.1</td>\n",
       "      <td>37.8</td>\n",
       "      <td>69.2</td>\n",
       "      <td>2210</td>\n",
       "    </tr>\n",
       "    <tr>\n",
       "      <th>1</th>\n",
       "      <td>44.5</td>\n",
       "      <td>39.3</td>\n",
       "      <td>45.1</td>\n",
       "      <td>1040</td>\n",
       "    </tr>\n",
       "    <tr>\n",
       "      <th>2</th>\n",
       "      <td>17.2</td>\n",
       "      <td>45.9</td>\n",
       "      <td>69.3</td>\n",
       "      <td>930</td>\n",
       "    </tr>\n",
       "    <tr>\n",
       "      <th>3</th>\n",
       "      <td>151.5</td>\n",
       "      <td>41.3</td>\n",
       "      <td>58.5</td>\n",
       "      <td>1850</td>\n",
       "    </tr>\n",
       "    <tr>\n",
       "      <th>4</th>\n",
       "      <td>180.8</td>\n",
       "      <td>10.8</td>\n",
       "      <td>58.4</td>\n",
       "      <td>1290</td>\n",
       "    </tr>\n",
       "  </tbody>\n",
       "</table>\n",
       "</div>"
      ],
      "text/plain": [
       "      TV  radio  newspaper  sales\n",
       "0  230.1   37.8       69.2   2210\n",
       "1   44.5   39.3       45.1   1040\n",
       "2   17.2   45.9       69.3    930\n",
       "3  151.5   41.3       58.5   1850\n",
       "4  180.8   10.8       58.4   1290"
      ]
     },
     "execution_count": 3,
     "metadata": {},
     "output_type": "execute_result"
    }
   ],
   "source": [
    "#importing the dataset\n",
    "data = pd.read_csv(\"C:\\\\Users\\\\rijul\\\\Downloads\\\\Advertising_data.csv\")\n",
    "data.head()"
   ]
  },
  {
   "cell_type": "code",
   "execution_count": null,
   "id": "76226d31",
   "metadata": {},
   "outputs": [],
   "source": [
    "# SIMPLE LINEAR REGRESSION"
   ]
  },
  {
   "cell_type": "code",
   "execution_count": 13,
   "id": "52dcdfd5",
   "metadata": {},
   "outputs": [],
   "source": [
    "# INITIALISING THE VARIABLES\n",
    "X = data['TV'].values.reshape(-1,1)\n",
    "y = data['sales'].values.reshape(-1,1)"
   ]
  },
  {
   "cell_type": "code",
   "execution_count": null,
   "id": "cdcc48ef",
   "metadata": {},
   "outputs": [],
   "source": [
    "# plotting the graph to see the points"
   ]
  },
  {
   "cell_type": "code",
   "execution_count": 15,
   "id": "46df20e9",
   "metadata": {},
   "outputs": [
    {
     "data": {
      "image/png": "[encoded data removed]",
      "text/plain": [
       "<Figure size 1152x576 with 1 Axes>"
      ]
     },
     "metadata": {
      "needs_background": "light"
     },
     "output_type": "display_data"
    }
   ],
   "source": [
    "plt.figure(figsize=(16,8))\n",
    "plt.scatter(X, y, c='black')\n",
    "plt.xlabel(\"Money spent on TV acs ($)\")\n",
    "plt.ylabel(\"Sales ($)\")\n",
    "plt.show()"
   ]
  },
  {
   "cell_type": "code",
   "execution_count": 14,
   "id": "544769ee",
   "metadata": {},
   "outputs": [],
   "source": [
    "# splitting our dataset to training and testing dataset\n",
    "from sklearn.model_selection import train_test_split\n",
    "X_train, X_test, y_train, y_test = train_test_split(X,y,test_size=0.2,random_state=42)"
   ]
  },
  {
   "cell_type": "code",
   "execution_count": 16,
   "id": "dcce3958",
   "metadata": {},
   "outputs": [
    {
     "data": {
      "text/plain": [
       "array([[1100],\n",
       "       [1280],\n",
       "       [1010],\n",
       "       [ 970],\n",
       "       [1160],\n",
       "       [ 760],\n",
       "       [1050],\n",
       "       [1460],\n",
       "       [1040],\n",
       "       [1200],\n",
       "       [1460],\n",
       "       [1170],\n",
       "       [ 720],\n",
       "       [ 660],\n",
       "       [ 940],\n",
       "       [1100],\n",
       "       [1090],\n",
       "       [2540],\n",
       "       [ 760],\n",
       "       [1170],\n",
       "       [1500],\n",
       "       [1550],\n",
       "       [1190],\n",
       "       [ 920],\n",
       "       [1280],\n",
       "       [ 660],\n",
       "       [2070],\n",
       "       [ 670],\n",
       "       [1120],\n",
       "       [ 950],\n",
       "       [1070],\n",
       "       [ 880],\n",
       "       [1490],\n",
       "       [1710],\n",
       "       [1590],\n",
       "       [1590],\n",
       "       [1500],\n",
       "       [2070],\n",
       "       [1170],\n",
       "       [2180],\n",
       "       [ 930],\n",
       "       [1420],\n",
       "       [1060],\n",
       "       [1730],\n",
       "       [ 990],\n",
       "       [1520],\n",
       "       [1330],\n",
       "       [2540],\n",
       "       [1080],\n",
       "       [2420],\n",
       "       [ 560],\n",
       "       [1920],\n",
       "       [2380],\n",
       "       [1740],\n",
       "       [1740],\n",
       "       [1730],\n",
       "       [1290],\n",
       "       [1180],\n",
       "       [1590],\n",
       "       [1550],\n",
       "       [1290],\n",
       "       [ 960],\n",
       "       [2010],\n",
       "       [1030],\n",
       "       [1980],\n",
       "       [1140],\n",
       "       [ 860],\n",
       "       [1570],\n",
       "       [1410],\n",
       "       [1320],\n",
       "       [ 800],\n",
       "       [2210],\n",
       "       [2550],\n",
       "       [1900],\n",
       "       [1830],\n",
       "       [1520],\n",
       "       [1800],\n",
       "       [ 850],\n",
       "       [1800],\n",
       "       [1890],\n",
       "       [1660],\n",
       "       [ 530],\n",
       "       [ 320],\n",
       "       [1530],\n",
       "       [1200],\n",
       "       [1550],\n",
       "       [1760],\n",
       "       [2540],\n",
       "       [1230],\n",
       "       [2150],\n",
       "       [1710],\n",
       "       [2320],\n",
       "       [1150],\n",
       "       [1560],\n",
       "       [1290],\n",
       "       [ 960],\n",
       "       [1850],\n",
       "       [1920],\n",
       "       [2120],\n",
       "       [1960],\n",
       "       [1050],\n",
       "       [1180],\n",
       "       [2260],\n",
       "       [ 970],\n",
       "       [1180],\n",
       "       [ 950],\n",
       "       [1320],\n",
       "       [1340],\n",
       "       [ 730],\n",
       "       [1360],\n",
       "       [2020],\n",
       "       [1220],\n",
       "       [1670],\n",
       "       [ 480],\n",
       "       [ 970],\n",
       "       [1840],\n",
       "       [1450],\n",
       "       [1270],\n",
       "       [2440],\n",
       "       [ 880],\n",
       "       [2700],\n",
       "       [1080],\n",
       "       [1220],\n",
       "       [2620],\n",
       "       [1400],\n",
       "       [2020],\n",
       "       [ 870],\n",
       "       [1140],\n",
       "       [ 970],\n",
       "       [2380],\n",
       "       [1480],\n",
       "       [1290],\n",
       "       [1250],\n",
       "       [1320],\n",
       "       [1440],\n",
       "       [ 590],\n",
       "       [ 970],\n",
       "       [1470],\n",
       "       [1010],\n",
       "       [1960],\n",
       "       [1040],\n",
       "       [2260],\n",
       "       [1010],\n",
       "       [ 160],\n",
       "       [1160],\n",
       "       [1470],\n",
       "       [1720],\n",
       "       [1220],\n",
       "       [1600],\n",
       "       [1700],\n",
       "       [ 700],\n",
       "       [1340],\n",
       "       [1800],\n",
       "       [1590],\n",
       "       [1240],\n",
       "       [ 720],\n",
       "       [1900],\n",
       "       [1940],\n",
       "       [1260],\n",
       "       [1480]], dtype=int64)"
      ]
     },
     "execution_count": 16,
     "metadata": {},
     "output_type": "execute_result"
    }
   ],
   "source": [
    "y_train"
   ]
  },
  {
   "cell_type": "code",
   "execution_count": 17,
   "id": "aff0f460",
   "metadata": {},
   "outputs": [
    {
     "data": {
      "text/plain": [
       "LinearRegression()"
      ]
     },
     "execution_count": 17,
     "metadata": {},
     "output_type": "execute_result"
    }
   ],
   "source": [
    "#fitting the linear regresiion to the training set\n",
    "from sklearn.linear_model import LinearRegression\n",
    "reg = LinearRegression()\n",
    "reg.fit(X_train,y_train)"
   ]
  },
  {
   "cell_type": "code",
   "execution_count": 18,
   "id": "1226cfa6",
   "metadata": {},
   "outputs": [
    {
     "data": {
      "text/plain": [
       "array([[163.3],\n",
       "       [195.4],\n",
       "       [292.9],\n",
       "       [ 11.7],\n",
       "       [220.3],\n",
       "       [ 75.1],\n",
       "       [216.8],\n",
       "       [ 50. ],\n",
       "       [222.4],\n",
       "       [175.1],\n",
       "       [ 31.5],\n",
       "       [ 56.2],\n",
       "       [234.5],\n",
       "       [  5.4],\n",
       "       [139.5],\n",
       "       [170.2],\n",
       "       [  7.3],\n",
       "       [197.6],\n",
       "       [ 75.3],\n",
       "       [237.4],\n",
       "       [229.5],\n",
       "       [ 67.8],\n",
       "       [ 38. ],\n",
       "       [250.9],\n",
       "       [ 69. ],\n",
       "       [ 53.5],\n",
       "       [213.5],\n",
       "       [139.3],\n",
       "       [ 87.2],\n",
       "       [  8.4],\n",
       "       [199.8],\n",
       "       [ 69.2],\n",
       "       [198.9],\n",
       "       [ 16.9],\n",
       "       [280.7],\n",
       "       [238.2],\n",
       "       [ 48.3],\n",
       "       [273.7],\n",
       "       [117.2],\n",
       "       [ 27.5]])"
      ]
     },
     "execution_count": 18,
     "metadata": {},
     "output_type": "execute_result"
    }
   ],
   "source": [
    "X_test"
   ]
  },
  {
   "cell_type": "code",
   "execution_count": 19,
   "id": "6ecbec0f",
   "metadata": {},
   "outputs": [
    {
     "data": {
      "text/plain": [
       "array([[1690],\n",
       "       [2240],\n",
       "       [2140],\n",
       "       [ 730],\n",
       "       [2470],\n",
       "       [1260],\n",
       "       [2230],\n",
       "       [ 840],\n",
       "       [1150],\n",
       "       [1490],\n",
       "       [ 950],\n",
       "       [ 870],\n",
       "       [1190],\n",
       "       [ 530],\n",
       "       [1030],\n",
       "       [1170],\n",
       "       [ 550],\n",
       "       [1660],\n",
       "       [1130],\n",
       "       [1890],\n",
       "       [1970],\n",
       "       [1250],\n",
       "       [1090],\n",
       "       [2220],\n",
       "       [ 930],\n",
       "       [ 810],\n",
       "       [2170],\n",
       "       [1340],\n",
       "       [1060],\n",
       "       [ 570],\n",
       "       [1060],\n",
       "       [1130],\n",
       "       [2370],\n",
       "       [ 870],\n",
       "       [1610],\n",
       "       [2070],\n",
       "       [1160],\n",
       "       [2080],\n",
       "       [1190],\n",
       "       [ 690]], dtype=int64)"
      ]
     },
     "execution_count": 19,
     "metadata": {},
     "output_type": "execute_result"
    }
   ],
   "source": [
    "y_test"
   ]
  },
  {
   "cell_type": "code",
   "execution_count": 23,
   "id": "571cbe27",
   "metadata": {},
   "outputs": [
    {
     "data": {
      "text/plain": [
       "array([[1471.79439447],\n",
       "       [1621.15483966],\n",
       "       [2074.81974329],\n",
       "       [ 766.40363149],\n",
       "       [1737.01387659],\n",
       "       [1061.40214319],\n",
       "       [1720.72846979],\n",
       "       [ 944.61251159],\n",
       "       [1746.78512067],\n",
       "       [1526.69948024],\n",
       "       [ 858.53250423],\n",
       "       [ 973.46094648],\n",
       "       [1803.08609845],\n",
       "       [ 737.08989926],\n",
       "       [1361.05362825],\n",
       "       [1503.89991073],\n",
       "       [ 745.93054866],\n",
       "       [1631.39138108],\n",
       "       [1062.33273786],\n",
       "       [1816.57972123],\n",
       "       [1779.8212316 ],\n",
       "       [1027.43543758],\n",
       "       [ 888.77683114],\n",
       "       [1879.39486173],\n",
       "       [1033.01900563],\n",
       "       [ 960.89791838],\n",
       "       [1705.37365767],\n",
       "       [1360.12303358],\n",
       "       [1117.70312097],\n",
       "       [ 751.04881937],\n",
       "       [1641.62792249],\n",
       "       [1033.9496003 ],\n",
       "       [1637.44024646],\n",
       "       [ 790.59909302],\n",
       "       [2018.05346817],\n",
       "       [1820.30209992],\n",
       "       [ 936.70245686],\n",
       "       [1985.48265458],\n",
       "       [1257.29232209],\n",
       "       [ 839.92061075]])"
      ]
     },
     "execution_count": 23,
     "metadata": {},
     "output_type": "execute_result"
    }
   ],
   "source": [
    "reg.predict(X_test)"
   ]
  },
  {
   "cell_type": "code",
   "execution_count": 22,
   "id": "02eecad8",
   "metadata": {},
   "outputs": [
    {
     "data": {
      "image/png": "[encoded data removed]",
      "text/plain": [
       "<Figure size 1152x576 with 1 Axes>"
      ]
     },
     "metadata": {
      "needs_background": "light"
     },
     "output_type": "display_data"
    }
   ],
   "source": [
    "# prediction the test set result\n",
    "y_pred = reg.predict(X_test)\n",
    "plt.figure(figsize=(16,8))\n",
    "plt.scatter(X,y,c='black')\n",
    "plt.plot(\n",
    "    X_test,\n",
    "    y_pred,\n",
    "    c='blue',\n",
    "    linewidth=2\n",
    ")\n",
    "plt.xlabel(\"Money spent on TV ads($)\")\n",
    "plt.ylabel(\"Sales ($)\")\n",
    "plt.title(\"Prediction Points vs Actual Points\")\n",
    "plt.show()"
   ]
  },
  {
   "cell_type": "code",
   "execution_count": 25,
   "id": "53876ce5",
   "metadata": {},
   "outputs": [
    {
     "data": {
      "text/plain": [
       "array([[4.65297337]])"
      ]
     },
     "execution_count": 25,
     "metadata": {},
     "output_type": "execute_result"
    }
   ],
   "source": [
    "#calculating the coefficients\n",
    "reg.coef_\n",
    "#y=mx+c"
   ]
  },
  {
   "cell_type": "code",
   "execution_count": 26,
   "id": "711f29e2",
   "metadata": {},
   "outputs": [
    {
     "data": {
      "text/plain": [
       "array([711.96384306])"
      ]
     },
     "execution_count": 26,
     "metadata": {},
     "output_type": "execute_result"
    }
   ],
   "source": [
    "# calculating the intercept\n",
    "reg.intercept_\n"
   ]
  },
  {
   "cell_type": "code",
   "execution_count": 27,
   "id": "187cbf76",
   "metadata": {},
   "outputs": [
    {
     "data": {
      "text/plain": [
       "0.6766954295627077"
      ]
     },
     "execution_count": 27,
     "metadata": {},
     "output_type": "execute_result"
    }
   ],
   "source": [
    "#calculating the R squared value\n",
    "from sklearn.metrics import r2_score\n",
    "r2_score(y_test,y_pred)"
   ]
  },
  {
   "cell_type": "code",
   "execution_count": 29,
   "id": "bf4adca6",
   "metadata": {},
   "outputs": [
    {
     "data": {
      "text/plain": [
       "array([[3503.74786539]])"
      ]
     },
     "execution_count": 29,
     "metadata": {},
     "output_type": "execute_result"
    }
   ],
   "source": [
    "output = reg.predict([[600]])\n",
    "output"
   ]
  },
  {
   "cell_type": "code",
   "execution_count": null,
   "id": "6f5dee2e",
   "metadata": {},
   "outputs": [],
   "source": []
  },
  {
   "cell_type": "code",
   "execution_count": 30,
   "id": "1f8a35af",
   "metadata": {},
   "outputs": [],
   "source": [
    "# MULTIPLE LINEAR REGRESSION \n",
    "X = data.drop(['sales'],axis=1)\n",
    "y = data['sales'].values.reshape(-1,1)"
   ]
  },
  {
   "cell_type": "code",
   "execution_count": 31,
   "id": "230ed44e",
   "metadata": {},
   "outputs": [],
   "source": [
    "#splitting out dataset to training and testing dataset\n",
    "from sklearn.model_selection import train_test_split\n",
    "X_train, X_test, y_train, y_test = train_test_split(X,y,test_size=0.2,random_state=42)\n"
   ]
  },
  {
   "cell_type": "code",
   "execution_count": 33,
   "id": "3070cb7a",
   "metadata": {},
   "outputs": [
    {
     "data": {
      "text/plain": [
       "LinearRegression()"
      ]
     },
     "execution_count": 33,
     "metadata": {},
     "output_type": "execute_result"
    }
   ],
   "source": [
    "#fitting linear regression to the training set\n",
    "from sklearn.linear_model import LinearRegression\n",
    "multiple_reg = LinearRegression()\n",
    "multiple_reg.fit(X_train,y_train)"
   ]
  },
  {
   "cell_type": "code",
   "execution_count": 34,
   "id": "1d3a1a23",
   "metadata": {},
   "outputs": [
    {
     "data": {
      "text/html": [
       "<div>\n",
       "<style scoped>\n",
       "    .dataframe tbody tr th:only-of-type {\n",
       "        vertical-align: middle;\n",
       "    }\n",
       "\n",
       "    .dataframe tbody tr th {\n",
       "        vertical-align: top;\n",
       "    }\n",
       "\n",
       "    .dataframe thead th {\n",
       "        text-align: right;\n",
       "    }\n",
       "</style>\n",
       "<table border=\"1\" class=\"dataframe\">\n",
       "  <thead>\n",
       "    <tr style=\"text-align: right;\">\n",
       "      <th></th>\n",
       "      <th>TV</th>\n",
       "      <th>radio</th>\n",
       "      <th>newspaper</th>\n",
       "    </tr>\n",
       "  </thead>\n",
       "  <tbody>\n",
       "    <tr>\n",
       "      <th>79</th>\n",
       "      <td>116.0</td>\n",
       "      <td>7.7</td>\n",
       "      <td>23.1</td>\n",
       "    </tr>\n",
       "    <tr>\n",
       "      <th>197</th>\n",
       "      <td>177.0</td>\n",
       "      <td>9.3</td>\n",
       "      <td>6.4</td>\n",
       "    </tr>\n",
       "    <tr>\n",
       "      <th>38</th>\n",
       "      <td>43.1</td>\n",
       "      <td>26.7</td>\n",
       "      <td>35.1</td>\n",
       "    </tr>\n",
       "    <tr>\n",
       "      <th>24</th>\n",
       "      <td>62.3</td>\n",
       "      <td>12.6</td>\n",
       "      <td>18.3</td>\n",
       "    </tr>\n",
       "    <tr>\n",
       "      <th>122</th>\n",
       "      <td>224.0</td>\n",
       "      <td>2.4</td>\n",
       "      <td>15.6</td>\n",
       "    </tr>\n",
       "    <tr>\n",
       "      <th>...</th>\n",
       "      <td>...</td>\n",
       "      <td>...</td>\n",
       "      <td>...</td>\n",
       "    </tr>\n",
       "    <tr>\n",
       "      <th>106</th>\n",
       "      <td>25.0</td>\n",
       "      <td>11.0</td>\n",
       "      <td>29.7</td>\n",
       "    </tr>\n",
       "    <tr>\n",
       "      <th>14</th>\n",
       "      <td>204.1</td>\n",
       "      <td>32.9</td>\n",
       "      <td>46.0</td>\n",
       "    </tr>\n",
       "    <tr>\n",
       "      <th>92</th>\n",
       "      <td>217.7</td>\n",
       "      <td>33.5</td>\n",
       "      <td>59.0</td>\n",
       "    </tr>\n",
       "    <tr>\n",
       "      <th>179</th>\n",
       "      <td>165.6</td>\n",
       "      <td>10.0</td>\n",
       "      <td>17.6</td>\n",
       "    </tr>\n",
       "    <tr>\n",
       "      <th>102</th>\n",
       "      <td>280.2</td>\n",
       "      <td>10.1</td>\n",
       "      <td>21.4</td>\n",
       "    </tr>\n",
       "  </tbody>\n",
       "</table>\n",
       "<p>160 rows × 3 columns</p>\n",
       "</div>"
      ],
      "text/plain": [
       "        TV  radio  newspaper\n",
       "79   116.0    7.7       23.1\n",
       "197  177.0    9.3        6.4\n",
       "38    43.1   26.7       35.1\n",
       "24    62.3   12.6       18.3\n",
       "122  224.0    2.4       15.6\n",
       "..     ...    ...        ...\n",
       "106   25.0   11.0       29.7\n",
       "14   204.1   32.9       46.0\n",
       "92   217.7   33.5       59.0\n",
       "179  165.6   10.0       17.6\n",
       "102  280.2   10.1       21.4\n",
       "\n",
       "[160 rows x 3 columns]"
      ]
     },
     "execution_count": 34,
     "metadata": {},
     "output_type": "execute_result"
    }
   ],
   "source": [
    "y_test\n",
    "X_train"
   ]
  },
  {
   "cell_type": "code",
   "execution_count": 35,
   "id": "9ed90ac0",
   "metadata": {},
   "outputs": [
    {
     "data": {
      "text/plain": [
       "array([[ 4.47295175, 18.91950542,  0.27611143]])"
      ]
     },
     "execution_count": 35,
     "metadata": {},
     "output_type": "execute_result"
    }
   ],
   "source": [
    "#calculating the coefficients\n",
    "multiple_reg.coef_"
   ]
  },
  {
   "cell_type": "code",
   "execution_count": 36,
   "id": "f0c1cca1",
   "metadata": {},
   "outputs": [
    {
     "data": {
      "text/plain": [
       "array([297.90673381])"
      ]
     },
     "execution_count": 36,
     "metadata": {},
     "output_type": "execute_result"
    }
   ],
   "source": [
    "#calculating the intercept\n",
    "multiple_reg.intercept_"
   ]
  },
  {
   "cell_type": "code",
   "execution_count": 37,
   "id": "4a75dec1",
   "metadata": {},
   "outputs": [
    {
     "data": {
      "text/plain": [
       "0.6766954295627077"
      ]
     },
     "execution_count": 37,
     "metadata": {},
     "output_type": "execute_result"
    }
   ],
   "source": [
    "#calculating the R squared value\n",
    "from sklearn.metrics import r2_score\n",
    "r2_score(y_test, y_pred)"
   ]
  },
  {
   "cell_type": "code",
   "execution_count": null,
   "id": "a028a647",
   "metadata": {},
   "outputs": [
    {
     "name": "stdout",
     "output_type": "stream",
     "text": [
      "Enter the amount you will invest on:\n"
     ]
    }
   ],
   "source": [
    "#taking the input from the user\n",
    "print(\"Enter the amount you will invest on:\")\n",
    "tv = float(input(\"TV:\"))\n",
    "radio = float(input(\"Radio : \"))\n",
    "newspaper = float(input(\"Newspaper : \"))\n",
    "\n",
    "#predicting the sales with respect to the use\n",
    "output = multiple_reg.predict([[tv,radio,newspaper]])\n",
    "print(\"you will get Rs{:.2f} sales by advertising Rs {} on TV , Rs {} on Radio and Rs {} on Newspaper.\"\\\n",
    "     .format(output[0][0] if output else \"not predictable\", TV,radio,newspaper))"
   ]
  },
  {
   "cell_type": "code",
   "execution_count": null,
   "id": "b1708756",
   "metadata": {},
   "outputs": [],
   "source": []
  }
 ],
 "metadata": {
  "kernelspec": {
   "display_name": "Python 3",
   "language": "python",
   "name": "python3"
  },
  "language_info": {
   "codemirror_mode": {
    "name": "ipython",
    "version": 3
   },
   "file_extension": ".py",
   "mimetype": "text/x-python",
   "name": "python",
   "nbconvert_exporter": "python",
   "pygments_lexer": "ipython3",
   "version": "3.8.8"
  }
 },
 "nbformat": 4,
 "nbformat_minor": 5
}
