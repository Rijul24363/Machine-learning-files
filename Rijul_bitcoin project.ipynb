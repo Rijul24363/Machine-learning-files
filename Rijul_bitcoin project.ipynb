{
 "cells": [
  {
   "cell_type": "markdown",
   "id": "01b7c27c",
   "metadata": {},
   "source": [
    "# Importing Libraries"
   ]
  },
  {
   "cell_type": "code",
   "execution_count": 1,
   "id": "cbc9701a",
   "metadata": {},
   "outputs": [],
   "source": [
    "import numpy as np\n",
    "import pandas as pd\n",
    "import seaborn as sns\n",
    "import matplotlib.pyplot as plt\n"
   ]
  },
  {
   "cell_type": "markdown",
   "id": "5fcffbd2",
   "metadata": {},
   "source": [
    "# Importing DataSet"
   ]
  },
  {
   "cell_type": "code",
   "execution_count": 2,
   "id": "e1fd5648",
   "metadata": {},
   "outputs": [
    {
     "data": {
      "text/html": [
       "<div>\n",
       "<style scoped>\n",
       "    .dataframe tbody tr th:only-of-type {\n",
       "        vertical-align: middle;\n",
       "    }\n",
       "\n",
       "    .dataframe tbody tr th {\n",
       "        vertical-align: top;\n",
       "    }\n",
       "\n",
       "    .dataframe thead th {\n",
       "        text-align: right;\n",
       "    }\n",
       "</style>\n",
       "<table border=\"1\" class=\"dataframe\">\n",
       "  <thead>\n",
       "    <tr style=\"text-align: right;\">\n",
       "      <th></th>\n",
       "      <th>Timestamp</th>\n",
       "      <th>Open</th>\n",
       "      <th>High</th>\n",
       "      <th>Low</th>\n",
       "      <th>Close</th>\n",
       "      <th>Volume_(BTC)</th>\n",
       "      <th>Volume_(Currency)</th>\n",
       "      <th>Weighted_Price</th>\n",
       "    </tr>\n",
       "  </thead>\n",
       "  <tbody>\n",
       "    <tr>\n",
       "      <th>0</th>\n",
       "      <td>1417411980</td>\n",
       "      <td>300.0</td>\n",
       "      <td>300.0</td>\n",
       "      <td>300.0</td>\n",
       "      <td>300.0</td>\n",
       "      <td>0.01</td>\n",
       "      <td>3.0</td>\n",
       "      <td>300.0</td>\n",
       "    </tr>\n",
       "    <tr>\n",
       "      <th>1</th>\n",
       "      <td>1417412040</td>\n",
       "      <td>NaN</td>\n",
       "      <td>NaN</td>\n",
       "      <td>NaN</td>\n",
       "      <td>NaN</td>\n",
       "      <td>NaN</td>\n",
       "      <td>NaN</td>\n",
       "      <td>NaN</td>\n",
       "    </tr>\n",
       "    <tr>\n",
       "      <th>2</th>\n",
       "      <td>1417412100</td>\n",
       "      <td>NaN</td>\n",
       "      <td>NaN</td>\n",
       "      <td>NaN</td>\n",
       "      <td>NaN</td>\n",
       "      <td>NaN</td>\n",
       "      <td>NaN</td>\n",
       "      <td>NaN</td>\n",
       "    </tr>\n",
       "    <tr>\n",
       "      <th>3</th>\n",
       "      <td>1417412160</td>\n",
       "      <td>NaN</td>\n",
       "      <td>NaN</td>\n",
       "      <td>NaN</td>\n",
       "      <td>NaN</td>\n",
       "      <td>NaN</td>\n",
       "      <td>NaN</td>\n",
       "      <td>NaN</td>\n",
       "    </tr>\n",
       "    <tr>\n",
       "      <th>4</th>\n",
       "      <td>1417412220</td>\n",
       "      <td>NaN</td>\n",
       "      <td>NaN</td>\n",
       "      <td>NaN</td>\n",
       "      <td>NaN</td>\n",
       "      <td>NaN</td>\n",
       "      <td>NaN</td>\n",
       "      <td>NaN</td>\n",
       "    </tr>\n",
       "  </tbody>\n",
       "</table>\n",
       "</div>"
      ],
      "text/plain": [
       "    Timestamp   Open   High    Low  Close  Volume_(BTC)  Volume_(Currency)  \\\n",
       "0  1417411980  300.0  300.0  300.0  300.0          0.01                3.0   \n",
       "1  1417412040    NaN    NaN    NaN    NaN           NaN                NaN   \n",
       "2  1417412100    NaN    NaN    NaN    NaN           NaN                NaN   \n",
       "3  1417412160    NaN    NaN    NaN    NaN           NaN                NaN   \n",
       "4  1417412220    NaN    NaN    NaN    NaN           NaN                NaN   \n",
       "\n",
       "   Weighted_Price  \n",
       "0           300.0  \n",
       "1             NaN  \n",
       "2             NaN  \n",
       "3             NaN  \n",
       "4             NaN  "
      ]
     },
     "execution_count": 2,
     "metadata": {},
     "output_type": "execute_result"
    }
   ],
   "source": [
    "bitcoin = pd.read_csv(\"C://Users//rijul//Downloads//Bitcoin.csv\")\n",
    "bitcoin.head()"
   ]
  },
  {
   "cell_type": "code",
   "execution_count": 3,
   "id": "ad569fba",
   "metadata": {},
   "outputs": [
    {
     "data": {
      "text/plain": [
       "<bound method DataFrame.info of           Timestamp     Open     High      Low    Close  Volume_(BTC)  \\\n",
       "0        1417411980   300.00   300.00   300.00   300.00      0.010000   \n",
       "1        1417412040      NaN      NaN      NaN      NaN           NaN   \n",
       "2        1417412100      NaN      NaN      NaN      NaN           NaN   \n",
       "3        1417412160      NaN      NaN      NaN      NaN           NaN   \n",
       "4        1417412220      NaN      NaN      NaN      NaN           NaN   \n",
       "...             ...      ...      ...      ...      ...           ...   \n",
       "2099755  1546898520  4006.01  4006.57  4006.00  4006.01      3.382954   \n",
       "2099756  1546898580  4006.01  4006.57  4006.00  4006.01      0.902164   \n",
       "2099757  1546898640  4006.01  4006.01  4006.00  4006.01      1.192123   \n",
       "2099758  1546898700  4006.01  4006.01  4005.50  4005.50      2.699700   \n",
       "2099759  1546898760  4005.51  4006.01  4005.51  4005.99      1.752778   \n",
       "\n",
       "         Volume_(Currency)  Weighted_Price  \n",
       "0                 3.000000      300.000000  \n",
       "1                      NaN             NaN  \n",
       "2                      NaN             NaN  \n",
       "3                      NaN             NaN  \n",
       "4                      NaN             NaN  \n",
       "...                    ...             ...  \n",
       "2099755       13553.433078     4006.390309  \n",
       "2099756        3614.083168     4006.017232  \n",
       "2099757        4775.647308     4006.003635  \n",
       "2099758       10814.241898     4005.719991  \n",
       "2099759        7021.183546     4005.745614  \n",
       "\n",
       "[2099760 rows x 8 columns]>"
      ]
     },
     "execution_count": 3,
     "metadata": {},
     "output_type": "execute_result"
    }
   ],
   "source": [
    "bitcoin.info"
   ]
  },
  {
   "cell_type": "code",
   "execution_count": 4,
   "id": "61fafe54",
   "metadata": {},
   "outputs": [
    {
     "data": {
      "text/plain": [
       "<bound method NDFrame.describe of           Timestamp     Open     High      Low    Close  Volume_(BTC)  \\\n",
       "0        1417411980   300.00   300.00   300.00   300.00      0.010000   \n",
       "1        1417412040      NaN      NaN      NaN      NaN           NaN   \n",
       "2        1417412100      NaN      NaN      NaN      NaN           NaN   \n",
       "3        1417412160      NaN      NaN      NaN      NaN           NaN   \n",
       "4        1417412220      NaN      NaN      NaN      NaN           NaN   \n",
       "...             ...      ...      ...      ...      ...           ...   \n",
       "2099755  1546898520  4006.01  4006.57  4006.00  4006.01      3.382954   \n",
       "2099756  1546898580  4006.01  4006.57  4006.00  4006.01      0.902164   \n",
       "2099757  1546898640  4006.01  4006.01  4006.00  4006.01      1.192123   \n",
       "2099758  1546898700  4006.01  4006.01  4005.50  4005.50      2.699700   \n",
       "2099759  1546898760  4005.51  4006.01  4005.51  4005.99      1.752778   \n",
       "\n",
       "         Volume_(Currency)  Weighted_Price  \n",
       "0                 3.000000      300.000000  \n",
       "1                      NaN             NaN  \n",
       "2                      NaN             NaN  \n",
       "3                      NaN             NaN  \n",
       "4                      NaN             NaN  \n",
       "...                    ...             ...  \n",
       "2099755       13553.433078     4006.390309  \n",
       "2099756        3614.083168     4006.017232  \n",
       "2099757        4775.647308     4006.003635  \n",
       "2099758       10814.241898     4005.719991  \n",
       "2099759        7021.183546     4005.745614  \n",
       "\n",
       "[2099760 rows x 8 columns]>"
      ]
     },
     "execution_count": 4,
     "metadata": {},
     "output_type": "execute_result"
    }
   ],
   "source": [
    "bitcoin.describe"
   ]
  },
  {
   "cell_type": "markdown",
   "id": "67a33e32",
   "metadata": {},
   "source": [
    "#  Finding Missing Data"
   ]
  },
  {
   "cell_type": "code",
   "execution_count": 5,
   "id": "4d7b9684",
   "metadata": {},
   "outputs": [
    {
     "data": {
      "text/plain": [
       "Timestamp                 0\n",
       "Open                 109069\n",
       "High                 109069\n",
       "Low                  109069\n",
       "Close                109069\n",
       "Volume_(BTC)         109069\n",
       "Volume_(Currency)    109069\n",
       "Weighted_Price       109069\n",
       "dtype: int64"
      ]
     },
     "execution_count": 5,
     "metadata": {},
     "output_type": "execute_result"
    }
   ],
   "source": [
    "bitcoin.isnull().sum()"
   ]
  },
  {
   "cell_type": "markdown",
   "id": "6109b128",
   "metadata": {},
   "source": [
    "# Fill Missing values"
   ]
  },
  {
   "cell_type": "code",
   "execution_count": 6,
   "id": "b84c1952",
   "metadata": {},
   "outputs": [
    {
     "data": {
      "text/plain": [
       "3246.402565944626"
      ]
     },
     "execution_count": 6,
     "metadata": {},
     "output_type": "execute_result"
    }
   ],
   "source": [
    "bitcoin[\"Open\"].mean()"
   ]
  },
  {
   "cell_type": "code",
   "execution_count": 7,
   "id": "63a4d225",
   "metadata": {},
   "outputs": [
    {
     "data": {
      "text/plain": [
       "3247.8294382349486"
      ]
     },
     "execution_count": 7,
     "metadata": {},
     "output_type": "execute_result"
    }
   ],
   "source": [
    "bitcoin[\"High\"].mean()"
   ]
  },
  {
   "cell_type": "code",
   "execution_count": 8,
   "id": "eeee7f3b",
   "metadata": {},
   "outputs": [
    {
     "data": {
      "text/plain": [
       "3244.856123224843"
      ]
     },
     "execution_count": 8,
     "metadata": {},
     "output_type": "execute_result"
    }
   ],
   "source": [
    "bitcoin[\"Low\"].mean()"
   ]
  },
  {
   "cell_type": "code",
   "execution_count": 9,
   "id": "049c5a3f",
   "metadata": {},
   "outputs": [
    {
     "data": {
      "text/plain": [
       "3246.402519749602"
      ]
     },
     "execution_count": 9,
     "metadata": {},
     "output_type": "execute_result"
    }
   ],
   "source": [
    "bitcoin[\"Close\"].mean()"
   ]
  },
  {
   "cell_type": "code",
   "execution_count": 10,
   "id": "89eae72a",
   "metadata": {},
   "outputs": [
    {
     "data": {
      "text/plain": [
       "7.849139357817099"
      ]
     },
     "execution_count": 10,
     "metadata": {},
     "output_type": "execute_result"
    }
   ],
   "source": [
    "bitcoin[\"Volume_(BTC)\"].mean()"
   ]
  },
  {
   "cell_type": "code",
   "execution_count": 11,
   "id": "0cda2924",
   "metadata": {},
   "outputs": [
    {
     "data": {
      "text/plain": [
       "36001.574119615034"
      ]
     },
     "execution_count": 11,
     "metadata": {},
     "output_type": "execute_result"
    }
   ],
   "source": [
    "bitcoin[\"Volume_(Currency)\"].mean()"
   ]
  },
  {
   "cell_type": "code",
   "execution_count": 12,
   "id": "1e7cf1ce",
   "metadata": {},
   "outputs": [
    {
     "data": {
      "text/plain": [
       "3246.3407157084657"
      ]
     },
     "execution_count": 12,
     "metadata": {},
     "output_type": "execute_result"
    }
   ],
   "source": [
    "bitcoin[\"Weighted_Price\"].mean()"
   ]
  },
  {
   "cell_type": "code",
   "execution_count": 13,
   "id": "4253fabf",
   "metadata": {},
   "outputs": [
    {
     "name": "stdout",
     "output_type": "stream",
     "text": [
      "3246.402565944626\n"
     ]
    },
    {
     "data": {
      "text/plain": [
       "1014.58"
      ]
     },
     "execution_count": 13,
     "metadata": {},
     "output_type": "execute_result"
    }
   ],
   "source": [
    "print(np.mean(bitcoin[\"Open\"]))\n",
    "bitcoin[\"Open\"].median()"
   ]
  },
  {
   "cell_type": "code",
   "execution_count": 14,
   "id": "7af59055",
   "metadata": {},
   "outputs": [],
   "source": [
    "bitcoin[\"Open\"].fillna(bitcoin[\"Open\"].mean(),inplace=True)"
   ]
  },
  {
   "cell_type": "code",
   "execution_count": 15,
   "id": "68027422",
   "metadata": {},
   "outputs": [],
   "source": [
    "bitcoin[\"High\"].fillna(bitcoin[\"High\"].mean(),inplace=True)"
   ]
  },
  {
   "cell_type": "code",
   "execution_count": 16,
   "id": "fe915bf4",
   "metadata": {},
   "outputs": [],
   "source": [
    "bitcoin[\"Low\"].fillna(bitcoin[\"Low\"].mean(),inplace=True)"
   ]
  },
  {
   "cell_type": "code",
   "execution_count": 17,
   "id": "9f5856fa",
   "metadata": {},
   "outputs": [],
   "source": [
    "bitcoin[\"Close\"].fillna(bitcoin[\"Close\"].mean(),inplace=True)"
   ]
  },
  {
   "cell_type": "code",
   "execution_count": 18,
   "id": "2789bd48",
   "metadata": {},
   "outputs": [],
   "source": [
    "bitcoin[\"Volume_(BTC)\"].fillna(bitcoin[\"Volume_(BTC)\"].mean(),inplace=True)"
   ]
  },
  {
   "cell_type": "code",
   "execution_count": 19,
   "id": "e04f7997",
   "metadata": {},
   "outputs": [],
   "source": [
    "bitcoin[\"Volume_(Currency)\"].fillna(bitcoin[\"Volume_(Currency)\"].mean(),inplace=True)"
   ]
  },
  {
   "cell_type": "code",
   "execution_count": 20,
   "id": "0b804d5b",
   "metadata": {},
   "outputs": [],
   "source": [
    "bitcoin[\"Weighted_Price\"].fillna(bitcoin[\"Weighted_Price\"].mean(),inplace=True)"
   ]
  },
  {
   "cell_type": "code",
   "execution_count": 21,
   "id": "23cdee8a",
   "metadata": {},
   "outputs": [
    {
     "data": {
      "text/html": [
       "<div>\n",
       "<style scoped>\n",
       "    .dataframe tbody tr th:only-of-type {\n",
       "        vertical-align: middle;\n",
       "    }\n",
       "\n",
       "    .dataframe tbody tr th {\n",
       "        vertical-align: top;\n",
       "    }\n",
       "\n",
       "    .dataframe thead th {\n",
       "        text-align: right;\n",
       "    }\n",
       "</style>\n",
       "<table border=\"1\" class=\"dataframe\">\n",
       "  <thead>\n",
       "    <tr style=\"text-align: right;\">\n",
       "      <th></th>\n",
       "      <th>Timestamp</th>\n",
       "      <th>Open</th>\n",
       "      <th>High</th>\n",
       "      <th>Low</th>\n",
       "      <th>Close</th>\n",
       "      <th>Volume_(BTC)</th>\n",
       "      <th>Volume_(Currency)</th>\n",
       "      <th>Weighted_Price</th>\n",
       "    </tr>\n",
       "  </thead>\n",
       "  <tbody>\n",
       "    <tr>\n",
       "      <th>0</th>\n",
       "      <td>1417411980</td>\n",
       "      <td>300.000000</td>\n",
       "      <td>300.000000</td>\n",
       "      <td>300.000000</td>\n",
       "      <td>300.00000</td>\n",
       "      <td>0.010000</td>\n",
       "      <td>3.00000</td>\n",
       "      <td>300.000000</td>\n",
       "    </tr>\n",
       "    <tr>\n",
       "      <th>1</th>\n",
       "      <td>1417412040</td>\n",
       "      <td>3246.402566</td>\n",
       "      <td>3247.829438</td>\n",
       "      <td>3244.856123</td>\n",
       "      <td>3246.40252</td>\n",
       "      <td>7.849139</td>\n",
       "      <td>36001.57412</td>\n",
       "      <td>3246.340716</td>\n",
       "    </tr>\n",
       "    <tr>\n",
       "      <th>2</th>\n",
       "      <td>1417412100</td>\n",
       "      <td>3246.402566</td>\n",
       "      <td>3247.829438</td>\n",
       "      <td>3244.856123</td>\n",
       "      <td>3246.40252</td>\n",
       "      <td>7.849139</td>\n",
       "      <td>36001.57412</td>\n",
       "      <td>3246.340716</td>\n",
       "    </tr>\n",
       "    <tr>\n",
       "      <th>3</th>\n",
       "      <td>1417412160</td>\n",
       "      <td>3246.402566</td>\n",
       "      <td>3247.829438</td>\n",
       "      <td>3244.856123</td>\n",
       "      <td>3246.40252</td>\n",
       "      <td>7.849139</td>\n",
       "      <td>36001.57412</td>\n",
       "      <td>3246.340716</td>\n",
       "    </tr>\n",
       "    <tr>\n",
       "      <th>4</th>\n",
       "      <td>1417412220</td>\n",
       "      <td>3246.402566</td>\n",
       "      <td>3247.829438</td>\n",
       "      <td>3244.856123</td>\n",
       "      <td>3246.40252</td>\n",
       "      <td>7.849139</td>\n",
       "      <td>36001.57412</td>\n",
       "      <td>3246.340716</td>\n",
       "    </tr>\n",
       "  </tbody>\n",
       "</table>\n",
       "</div>"
      ],
      "text/plain": [
       "    Timestamp         Open         High          Low       Close  \\\n",
       "0  1417411980   300.000000   300.000000   300.000000   300.00000   \n",
       "1  1417412040  3246.402566  3247.829438  3244.856123  3246.40252   \n",
       "2  1417412100  3246.402566  3247.829438  3244.856123  3246.40252   \n",
       "3  1417412160  3246.402566  3247.829438  3244.856123  3246.40252   \n",
       "4  1417412220  3246.402566  3247.829438  3244.856123  3246.40252   \n",
       "\n",
       "   Volume_(BTC)  Volume_(Currency)  Weighted_Price  \n",
       "0      0.010000            3.00000      300.000000  \n",
       "1      7.849139        36001.57412     3246.340716  \n",
       "2      7.849139        36001.57412     3246.340716  \n",
       "3      7.849139        36001.57412     3246.340716  \n",
       "4      7.849139        36001.57412     3246.340716  "
      ]
     },
     "execution_count": 21,
     "metadata": {},
     "output_type": "execute_result"
    }
   ],
   "source": [
    "bitcoin.head()"
   ]
  },
  {
   "cell_type": "code",
   "execution_count": 22,
   "id": "2e4eb650",
   "metadata": {},
   "outputs": [
    {
     "data": {
      "text/plain": [
       "Timestamp            0\n",
       "Open                 0\n",
       "High                 0\n",
       "Low                  0\n",
       "Close                0\n",
       "Volume_(BTC)         0\n",
       "Volume_(Currency)    0\n",
       "Weighted_Price       0\n",
       "dtype: int64"
      ]
     },
     "execution_count": 22,
     "metadata": {},
     "output_type": "execute_result"
    }
   ],
   "source": [
    "bitcoin.isnull().sum()"
   ]
  },
  {
   "cell_type": "code",
   "execution_count": 23,
   "id": "645ea1fb",
   "metadata": {},
   "outputs": [
    {
     "data": {
      "text/html": [
       "<div>\n",
       "<style scoped>\n",
       "    .dataframe tbody tr th:only-of-type {\n",
       "        vertical-align: middle;\n",
       "    }\n",
       "\n",
       "    .dataframe tbody tr th {\n",
       "        vertical-align: top;\n",
       "    }\n",
       "\n",
       "    .dataframe thead th {\n",
       "        text-align: right;\n",
       "    }\n",
       "</style>\n",
       "<table border=\"1\" class=\"dataframe\">\n",
       "  <thead>\n",
       "    <tr style=\"text-align: right;\">\n",
       "      <th></th>\n",
       "      <th>Timestamp</th>\n",
       "      <th>Open</th>\n",
       "      <th>High</th>\n",
       "      <th>Low</th>\n",
       "      <th>Close</th>\n",
       "      <th>Volume_(BTC)</th>\n",
       "      <th>Volume_(Currency)</th>\n",
       "      <th>Weighted_Price</th>\n",
       "    </tr>\n",
       "  </thead>\n",
       "  <tbody>\n",
       "    <tr>\n",
       "      <th>0</th>\n",
       "      <td>True</td>\n",
       "      <td>True</td>\n",
       "      <td>True</td>\n",
       "      <td>True</td>\n",
       "      <td>True</td>\n",
       "      <td>True</td>\n",
       "      <td>True</td>\n",
       "      <td>True</td>\n",
       "    </tr>\n",
       "    <tr>\n",
       "      <th>1</th>\n",
       "      <td>True</td>\n",
       "      <td>True</td>\n",
       "      <td>True</td>\n",
       "      <td>True</td>\n",
       "      <td>True</td>\n",
       "      <td>True</td>\n",
       "      <td>True</td>\n",
       "      <td>True</td>\n",
       "    </tr>\n",
       "    <tr>\n",
       "      <th>2</th>\n",
       "      <td>True</td>\n",
       "      <td>True</td>\n",
       "      <td>True</td>\n",
       "      <td>True</td>\n",
       "      <td>True</td>\n",
       "      <td>True</td>\n",
       "      <td>True</td>\n",
       "      <td>True</td>\n",
       "    </tr>\n",
       "    <tr>\n",
       "      <th>3</th>\n",
       "      <td>True</td>\n",
       "      <td>True</td>\n",
       "      <td>True</td>\n",
       "      <td>True</td>\n",
       "      <td>True</td>\n",
       "      <td>True</td>\n",
       "      <td>True</td>\n",
       "      <td>True</td>\n",
       "    </tr>\n",
       "    <tr>\n",
       "      <th>4</th>\n",
       "      <td>True</td>\n",
       "      <td>True</td>\n",
       "      <td>True</td>\n",
       "      <td>True</td>\n",
       "      <td>True</td>\n",
       "      <td>True</td>\n",
       "      <td>True</td>\n",
       "      <td>True</td>\n",
       "    </tr>\n",
       "    <tr>\n",
       "      <th>...</th>\n",
       "      <td>...</td>\n",
       "      <td>...</td>\n",
       "      <td>...</td>\n",
       "      <td>...</td>\n",
       "      <td>...</td>\n",
       "      <td>...</td>\n",
       "      <td>...</td>\n",
       "      <td>...</td>\n",
       "    </tr>\n",
       "    <tr>\n",
       "      <th>2099755</th>\n",
       "      <td>True</td>\n",
       "      <td>True</td>\n",
       "      <td>True</td>\n",
       "      <td>True</td>\n",
       "      <td>True</td>\n",
       "      <td>True</td>\n",
       "      <td>True</td>\n",
       "      <td>True</td>\n",
       "    </tr>\n",
       "    <tr>\n",
       "      <th>2099756</th>\n",
       "      <td>True</td>\n",
       "      <td>True</td>\n",
       "      <td>True</td>\n",
       "      <td>True</td>\n",
       "      <td>True</td>\n",
       "      <td>True</td>\n",
       "      <td>True</td>\n",
       "      <td>True</td>\n",
       "    </tr>\n",
       "    <tr>\n",
       "      <th>2099757</th>\n",
       "      <td>True</td>\n",
       "      <td>True</td>\n",
       "      <td>True</td>\n",
       "      <td>True</td>\n",
       "      <td>True</td>\n",
       "      <td>True</td>\n",
       "      <td>True</td>\n",
       "      <td>True</td>\n",
       "    </tr>\n",
       "    <tr>\n",
       "      <th>2099758</th>\n",
       "      <td>True</td>\n",
       "      <td>True</td>\n",
       "      <td>True</td>\n",
       "      <td>True</td>\n",
       "      <td>True</td>\n",
       "      <td>True</td>\n",
       "      <td>True</td>\n",
       "      <td>True</td>\n",
       "    </tr>\n",
       "    <tr>\n",
       "      <th>2099759</th>\n",
       "      <td>True</td>\n",
       "      <td>True</td>\n",
       "      <td>True</td>\n",
       "      <td>True</td>\n",
       "      <td>True</td>\n",
       "      <td>True</td>\n",
       "      <td>True</td>\n",
       "      <td>True</td>\n",
       "    </tr>\n",
       "  </tbody>\n",
       "</table>\n",
       "<p>2099760 rows × 8 columns</p>\n",
       "</div>"
      ],
      "text/plain": [
       "         Timestamp  Open  High   Low  Close  Volume_(BTC)  Volume_(Currency)  \\\n",
       "0             True  True  True  True   True          True               True   \n",
       "1             True  True  True  True   True          True               True   \n",
       "2             True  True  True  True   True          True               True   \n",
       "3             True  True  True  True   True          True               True   \n",
       "4             True  True  True  True   True          True               True   \n",
       "...            ...   ...   ...   ...    ...           ...                ...   \n",
       "2099755       True  True  True  True   True          True               True   \n",
       "2099756       True  True  True  True   True          True               True   \n",
       "2099757       True  True  True  True   True          True               True   \n",
       "2099758       True  True  True  True   True          True               True   \n",
       "2099759       True  True  True  True   True          True               True   \n",
       "\n",
       "         Weighted_Price  \n",
       "0                  True  \n",
       "1                  True  \n",
       "2                  True  \n",
       "3                  True  \n",
       "4                  True  \n",
       "...                 ...  \n",
       "2099755            True  \n",
       "2099756            True  \n",
       "2099757            True  \n",
       "2099758            True  \n",
       "2099759            True  \n",
       "\n",
       "[2099760 rows x 8 columns]"
      ]
     },
     "execution_count": 23,
     "metadata": {},
     "output_type": "execute_result"
    }
   ],
   "source": [
    "bitcoin.notnull()"
   ]
  },
  {
   "cell_type": "markdown",
   "id": "a86f8836",
   "metadata": {},
   "source": [
    "# Standardize the Data"
   ]
  },
  {
   "cell_type": "code",
   "execution_count": 24,
   "id": "bc2a3da1",
   "metadata": {},
   "outputs": [
    {
     "data": {
      "text/html": [
       "<div>\n",
       "<style scoped>\n",
       "    .dataframe tbody tr th:only-of-type {\n",
       "        vertical-align: middle;\n",
       "    }\n",
       "\n",
       "    .dataframe tbody tr th {\n",
       "        vertical-align: top;\n",
       "    }\n",
       "\n",
       "    .dataframe thead th {\n",
       "        text-align: right;\n",
       "    }\n",
       "</style>\n",
       "<table border=\"1\" class=\"dataframe\">\n",
       "  <thead>\n",
       "    <tr style=\"text-align: right;\">\n",
       "      <th></th>\n",
       "      <th>Timestamp</th>\n",
       "      <th>Open</th>\n",
       "      <th>High</th>\n",
       "      <th>Low</th>\n",
       "      <th>Close</th>\n",
       "      <th>Volume_(BTC)</th>\n",
       "      <th>Volume_(Currency)</th>\n",
       "      <th>Weighted_Price</th>\n",
       "    </tr>\n",
       "  </thead>\n",
       "  <tbody>\n",
       "    <tr>\n",
       "      <th>0</th>\n",
       "      <td>1417411980</td>\n",
       "      <td>300.000000</td>\n",
       "      <td>300.000000</td>\n",
       "      <td>300.000000</td>\n",
       "      <td>300.00000</td>\n",
       "      <td>0.010000</td>\n",
       "      <td>3.00000</td>\n",
       "      <td>300.000000</td>\n",
       "    </tr>\n",
       "    <tr>\n",
       "      <th>1</th>\n",
       "      <td>1417412040</td>\n",
       "      <td>3246.402566</td>\n",
       "      <td>3247.829438</td>\n",
       "      <td>3244.856123</td>\n",
       "      <td>3246.40252</td>\n",
       "      <td>7.849139</td>\n",
       "      <td>36001.57412</td>\n",
       "      <td>3246.340716</td>\n",
       "    </tr>\n",
       "    <tr>\n",
       "      <th>2</th>\n",
       "      <td>1417412100</td>\n",
       "      <td>3246.402566</td>\n",
       "      <td>3247.829438</td>\n",
       "      <td>3244.856123</td>\n",
       "      <td>3246.40252</td>\n",
       "      <td>7.849139</td>\n",
       "      <td>36001.57412</td>\n",
       "      <td>3246.340716</td>\n",
       "    </tr>\n",
       "    <tr>\n",
       "      <th>3</th>\n",
       "      <td>1417412160</td>\n",
       "      <td>3246.402566</td>\n",
       "      <td>3247.829438</td>\n",
       "      <td>3244.856123</td>\n",
       "      <td>3246.40252</td>\n",
       "      <td>7.849139</td>\n",
       "      <td>36001.57412</td>\n",
       "      <td>3246.340716</td>\n",
       "    </tr>\n",
       "    <tr>\n",
       "      <th>4</th>\n",
       "      <td>1417412220</td>\n",
       "      <td>3246.402566</td>\n",
       "      <td>3247.829438</td>\n",
       "      <td>3244.856123</td>\n",
       "      <td>3246.40252</td>\n",
       "      <td>7.849139</td>\n",
       "      <td>36001.57412</td>\n",
       "      <td>3246.340716</td>\n",
       "    </tr>\n",
       "  </tbody>\n",
       "</table>\n",
       "</div>"
      ],
      "text/plain": [
       "    Timestamp         Open         High          Low       Close  \\\n",
       "0  1417411980   300.000000   300.000000   300.000000   300.00000   \n",
       "1  1417412040  3246.402566  3247.829438  3244.856123  3246.40252   \n",
       "2  1417412100  3246.402566  3247.829438  3244.856123  3246.40252   \n",
       "3  1417412160  3246.402566  3247.829438  3244.856123  3246.40252   \n",
       "4  1417412220  3246.402566  3247.829438  3244.856123  3246.40252   \n",
       "\n",
       "   Volume_(BTC)  Volume_(Currency)  Weighted_Price  \n",
       "0      0.010000            3.00000      300.000000  \n",
       "1      7.849139        36001.57412     3246.340716  \n",
       "2      7.849139        36001.57412     3246.340716  \n",
       "3      7.849139        36001.57412     3246.340716  \n",
       "4      7.849139        36001.57412     3246.340716  "
      ]
     },
     "execution_count": 24,
     "metadata": {},
     "output_type": "execute_result"
    }
   ],
   "source": [
    "bitcoin.head()"
   ]
  },
  {
   "cell_type": "code",
   "execution_count": 25,
   "id": "7380a538",
   "metadata": {},
   "outputs": [],
   "source": [
    "from sklearn.preprocessing import StandardScaler\n",
    "scaling = StandardScaler()"
   ]
  },
  {
   "cell_type": "code",
   "execution_count": 26,
   "id": "db283990",
   "metadata": {},
   "outputs": [],
   "source": [
    "bitcoin[\"Open\"] = scaling.fit_transform(bitcoin[[\"Open\"]])\n",
    "bitcoin[\"High\"] = scaling.fit_transform(bitcoin[[\"High\"]])\n",
    "bitcoin[\"Low\"] = scaling.fit_transform(bitcoin[[\"Low\"]])\n",
    "bitcoin[\"Close\"] = scaling.fit_transform(bitcoin[[\"Close\"]])\n",
    "bitcoin[\"Timestamp\"] = scaling.fit_transform(bitcoin[[\"Timestamp\"]])\n",
    "bitcoin[\"Volume_(BTC)\"] = scaling.fit_transform(bitcoin[[\"Volume_(BTC)\"]])\n",
    "bitcoin[\"Volume_(Currency)\"] = scaling.fit_transform(bitcoin[[\"Volume_(Currency)\"]])\n",
    "bitcoin[\"Weighted_Price\"] = scaling.fit_transform(bitcoin[[\"Weighted_Price\"]])"
   ]
  },
  {
   "cell_type": "code",
   "execution_count": 27,
   "id": "88c6a5ef",
   "metadata": {},
   "outputs": [
    {
     "data": {
      "text/plain": [
       "4.49982083863414"
      ]
     },
     "execution_count": 27,
     "metadata": {},
     "output_type": "execute_result"
    }
   ],
   "source": [
    "bitcoin.head()\n",
    "max(bitcoin[\"Open\"])"
   ]
  },
  {
   "cell_type": "code",
   "execution_count": 28,
   "id": "7d666bce",
   "metadata": {},
   "outputs": [
    {
     "data": {
      "text/plain": [
       "4.496783805676003"
      ]
     },
     "execution_count": 28,
     "metadata": {},
     "output_type": "execute_result"
    }
   ],
   "source": [
    "bitcoin.head()\n",
    "max(bitcoin[\"High\"])"
   ]
  },
  {
   "cell_type": "code",
   "execution_count": 29,
   "id": "9ba681f5",
   "metadata": {},
   "outputs": [
    {
     "data": {
      "text/plain": [
       "4.503073288417029"
      ]
     },
     "execution_count": 29,
     "metadata": {},
     "output_type": "execute_result"
    }
   ],
   "source": [
    "bitcoin.head()\n",
    "max(bitcoin[\"Low\"])"
   ]
  },
  {
   "cell_type": "code",
   "execution_count": 30,
   "id": "df343632",
   "metadata": {},
   "outputs": [
    {
     "data": {
      "text/plain": [
       "4.499825637181228"
      ]
     },
     "execution_count": 30,
     "metadata": {},
     "output_type": "execute_result"
    }
   ],
   "source": [
    "bitcoin.head()\n",
    "max(bitcoin[\"Close\"])"
   ]
  },
  {
   "cell_type": "code",
   "execution_count": 31,
   "id": "72c83ba6",
   "metadata": {},
   "outputs": [
    {
     "data": {
      "text/plain": [
       "85.27874454671255"
      ]
     },
     "execution_count": 31,
     "metadata": {},
     "output_type": "execute_result"
    }
   ],
   "source": [
    "bitcoin.head()\n",
    "max(bitcoin[\"Volume_(BTC)\"])"
   ]
  },
  {
   "cell_type": "code",
   "execution_count": 32,
   "id": "32eeaff8",
   "metadata": {},
   "outputs": [
    {
     "data": {
      "text/plain": [
       "146.0439298675132"
      ]
     },
     "execution_count": 32,
     "metadata": {},
     "output_type": "execute_result"
    }
   ],
   "source": [
    "bitcoin.head()\n",
    "max(bitcoin[\"Volume_(Currency)\"])"
   ]
  },
  {
   "cell_type": "code",
   "execution_count": 33,
   "id": "e85103f3",
   "metadata": {},
   "outputs": [
    {
     "data": {
      "text/plain": [
       "4.499927239789018"
      ]
     },
     "execution_count": 33,
     "metadata": {},
     "output_type": "execute_result"
    }
   ],
   "source": [
    "bitcoin.head()\n",
    "max(bitcoin[\"Weighted_Price\"])"
   ]
  },
  {
   "cell_type": "code",
   "execution_count": 34,
   "id": "7ad2a3e8",
   "metadata": {},
   "outputs": [
    {
     "data": {
      "text/html": [
       "<div>\n",
       "<style scoped>\n",
       "    .dataframe tbody tr th:only-of-type {\n",
       "        vertical-align: middle;\n",
       "    }\n",
       "\n",
       "    .dataframe tbody tr th {\n",
       "        vertical-align: top;\n",
       "    }\n",
       "\n",
       "    .dataframe thead th {\n",
       "        text-align: right;\n",
       "    }\n",
       "</style>\n",
       "<table border=\"1\" class=\"dataframe\">\n",
       "  <thead>\n",
       "    <tr style=\"text-align: right;\">\n",
       "      <th></th>\n",
       "      <th>Timestamp</th>\n",
       "      <th>Open</th>\n",
       "      <th>High</th>\n",
       "      <th>Low</th>\n",
       "      <th>Close</th>\n",
       "      <th>Volume_(BTC)</th>\n",
       "      <th>Volume_(Currency)</th>\n",
       "      <th>Weighted_Price</th>\n",
       "    </tr>\n",
       "  </thead>\n",
       "  <tbody>\n",
       "    <tr>\n",
       "      <th>0</th>\n",
       "      <td>-1.827450</td>\n",
       "      <td>-7.965044e-01</td>\n",
       "      <td>-7.964206e-01</td>\n",
       "      <td>-7.965882e-01</td>\n",
       "      <td>-7.965052e-01</td>\n",
       "      <td>-4.297957e-01</td>\n",
       "      <td>-2.637289e-01</td>\n",
       "      <td>-7.965037e-01</td>\n",
       "    </tr>\n",
       "    <tr>\n",
       "      <th>1</th>\n",
       "      <td>-1.827449</td>\n",
       "      <td>3.701494e-13</td>\n",
       "      <td>1.205625e-12</td>\n",
       "      <td>-1.470583e-12</td>\n",
       "      <td>3.678141e-13</td>\n",
       "      <td>-5.385785e-14</td>\n",
       "      <td>5.916782e-15</td>\n",
       "      <td>2.323469e-14</td>\n",
       "    </tr>\n",
       "    <tr>\n",
       "      <th>2</th>\n",
       "      <td>-1.827447</td>\n",
       "      <td>3.701494e-13</td>\n",
       "      <td>1.205625e-12</td>\n",
       "      <td>-1.470583e-12</td>\n",
       "      <td>3.678141e-13</td>\n",
       "      <td>-5.385785e-14</td>\n",
       "      <td>5.916782e-15</td>\n",
       "      <td>2.323469e-14</td>\n",
       "    </tr>\n",
       "    <tr>\n",
       "      <th>3</th>\n",
       "      <td>-1.827446</td>\n",
       "      <td>3.701494e-13</td>\n",
       "      <td>1.205625e-12</td>\n",
       "      <td>-1.470583e-12</td>\n",
       "      <td>3.678141e-13</td>\n",
       "      <td>-5.385785e-14</td>\n",
       "      <td>5.916782e-15</td>\n",
       "      <td>2.323469e-14</td>\n",
       "    </tr>\n",
       "    <tr>\n",
       "      <th>4</th>\n",
       "      <td>-1.827444</td>\n",
       "      <td>3.701494e-13</td>\n",
       "      <td>1.205625e-12</td>\n",
       "      <td>-1.470583e-12</td>\n",
       "      <td>3.678141e-13</td>\n",
       "      <td>-5.385785e-14</td>\n",
       "      <td>5.916782e-15</td>\n",
       "      <td>2.323469e-14</td>\n",
       "    </tr>\n",
       "  </tbody>\n",
       "</table>\n",
       "</div>"
      ],
      "text/plain": [
       "   Timestamp          Open          High           Low         Close  \\\n",
       "0  -1.827450 -7.965044e-01 -7.964206e-01 -7.965882e-01 -7.965052e-01   \n",
       "1  -1.827449  3.701494e-13  1.205625e-12 -1.470583e-12  3.678141e-13   \n",
       "2  -1.827447  3.701494e-13  1.205625e-12 -1.470583e-12  3.678141e-13   \n",
       "3  -1.827446  3.701494e-13  1.205625e-12 -1.470583e-12  3.678141e-13   \n",
       "4  -1.827444  3.701494e-13  1.205625e-12 -1.470583e-12  3.678141e-13   \n",
       "\n",
       "   Volume_(BTC)  Volume_(Currency)  Weighted_Price  \n",
       "0 -4.297957e-01      -2.637289e-01   -7.965037e-01  \n",
       "1 -5.385785e-14       5.916782e-15    2.323469e-14  \n",
       "2 -5.385785e-14       5.916782e-15    2.323469e-14  \n",
       "3 -5.385785e-14       5.916782e-15    2.323469e-14  \n",
       "4 -5.385785e-14       5.916782e-15    2.323469e-14  "
      ]
     },
     "execution_count": 34,
     "metadata": {},
     "output_type": "execute_result"
    }
   ],
   "source": [
    "bitcoin.head()"
   ]
  },
  {
   "cell_type": "markdown",
   "id": "96953a31",
   "metadata": {},
   "source": [
    "# Visualizing the Data"
   ]
  },
  {
   "cell_type": "code",
   "execution_count": 35,
   "id": "58c2798d",
   "metadata": {},
   "outputs": [
    {
     "data": {
      "text/plain": [
       "{'whiskers': [<matplotlib.lines.Line2D at 0x1808f874580>,\n",
       "  <matplotlib.lines.Line2D at 0x1808f8748e0>],\n",
       " 'caps': [<matplotlib.lines.Line2D at 0x1808f874c40>,\n",
       "  <matplotlib.lines.Line2D at 0x1808f874fa0>],\n",
       " 'boxes': [<matplotlib.lines.Line2D at 0x1808f874220>],\n",
       " 'medians': [<matplotlib.lines.Line2D at 0x1808f881340>],\n",
       " 'fliers': [<matplotlib.lines.Line2D at 0x1808f881a00>],\n",
       " 'means': [<matplotlib.lines.Line2D at 0x1808f8816a0>]}"
      ]
     },
     "execution_count": 35,
     "metadata": {},
     "output_type": "execute_result"
    },
    {
     "data": {
      "image/png": "[encoded data removed]",
      "text/plain": [
       "<Figure size 432x288 with 1 Axes>"
      ]
     },
     "metadata": {
      "needs_background": "light"
     },
     "output_type": "display_data"
    }
   ],
   "source": [
    "plt.boxplot(bitcoin[\"Close\"], showmeans=True)"
   ]
  },
  {
   "cell_type": "code",
   "execution_count": 36,
   "id": "6e427417",
   "metadata": {
    "scrolled": true
   },
   "outputs": [
    {
     "data": {
      "text/plain": [
       "{'whiskers': [<matplotlib.lines.Line2D at 0x1808f91db80>,\n",
       "  <matplotlib.lines.Line2D at 0x1808f91dee0>],\n",
       " 'caps': [<matplotlib.lines.Line2D at 0x1808f929280>,\n",
       "  <matplotlib.lines.Line2D at 0x1808f9295e0>],\n",
       " 'boxes': [<matplotlib.lines.Line2D at 0x1808f91d820>],\n",
       " 'medians': [<matplotlib.lines.Line2D at 0x1808f929940>],\n",
       " 'fliers': [<matplotlib.lines.Line2D at 0x1808f929ca0>],\n",
       " 'means': []}"
      ]
     },
     "execution_count": 36,
     "metadata": {},
     "output_type": "execute_result"
    },
    {
     "data": {
      "image/png": "[encoded data removed]",
      "text/plain": [
       "<Figure size 432x288 with 1 Axes>"
      ]
     },
     "metadata": {
      "needs_background": "light"
     },
     "output_type": "display_data"
    }
   ],
   "source": [
    "plt.boxplot(bitcoin['Open'])"
   ]
  },
  {
   "cell_type": "markdown",
   "id": "83709101",
   "metadata": {},
   "source": [
    "# Displot"
   ]
  },
  {
   "cell_type": "code",
   "execution_count": 37,
   "id": "5536222d",
   "metadata": {},
   "outputs": [
    {
     "data": {
      "text/plain": [
       "<AxesSubplot:xlabel='Close', ylabel='Density'>"
      ]
     },
     "execution_count": 37,
     "metadata": {},
     "output_type": "execute_result"
    },
    {
     "data": {
      "image/png": "[encoded data removed]",
      "text/plain": [
       "<Figure size 432x288 with 1 Axes>"
      ]
     },
     "metadata": {
      "needs_background": "light"
     },
     "output_type": "display_data"
    }
   ],
   "source": [
    "import warnings\n",
    "\n",
    "warnings.filterwarnings('ignore')\n",
    "sns.distplot(bitcoin[\"Close\"])"
   ]
  },
  {
   "cell_type": "code",
   "execution_count": 38,
   "id": "b4cb27d9",
   "metadata": {},
   "outputs": [
    {
     "data": {
      "text/plain": [
       "<AxesSubplot:xlabel='Open'>"
      ]
     },
     "execution_count": 38,
     "metadata": {},
     "output_type": "execute_result"
    },
    {
     "data": {
      "image/png": "[encoded data removed]",
      "text/plain": [
       "<Figure size 432x288 with 1 Axes>"
      ]
     },
     "metadata": {
      "needs_background": "light"
     },
     "output_type": "display_data"
    }
   ],
   "source": [
    "sns.distplot(bitcoin['Open'],kde=False)"
   ]
  },
  {
   "cell_type": "markdown",
   "id": "5f1b3f01",
   "metadata": {},
   "source": [
    "# Jointplot"
   ]
  },
  {
   "cell_type": "code",
   "execution_count": 39,
   "id": "77841559",
   "metadata": {},
   "outputs": [
    {
     "data": {
      "text/plain": [
       "<seaborn.axisgrid.JointGrid at 0x1809021c070>"
      ]
     },
     "execution_count": 39,
     "metadata": {},
     "output_type": "execute_result"
    },
    {
     "data": {
      "image/png": "[encoded data removed]",
      "text/plain": [
       "<Figure size 432x432 with 3 Axes>"
      ]
     },
     "metadata": {
      "needs_background": "light"
     },
     "output_type": "display_data"
    }
   ],
   "source": [
    "sns.jointplot(x = \"Open\", y=\"Close\", data = bitcoin, kind='scatter')"
   ]
  },
  {
   "cell_type": "code",
   "execution_count": 40,
   "id": "94ee9d4d",
   "metadata": {
    "scrolled": true
   },
   "outputs": [
    {
     "data": {
      "text/plain": [
       "<seaborn.axisgrid.JointGrid at 0x1809c72e340>"
      ]
     },
     "execution_count": 40,
     "metadata": {},
     "output_type": "execute_result"
    },
    {
     "data": {
      "image/png": "[encoded data removed]",
      "text/plain": [
       "<Figure size 432x432 with 3 Axes>"
      ]
     },
     "metadata": {
      "needs_background": "light"
     },
     "output_type": "display_data"
    }
   ],
   "source": [
    "sns.jointplot(x = \"High\", y=\"Low\", data = bitcoin, kind='hex')"
   ]
  },
  {
   "cell_type": "markdown",
   "id": "bc62714f",
   "metadata": {},
   "source": [
    "# Correlations  & Heatmap"
   ]
  },
  {
   "cell_type": "code",
   "execution_count": 41,
   "id": "5ac95d11",
   "metadata": {},
   "outputs": [
    {
     "data": {
      "text/html": [
       "<div>\n",
       "<style scoped>\n",
       "    .dataframe tbody tr th:only-of-type {\n",
       "        vertical-align: middle;\n",
       "    }\n",
       "\n",
       "    .dataframe tbody tr th {\n",
       "        vertical-align: top;\n",
       "    }\n",
       "\n",
       "    .dataframe thead th {\n",
       "        text-align: right;\n",
       "    }\n",
       "</style>\n",
       "<table border=\"1\" class=\"dataframe\">\n",
       "  <thead>\n",
       "    <tr style=\"text-align: right;\">\n",
       "      <th></th>\n",
       "      <th>Timestamp</th>\n",
       "      <th>Open</th>\n",
       "      <th>High</th>\n",
       "      <th>Low</th>\n",
       "      <th>Close</th>\n",
       "      <th>Volume_(BTC)</th>\n",
       "      <th>Volume_(Currency)</th>\n",
       "      <th>Weighted_Price</th>\n",
       "    </tr>\n",
       "  </thead>\n",
       "  <tbody>\n",
       "    <tr>\n",
       "      <th>Timestamp</th>\n",
       "      <td>1.000000</td>\n",
       "      <td>0.708779</td>\n",
       "      <td>0.708652</td>\n",
       "      <td>0.708914</td>\n",
       "      <td>0.708779</td>\n",
       "      <td>0.079628</td>\n",
       "      <td>0.207339</td>\n",
       "      <td>0.708782</td>\n",
       "    </tr>\n",
       "    <tr>\n",
       "      <th>Open</th>\n",
       "      <td>0.708779</td>\n",
       "      <td>1.000000</td>\n",
       "      <td>0.999998</td>\n",
       "      <td>0.999998</td>\n",
       "      <td>0.999997</td>\n",
       "      <td>0.147888</td>\n",
       "      <td>0.399696</td>\n",
       "      <td>0.999999</td>\n",
       "    </tr>\n",
       "    <tr>\n",
       "      <th>High</th>\n",
       "      <td>0.708652</td>\n",
       "      <td>0.999998</td>\n",
       "      <td>1.000000</td>\n",
       "      <td>0.999996</td>\n",
       "      <td>0.999998</td>\n",
       "      <td>0.148487</td>\n",
       "      <td>0.400542</td>\n",
       "      <td>0.999999</td>\n",
       "    </tr>\n",
       "    <tr>\n",
       "      <th>Low</th>\n",
       "      <td>0.708914</td>\n",
       "      <td>0.999998</td>\n",
       "      <td>0.999996</td>\n",
       "      <td>1.000000</td>\n",
       "      <td>0.999998</td>\n",
       "      <td>0.147208</td>\n",
       "      <td>0.398760</td>\n",
       "      <td>0.999999</td>\n",
       "    </tr>\n",
       "    <tr>\n",
       "      <th>Close</th>\n",
       "      <td>0.708779</td>\n",
       "      <td>0.999997</td>\n",
       "      <td>0.999998</td>\n",
       "      <td>0.999998</td>\n",
       "      <td>1.000000</td>\n",
       "      <td>0.147858</td>\n",
       "      <td>0.399670</td>\n",
       "      <td>0.999999</td>\n",
       "    </tr>\n",
       "    <tr>\n",
       "      <th>Volume_(BTC)</th>\n",
       "      <td>0.079628</td>\n",
       "      <td>0.147888</td>\n",
       "      <td>0.148487</td>\n",
       "      <td>0.147208</td>\n",
       "      <td>0.147858</td>\n",
       "      <td>1.000000</td>\n",
       "      <td>0.710127</td>\n",
       "      <td>0.147834</td>\n",
       "    </tr>\n",
       "    <tr>\n",
       "      <th>Volume_(Currency)</th>\n",
       "      <td>0.207339</td>\n",
       "      <td>0.399696</td>\n",
       "      <td>0.400542</td>\n",
       "      <td>0.398760</td>\n",
       "      <td>0.399670</td>\n",
       "      <td>0.710127</td>\n",
       "      <td>1.000000</td>\n",
       "      <td>0.399635</td>\n",
       "    </tr>\n",
       "    <tr>\n",
       "      <th>Weighted_Price</th>\n",
       "      <td>0.708782</td>\n",
       "      <td>0.999999</td>\n",
       "      <td>0.999999</td>\n",
       "      <td>0.999999</td>\n",
       "      <td>0.999999</td>\n",
       "      <td>0.147834</td>\n",
       "      <td>0.399635</td>\n",
       "      <td>1.000000</td>\n",
       "    </tr>\n",
       "  </tbody>\n",
       "</table>\n",
       "</div>"
      ],
      "text/plain": [
       "                   Timestamp      Open      High       Low     Close  \\\n",
       "Timestamp           1.000000  0.708779  0.708652  0.708914  0.708779   \n",
       "Open                0.708779  1.000000  0.999998  0.999998  0.999997   \n",
       "High                0.708652  0.999998  1.000000  0.999996  0.999998   \n",
       "Low                 0.708914  0.999998  0.999996  1.000000  0.999998   \n",
       "Close               0.708779  0.999997  0.999998  0.999998  1.000000   \n",
       "Volume_(BTC)        0.079628  0.147888  0.148487  0.147208  0.147858   \n",
       "Volume_(Currency)   0.207339  0.399696  0.400542  0.398760  0.399670   \n",
       "Weighted_Price      0.708782  0.999999  0.999999  0.999999  0.999999   \n",
       "\n",
       "                   Volume_(BTC)  Volume_(Currency)  Weighted_Price  \n",
       "Timestamp              0.079628           0.207339        0.708782  \n",
       "Open                   0.147888           0.399696        0.999999  \n",
       "High                   0.148487           0.400542        0.999999  \n",
       "Low                    0.147208           0.398760        0.999999  \n",
       "Close                  0.147858           0.399670        0.999999  \n",
       "Volume_(BTC)           1.000000           0.710127        0.147834  \n",
       "Volume_(Currency)      0.710127           1.000000        0.399635  \n",
       "Weighted_Price         0.147834           0.399635        1.000000  "
      ]
     },
     "execution_count": 41,
     "metadata": {},
     "output_type": "execute_result"
    }
   ],
   "source": [
    "bitcoin.corr()"
   ]
  },
  {
   "cell_type": "code",
   "execution_count": 42,
   "id": "0349c641",
   "metadata": {},
   "outputs": [
    {
     "data": {
      "text/plain": [
       "<AxesSubplot:>"
      ]
     },
     "execution_count": 42,
     "metadata": {},
     "output_type": "execute_result"
    },
    {
     "data": {
      "image/png": "[encoded data removed]",
      "text/plain": [
       "<Figure size 432x288 with 2 Axes>"
      ]
     },
     "metadata": {
      "needs_background": "light"
     },
     "output_type": "display_data"
    }
   ],
   "source": [
    "sns.heatmap(bitcoin.corr())"
   ]
  },
  {
   "cell_type": "code",
   "execution_count": 43,
   "id": "b49cf0c5",
   "metadata": {},
   "outputs": [
    {
     "data": {
      "text/plain": [
       "<AxesSubplot:>"
      ]
     },
     "execution_count": 43,
     "metadata": {},
     "output_type": "execute_result"
    },
    {
     "data": {
      "image/png": "[encoded data removed]",
      "text/plain": [
       "<Figure size 432x288 with 2 Axes>"
      ]
     },
     "metadata": {
      "needs_background": "light"
     },
     "output_type": "display_data"
    }
   ],
   "source": [
    "sns.heatmap(bitcoin.corr(),cmap='rainbow',annot=True)"
   ]
  },
  {
   "cell_type": "code",
   "execution_count": 44,
   "id": "d2fe174d",
   "metadata": {},
   "outputs": [
    {
     "data": {
      "text/html": [
       "<div>\n",
       "<style scoped>\n",
       "    .dataframe tbody tr th:only-of-type {\n",
       "        vertical-align: middle;\n",
       "    }\n",
       "\n",
       "    .dataframe tbody tr th {\n",
       "        vertical-align: top;\n",
       "    }\n",
       "\n",
       "    .dataframe thead th {\n",
       "        text-align: right;\n",
       "    }\n",
       "</style>\n",
       "<table border=\"1\" class=\"dataframe\">\n",
       "  <thead>\n",
       "    <tr style=\"text-align: right;\">\n",
       "      <th></th>\n",
       "      <th>Timestamp</th>\n",
       "      <th>Open</th>\n",
       "      <th>High</th>\n",
       "      <th>Low</th>\n",
       "      <th>Close</th>\n",
       "      <th>Volume_(BTC)</th>\n",
       "      <th>Volume_(Currency)</th>\n",
       "      <th>Weighted_Price</th>\n",
       "    </tr>\n",
       "  </thead>\n",
       "  <tbody>\n",
       "    <tr>\n",
       "      <th>0</th>\n",
       "      <td>-1.827450</td>\n",
       "      <td>-7.965044e-01</td>\n",
       "      <td>-7.964206e-01</td>\n",
       "      <td>-7.965882e-01</td>\n",
       "      <td>-7.965052e-01</td>\n",
       "      <td>-4.297957e-01</td>\n",
       "      <td>-2.637289e-01</td>\n",
       "      <td>-7.965037e-01</td>\n",
       "    </tr>\n",
       "    <tr>\n",
       "      <th>1</th>\n",
       "      <td>-1.827449</td>\n",
       "      <td>3.701494e-13</td>\n",
       "      <td>1.205625e-12</td>\n",
       "      <td>-1.470583e-12</td>\n",
       "      <td>3.678141e-13</td>\n",
       "      <td>-5.385785e-14</td>\n",
       "      <td>5.916782e-15</td>\n",
       "      <td>2.323469e-14</td>\n",
       "    </tr>\n",
       "    <tr>\n",
       "      <th>2</th>\n",
       "      <td>-1.827447</td>\n",
       "      <td>3.701494e-13</td>\n",
       "      <td>1.205625e-12</td>\n",
       "      <td>-1.470583e-12</td>\n",
       "      <td>3.678141e-13</td>\n",
       "      <td>-5.385785e-14</td>\n",
       "      <td>5.916782e-15</td>\n",
       "      <td>2.323469e-14</td>\n",
       "    </tr>\n",
       "    <tr>\n",
       "      <th>3</th>\n",
       "      <td>-1.827446</td>\n",
       "      <td>3.701494e-13</td>\n",
       "      <td>1.205625e-12</td>\n",
       "      <td>-1.470583e-12</td>\n",
       "      <td>3.678141e-13</td>\n",
       "      <td>-5.385785e-14</td>\n",
       "      <td>5.916782e-15</td>\n",
       "      <td>2.323469e-14</td>\n",
       "    </tr>\n",
       "    <tr>\n",
       "      <th>4</th>\n",
       "      <td>-1.827444</td>\n",
       "      <td>3.701494e-13</td>\n",
       "      <td>1.205625e-12</td>\n",
       "      <td>-1.470583e-12</td>\n",
       "      <td>3.678141e-13</td>\n",
       "      <td>-5.385785e-14</td>\n",
       "      <td>5.916782e-15</td>\n",
       "      <td>2.323469e-14</td>\n",
       "    </tr>\n",
       "  </tbody>\n",
       "</table>\n",
       "</div>"
      ],
      "text/plain": [
       "   Timestamp          Open          High           Low         Close  \\\n",
       "0  -1.827450 -7.965044e-01 -7.964206e-01 -7.965882e-01 -7.965052e-01   \n",
       "1  -1.827449  3.701494e-13  1.205625e-12 -1.470583e-12  3.678141e-13   \n",
       "2  -1.827447  3.701494e-13  1.205625e-12 -1.470583e-12  3.678141e-13   \n",
       "3  -1.827446  3.701494e-13  1.205625e-12 -1.470583e-12  3.678141e-13   \n",
       "4  -1.827444  3.701494e-13  1.205625e-12 -1.470583e-12  3.678141e-13   \n",
       "\n",
       "   Volume_(BTC)  Volume_(Currency)  Weighted_Price  \n",
       "0 -4.297957e-01      -2.637289e-01   -7.965037e-01  \n",
       "1 -5.385785e-14       5.916782e-15    2.323469e-14  \n",
       "2 -5.385785e-14       5.916782e-15    2.323469e-14  \n",
       "3 -5.385785e-14       5.916782e-15    2.323469e-14  \n",
       "4 -5.385785e-14       5.916782e-15    2.323469e-14  "
      ]
     },
     "execution_count": 44,
     "metadata": {},
     "output_type": "execute_result"
    }
   ],
   "source": [
    "bitcoin.head()"
   ]
  },
  {
   "cell_type": "markdown",
   "id": "00cff47a",
   "metadata": {},
   "source": [
    "# Declaring Variables"
   ]
  },
  {
   "cell_type": "code",
   "execution_count": 45,
   "id": "ce8d8c69",
   "metadata": {},
   "outputs": [],
   "source": [
    "X = bitcoin[[\"Timestamp\", \"Open\", \"High\", \"Low\", \"Volume_(BTC)\", \"Volume_(Currency)\", \"Weighted_Price\"]]\n",
    "y = bitcoin[\"Close\"]"
   ]
  },
  {
   "cell_type": "code",
   "execution_count": 46,
   "id": "0a147531",
   "metadata": {},
   "outputs": [
    {
     "data": {
      "text/html": [
       "<div>\n",
       "<style scoped>\n",
       "    .dataframe tbody tr th:only-of-type {\n",
       "        vertical-align: middle;\n",
       "    }\n",
       "\n",
       "    .dataframe tbody tr th {\n",
       "        vertical-align: top;\n",
       "    }\n",
       "\n",
       "    .dataframe thead th {\n",
       "        text-align: right;\n",
       "    }\n",
       "</style>\n",
       "<table border=\"1\" class=\"dataframe\">\n",
       "  <thead>\n",
       "    <tr style=\"text-align: right;\">\n",
       "      <th></th>\n",
       "      <th>Timestamp</th>\n",
       "      <th>Open</th>\n",
       "      <th>High</th>\n",
       "      <th>Low</th>\n",
       "      <th>Volume_(BTC)</th>\n",
       "      <th>Volume_(Currency)</th>\n",
       "      <th>Weighted_Price</th>\n",
       "    </tr>\n",
       "  </thead>\n",
       "  <tbody>\n",
       "    <tr>\n",
       "      <th>0</th>\n",
       "      <td>-1.827450</td>\n",
       "      <td>-7.965044e-01</td>\n",
       "      <td>-7.964206e-01</td>\n",
       "      <td>-7.965882e-01</td>\n",
       "      <td>-4.297957e-01</td>\n",
       "      <td>-2.637289e-01</td>\n",
       "      <td>-7.965037e-01</td>\n",
       "    </tr>\n",
       "    <tr>\n",
       "      <th>1</th>\n",
       "      <td>-1.827449</td>\n",
       "      <td>3.701494e-13</td>\n",
       "      <td>1.205625e-12</td>\n",
       "      <td>-1.470583e-12</td>\n",
       "      <td>-5.385785e-14</td>\n",
       "      <td>5.916782e-15</td>\n",
       "      <td>2.323469e-14</td>\n",
       "    </tr>\n",
       "    <tr>\n",
       "      <th>2</th>\n",
       "      <td>-1.827447</td>\n",
       "      <td>3.701494e-13</td>\n",
       "      <td>1.205625e-12</td>\n",
       "      <td>-1.470583e-12</td>\n",
       "      <td>-5.385785e-14</td>\n",
       "      <td>5.916782e-15</td>\n",
       "      <td>2.323469e-14</td>\n",
       "    </tr>\n",
       "    <tr>\n",
       "      <th>3</th>\n",
       "      <td>-1.827446</td>\n",
       "      <td>3.701494e-13</td>\n",
       "      <td>1.205625e-12</td>\n",
       "      <td>-1.470583e-12</td>\n",
       "      <td>-5.385785e-14</td>\n",
       "      <td>5.916782e-15</td>\n",
       "      <td>2.323469e-14</td>\n",
       "    </tr>\n",
       "    <tr>\n",
       "      <th>4</th>\n",
       "      <td>-1.827444</td>\n",
       "      <td>3.701494e-13</td>\n",
       "      <td>1.205625e-12</td>\n",
       "      <td>-1.470583e-12</td>\n",
       "      <td>-5.385785e-14</td>\n",
       "      <td>5.916782e-15</td>\n",
       "      <td>2.323469e-14</td>\n",
       "    </tr>\n",
       "    <tr>\n",
       "      <th>...</th>\n",
       "      <td>...</td>\n",
       "      <td>...</td>\n",
       "      <td>...</td>\n",
       "      <td>...</td>\n",
       "      <td>...</td>\n",
       "      <td>...</td>\n",
       "      <td>...</td>\n",
       "    </tr>\n",
       "    <tr>\n",
       "      <th>2099755</th>\n",
       "      <td>1.731619</td>\n",
       "      <td>2.053456e-01</td>\n",
       "      <td>2.049903e-01</td>\n",
       "      <td>2.058906e-01</td>\n",
       "      <td>-2.448671e-01</td>\n",
       "      <td>-1.644572e-01</td>\n",
       "      <td>2.054692e-01</td>\n",
       "    </tr>\n",
       "    <tr>\n",
       "      <th>2099756</th>\n",
       "      <td>1.731621</td>\n",
       "      <td>2.053456e-01</td>\n",
       "      <td>2.049903e-01</td>\n",
       "      <td>2.058906e-01</td>\n",
       "      <td>-3.808811e-01</td>\n",
       "      <td>-2.372738e-01</td>\n",
       "      <td>2.053684e-01</td>\n",
       "    </tr>\n",
       "    <tr>\n",
       "      <th>2099757</th>\n",
       "      <td>1.731622</td>\n",
       "      <td>2.053456e-01</td>\n",
       "      <td>2.048391e-01</td>\n",
       "      <td>2.058906e-01</td>\n",
       "      <td>-3.649836e-01</td>\n",
       "      <td>-2.287640e-01</td>\n",
       "      <td>2.053647e-01</td>\n",
       "    </tr>\n",
       "    <tr>\n",
       "      <th>2099758</th>\n",
       "      <td>1.731624</td>\n",
       "      <td>2.053456e-01</td>\n",
       "      <td>2.048391e-01</td>\n",
       "      <td>2.057554e-01</td>\n",
       "      <td>-2.823278e-01</td>\n",
       "      <td>-1.845247e-01</td>\n",
       "      <td>2.052880e-01</td>\n",
       "    </tr>\n",
       "    <tr>\n",
       "      <th>2099759</th>\n",
       "      <td>1.731626</td>\n",
       "      <td>2.052104e-01</td>\n",
       "      <td>2.048391e-01</td>\n",
       "      <td>2.057581e-01</td>\n",
       "      <td>-3.342446e-01</td>\n",
       "      <td>-2.123130e-01</td>\n",
       "      <td>2.052949e-01</td>\n",
       "    </tr>\n",
       "  </tbody>\n",
       "</table>\n",
       "<p>2099760 rows × 7 columns</p>\n",
       "</div>"
      ],
      "text/plain": [
       "         Timestamp          Open          High           Low  Volume_(BTC)  \\\n",
       "0        -1.827450 -7.965044e-01 -7.964206e-01 -7.965882e-01 -4.297957e-01   \n",
       "1        -1.827449  3.701494e-13  1.205625e-12 -1.470583e-12 -5.385785e-14   \n",
       "2        -1.827447  3.701494e-13  1.205625e-12 -1.470583e-12 -5.385785e-14   \n",
       "3        -1.827446  3.701494e-13  1.205625e-12 -1.470583e-12 -5.385785e-14   \n",
       "4        -1.827444  3.701494e-13  1.205625e-12 -1.470583e-12 -5.385785e-14   \n",
       "...            ...           ...           ...           ...           ...   \n",
       "2099755   1.731619  2.053456e-01  2.049903e-01  2.058906e-01 -2.448671e-01   \n",
       "2099756   1.731621  2.053456e-01  2.049903e-01  2.058906e-01 -3.808811e-01   \n",
       "2099757   1.731622  2.053456e-01  2.048391e-01  2.058906e-01 -3.649836e-01   \n",
       "2099758   1.731624  2.053456e-01  2.048391e-01  2.057554e-01 -2.823278e-01   \n",
       "2099759   1.731626  2.052104e-01  2.048391e-01  2.057581e-01 -3.342446e-01   \n",
       "\n",
       "         Volume_(Currency)  Weighted_Price  \n",
       "0            -2.637289e-01   -7.965037e-01  \n",
       "1             5.916782e-15    2.323469e-14  \n",
       "2             5.916782e-15    2.323469e-14  \n",
       "3             5.916782e-15    2.323469e-14  \n",
       "4             5.916782e-15    2.323469e-14  \n",
       "...                    ...             ...  \n",
       "2099755      -1.644572e-01    2.054692e-01  \n",
       "2099756      -2.372738e-01    2.053684e-01  \n",
       "2099757      -2.287640e-01    2.053647e-01  \n",
       "2099758      -1.845247e-01    2.052880e-01  \n",
       "2099759      -2.123130e-01    2.052949e-01  \n",
       "\n",
       "[2099760 rows x 7 columns]"
      ]
     },
     "execution_count": 46,
     "metadata": {},
     "output_type": "execute_result"
    }
   ],
   "source": [
    "X"
   ]
  },
  {
   "cell_type": "code",
   "execution_count": 47,
   "id": "7dace634",
   "metadata": {},
   "outputs": [
    {
     "data": {
      "text/plain": [
       "0         -7.965052e-01\n",
       "1          3.678141e-13\n",
       "2          3.678141e-13\n",
       "3          3.678141e-13\n",
       "4          3.678141e-13\n",
       "               ...     \n",
       "2099755    2.053458e-01\n",
       "2099756    2.053458e-01\n",
       "2099757    2.053458e-01\n",
       "2099758    2.052079e-01\n",
       "2099759    2.053404e-01\n",
       "Name: Close, Length: 2099760, dtype: float64"
      ]
     },
     "execution_count": 47,
     "metadata": {},
     "output_type": "execute_result"
    }
   ],
   "source": [
    "y"
   ]
  },
  {
   "cell_type": "markdown",
   "id": "404a6c2b",
   "metadata": {},
   "source": [
    "# Splitting the data"
   ]
  },
  {
   "cell_type": "code",
   "execution_count": 48,
   "id": "37f0af6b",
   "metadata": {},
   "outputs": [],
   "source": [
    "from sklearn.model_selection import train_test_split\n",
    "X_train, X_test, y_train, y_test = train_test_split(X, y, test_size=0.3, random_state=42)"
   ]
  },
  {
   "cell_type": "code",
   "execution_count": 49,
   "id": "a300d2d3",
   "metadata": {},
   "outputs": [
    {
     "data": {
      "text/plain": [
       "993387    -0.677467\n",
       "1810464    0.952185\n",
       "301588    -0.802098\n",
       "1246335   -0.160134\n",
       "147190    -0.814355\n",
       "             ...   \n",
       "1764477    1.344520\n",
       "2045601    0.186039\n",
       "1140003   -0.555902\n",
       "1428929    0.252146\n",
       "809845    -0.699848\n",
       "Name: Close, Length: 629928, dtype: float64"
      ]
     },
     "execution_count": 49,
     "metadata": {},
     "output_type": "execute_result"
    }
   ],
   "source": [
    "y_test"
   ]
  },
  {
   "cell_type": "code",
   "execution_count": 50,
   "id": "84af38a1",
   "metadata": {},
   "outputs": [
    {
     "data": {
      "text/html": [
       "<div>\n",
       "<style scoped>\n",
       "    .dataframe tbody tr th:only-of-type {\n",
       "        vertical-align: middle;\n",
       "    }\n",
       "\n",
       "    .dataframe tbody tr th {\n",
       "        vertical-align: top;\n",
       "    }\n",
       "\n",
       "    .dataframe thead th {\n",
       "        text-align: right;\n",
       "    }\n",
       "</style>\n",
       "<table border=\"1\" class=\"dataframe\">\n",
       "  <thead>\n",
       "    <tr style=\"text-align: right;\">\n",
       "      <th></th>\n",
       "      <th>Timestamp</th>\n",
       "      <th>Open</th>\n",
       "      <th>High</th>\n",
       "      <th>Low</th>\n",
       "      <th>Volume_(BTC)</th>\n",
       "      <th>Volume_(Currency)</th>\n",
       "      <th>Weighted_Price</th>\n",
       "    </tr>\n",
       "  </thead>\n",
       "  <tbody>\n",
       "    <tr>\n",
       "      <th>993387</th>\n",
       "      <td>-0.092960</td>\n",
       "      <td>-0.677467</td>\n",
       "      <td>-0.677453</td>\n",
       "      <td>-0.677476</td>\n",
       "      <td>-0.410781</td>\n",
       "      <td>-0.261816</td>\n",
       "      <td>-0.677464</td>\n",
       "    </tr>\n",
       "    <tr>\n",
       "      <th>1810464</th>\n",
       "      <td>1.254531</td>\n",
       "      <td>0.952165</td>\n",
       "      <td>0.951321</td>\n",
       "      <td>0.953184</td>\n",
       "      <td>-0.234539</td>\n",
       "      <td>-0.086657</td>\n",
       "      <td>0.952208</td>\n",
       "    </tr>\n",
       "    <tr>\n",
       "      <th>301588</th>\n",
       "      <td>-1.233848</td>\n",
       "      <td>-0.802089</td>\n",
       "      <td>-0.801986</td>\n",
       "      <td>-0.802185</td>\n",
       "      <td>-0.322445</td>\n",
       "      <td>-0.259723</td>\n",
       "      <td>-0.802085</td>\n",
       "    </tr>\n",
       "    <tr>\n",
       "      <th>1246335</th>\n",
       "      <td>0.324192</td>\n",
       "      <td>-0.163551</td>\n",
       "      <td>-0.157464</td>\n",
       "      <td>-0.163853</td>\n",
       "      <td>5.251028</td>\n",
       "      <td>1.750325</td>\n",
       "      <td>-0.160391</td>\n",
       "    </tr>\n",
       "    <tr>\n",
       "      <th>147190</th>\n",
       "      <td>-1.488475</td>\n",
       "      <td>-0.814354</td>\n",
       "      <td>-0.814260</td>\n",
       "      <td>-0.814449</td>\n",
       "      <td>-0.402920</td>\n",
       "      <td>-0.262893</td>\n",
       "      <td>-0.814354</td>\n",
       "    </tr>\n",
       "    <tr>\n",
       "      <th>...</th>\n",
       "      <td>...</td>\n",
       "      <td>...</td>\n",
       "      <td>...</td>\n",
       "      <td>...</td>\n",
       "      <td>...</td>\n",
       "      <td>...</td>\n",
       "      <td>...</td>\n",
       "    </tr>\n",
       "    <tr>\n",
       "      <th>1764477</th>\n",
       "      <td>1.178692</td>\n",
       "      <td>1.344518</td>\n",
       "      <td>1.343341</td>\n",
       "      <td>1.345782</td>\n",
       "      <td>-0.319370</td>\n",
       "      <td>-0.141860</td>\n",
       "      <td>1.344560</td>\n",
       "    </tr>\n",
       "    <tr>\n",
       "      <th>2045601</th>\n",
       "      <td>1.642310</td>\n",
       "      <td>0.185149</td>\n",
       "      <td>0.185543</td>\n",
       "      <td>0.185684</td>\n",
       "      <td>0.300459</td>\n",
       "      <td>0.120176</td>\n",
       "      <td>0.185250</td>\n",
       "    </tr>\n",
       "    <tr>\n",
       "      <th>1140003</th>\n",
       "      <td>0.148833</td>\n",
       "      <td>-0.555539</td>\n",
       "      <td>-0.555597</td>\n",
       "      <td>-0.556610</td>\n",
       "      <td>-0.217523</td>\n",
       "      <td>-0.229927</td>\n",
       "      <td>-0.556063</td>\n",
       "    </tr>\n",
       "    <tr>\n",
       "      <th>1428929</th>\n",
       "      <td>0.625319</td>\n",
       "      <td>0.252148</td>\n",
       "      <td>0.251614</td>\n",
       "      <td>0.252723</td>\n",
       "      <td>-0.356646</td>\n",
       "      <td>-0.222596</td>\n",
       "      <td>0.252170</td>\n",
       "    </tr>\n",
       "    <tr>\n",
       "      <th>809845</th>\n",
       "      <td>-0.395650</td>\n",
       "      <td>-0.699815</td>\n",
       "      <td>-0.699788</td>\n",
       "      <td>-0.699870</td>\n",
       "      <td>-0.254887</td>\n",
       "      <td>-0.248334</td>\n",
       "      <td>-0.699835</td>\n",
       "    </tr>\n",
       "  </tbody>\n",
       "</table>\n",
       "<p>629928 rows × 7 columns</p>\n",
       "</div>"
      ],
      "text/plain": [
       "         Timestamp      Open      High       Low  Volume_(BTC)  \\\n",
       "993387   -0.092960 -0.677467 -0.677453 -0.677476     -0.410781   \n",
       "1810464   1.254531  0.952165  0.951321  0.953184     -0.234539   \n",
       "301588   -1.233848 -0.802089 -0.801986 -0.802185     -0.322445   \n",
       "1246335   0.324192 -0.163551 -0.157464 -0.163853      5.251028   \n",
       "147190   -1.488475 -0.814354 -0.814260 -0.814449     -0.402920   \n",
       "...            ...       ...       ...       ...           ...   \n",
       "1764477   1.178692  1.344518  1.343341  1.345782     -0.319370   \n",
       "2045601   1.642310  0.185149  0.185543  0.185684      0.300459   \n",
       "1140003   0.148833 -0.555539 -0.555597 -0.556610     -0.217523   \n",
       "1428929   0.625319  0.252148  0.251614  0.252723     -0.356646   \n",
       "809845   -0.395650 -0.699815 -0.699788 -0.699870     -0.254887   \n",
       "\n",
       "         Volume_(Currency)  Weighted_Price  \n",
       "993387           -0.261816       -0.677464  \n",
       "1810464          -0.086657        0.952208  \n",
       "301588           -0.259723       -0.802085  \n",
       "1246335           1.750325       -0.160391  \n",
       "147190           -0.262893       -0.814354  \n",
       "...                    ...             ...  \n",
       "1764477          -0.141860        1.344560  \n",
       "2045601           0.120176        0.185250  \n",
       "1140003          -0.229927       -0.556063  \n",
       "1428929          -0.222596        0.252170  \n",
       "809845           -0.248334       -0.699835  \n",
       "\n",
       "[629928 rows x 7 columns]"
      ]
     },
     "execution_count": 50,
     "metadata": {},
     "output_type": "execute_result"
    }
   ],
   "source": [
    "X_test"
   ]
  },
  {
   "cell_type": "code",
   "execution_count": 51,
   "id": "aa60f8eb",
   "metadata": {},
   "outputs": [
    {
     "data": {
      "text/plain": [
       "755525    -6.729746e-01\n",
       "1468933    7.174617e-01\n",
       "1898105    8.634163e-01\n",
       "1206496   -5.167852e-01\n",
       "440156    -7.845863e-01\n",
       "               ...     \n",
       "2003274    8.384620e-01\n",
       "1570006    3.195209e+00\n",
       "732180    -7.325637e-01\n",
       "110268     3.678141e-13\n",
       "1692743    9.909262e-01\n",
       "Name: Close, Length: 1469832, dtype: float64"
      ]
     },
     "execution_count": 51,
     "metadata": {},
     "output_type": "execute_result"
    }
   ],
   "source": [
    "y_train"
   ]
  },
  {
   "cell_type": "code",
   "execution_count": 52,
   "id": "5824b25a",
   "metadata": {
    "scrolled": true
   },
   "outputs": [
    {
     "data": {
      "text/html": [
       "<div>\n",
       "<style scoped>\n",
       "    .dataframe tbody tr th:only-of-type {\n",
       "        vertical-align: middle;\n",
       "    }\n",
       "\n",
       "    .dataframe tbody tr th {\n",
       "        vertical-align: top;\n",
       "    }\n",
       "\n",
       "    .dataframe thead th {\n",
       "        text-align: right;\n",
       "    }\n",
       "</style>\n",
       "<table border=\"1\" class=\"dataframe\">\n",
       "  <thead>\n",
       "    <tr style=\"text-align: right;\">\n",
       "      <th></th>\n",
       "      <th>Timestamp</th>\n",
       "      <th>Open</th>\n",
       "      <th>High</th>\n",
       "      <th>Low</th>\n",
       "      <th>Volume_(BTC)</th>\n",
       "      <th>Volume_(Currency)</th>\n",
       "      <th>Weighted_Price</th>\n",
       "    </tr>\n",
       "  </thead>\n",
       "  <tbody>\n",
       "    <tr>\n",
       "      <th>755525</th>\n",
       "      <td>-0.485233</td>\n",
       "      <td>-6.729820e-01</td>\n",
       "      <td>-6.729628e-01</td>\n",
       "      <td>-6.729879e-01</td>\n",
       "      <td>-3.665096e-01</td>\n",
       "      <td>-2.572943e-01</td>\n",
       "      <td>-6.729738e-01</td>\n",
       "    </tr>\n",
       "    <tr>\n",
       "      <th>1468933</th>\n",
       "      <td>0.691292</td>\n",
       "      <td>7.174609e-01</td>\n",
       "      <td>7.166526e-01</td>\n",
       "      <td>7.183288e-01</td>\n",
       "      <td>-2.148932e-01</td>\n",
       "      <td>-9.388388e-02</td>\n",
       "      <td>7.174918e-01</td>\n",
       "    </tr>\n",
       "    <tr>\n",
       "      <th>1898105</th>\n",
       "      <td>1.399066</td>\n",
       "      <td>8.634181e-01</td>\n",
       "      <td>8.625238e-01</td>\n",
       "      <td>8.643780e-01</td>\n",
       "      <td>-3.416045e-01</td>\n",
       "      <td>-1.873843e-01</td>\n",
       "      <td>8.634503e-01</td>\n",
       "    </tr>\n",
       "    <tr>\n",
       "      <th>1206496</th>\n",
       "      <td>0.258491</td>\n",
       "      <td>-5.168117e-01</td>\n",
       "      <td>-5.168656e-01</td>\n",
       "      <td>-5.168571e-01</td>\n",
       "      <td>8.676940e-03</td>\n",
       "      <td>-1.854666e-01</td>\n",
       "      <td>-5.168470e-01</td>\n",
       "    </tr>\n",
       "    <tr>\n",
       "      <th>440156</th>\n",
       "      <td>-1.005327</td>\n",
       "      <td>-7.845504e-01</td>\n",
       "      <td>-7.844736e-01</td>\n",
       "      <td>-7.846618e-01</td>\n",
       "      <td>-3.950080e-01</td>\n",
       "      <td>-2.621257e-01</td>\n",
       "      <td>-7.845546e-01</td>\n",
       "    </tr>\n",
       "    <tr>\n",
       "      <th>...</th>\n",
       "      <td>...</td>\n",
       "      <td>...</td>\n",
       "      <td>...</td>\n",
       "      <td>...</td>\n",
       "      <td>...</td>\n",
       "      <td>...</td>\n",
       "      <td>...</td>\n",
       "    </tr>\n",
       "    <tr>\n",
       "      <th>2003274</th>\n",
       "      <td>1.572506</td>\n",
       "      <td>8.384584e-01</td>\n",
       "      <td>8.375815e-01</td>\n",
       "      <td>8.394053e-01</td>\n",
       "      <td>-3.696340e-01</td>\n",
       "      <td>-2.122546e-01</td>\n",
       "      <td>8.384940e-01</td>\n",
       "    </tr>\n",
       "    <tr>\n",
       "      <th>1570006</th>\n",
       "      <td>0.857978</td>\n",
       "      <td>3.195205e+00</td>\n",
       "      <td>3.192937e+00</td>\n",
       "      <td>3.197635e+00</td>\n",
       "      <td>-2.049083e-01</td>\n",
       "      <td>1.900855e-01</td>\n",
       "      <td>3.195286e+00</td>\n",
       "    </tr>\n",
       "    <tr>\n",
       "      <th>732180</th>\n",
       "      <td>-0.523733</td>\n",
       "      <td>-7.325603e-01</td>\n",
       "      <td>-7.324709e-01</td>\n",
       "      <td>-7.326065e-01</td>\n",
       "      <td>-3.952060e-01</td>\n",
       "      <td>-2.612316e-01</td>\n",
       "      <td>-7.325540e-01</td>\n",
       "    </tr>\n",
       "    <tr>\n",
       "      <th>110268</th>\n",
       "      <td>-1.549366</td>\n",
       "      <td>3.701494e-13</td>\n",
       "      <td>1.205625e-12</td>\n",
       "      <td>-1.470583e-12</td>\n",
       "      <td>-5.385785e-14</td>\n",
       "      <td>5.916782e-15</td>\n",
       "      <td>2.323469e-14</td>\n",
       "    </tr>\n",
       "    <tr>\n",
       "      <th>1692743</th>\n",
       "      <td>1.060391</td>\n",
       "      <td>9.944395e-01</td>\n",
       "      <td>9.934707e-01</td>\n",
       "      <td>9.919655e-01</td>\n",
       "      <td>-2.265259e-01</td>\n",
       "      <td>-7.536441e-02</td>\n",
       "      <td>9.923589e-01</td>\n",
       "    </tr>\n",
       "  </tbody>\n",
       "</table>\n",
       "<p>1469832 rows × 7 columns</p>\n",
       "</div>"
      ],
      "text/plain": [
       "         Timestamp          Open          High           Low  Volume_(BTC)  \\\n",
       "755525   -0.485233 -6.729820e-01 -6.729628e-01 -6.729879e-01 -3.665096e-01   \n",
       "1468933   0.691292  7.174609e-01  7.166526e-01  7.183288e-01 -2.148932e-01   \n",
       "1898105   1.399066  8.634181e-01  8.625238e-01  8.643780e-01 -3.416045e-01   \n",
       "1206496   0.258491 -5.168117e-01 -5.168656e-01 -5.168571e-01  8.676940e-03   \n",
       "440156   -1.005327 -7.845504e-01 -7.844736e-01 -7.846618e-01 -3.950080e-01   \n",
       "...            ...           ...           ...           ...           ...   \n",
       "2003274   1.572506  8.384584e-01  8.375815e-01  8.394053e-01 -3.696340e-01   \n",
       "1570006   0.857978  3.195205e+00  3.192937e+00  3.197635e+00 -2.049083e-01   \n",
       "732180   -0.523733 -7.325603e-01 -7.324709e-01 -7.326065e-01 -3.952060e-01   \n",
       "110268   -1.549366  3.701494e-13  1.205625e-12 -1.470583e-12 -5.385785e-14   \n",
       "1692743   1.060391  9.944395e-01  9.934707e-01  9.919655e-01 -2.265259e-01   \n",
       "\n",
       "         Volume_(Currency)  Weighted_Price  \n",
       "755525       -2.572943e-01   -6.729738e-01  \n",
       "1468933      -9.388388e-02    7.174918e-01  \n",
       "1898105      -1.873843e-01    8.634503e-01  \n",
       "1206496      -1.854666e-01   -5.168470e-01  \n",
       "440156       -2.621257e-01   -7.845546e-01  \n",
       "...                    ...             ...  \n",
       "2003274      -2.122546e-01    8.384940e-01  \n",
       "1570006       1.900855e-01    3.195286e+00  \n",
       "732180       -2.612316e-01   -7.325540e-01  \n",
       "110268        5.916782e-15    2.323469e-14  \n",
       "1692743      -7.536441e-02    9.923589e-01  \n",
       "\n",
       "[1469832 rows x 7 columns]"
      ]
     },
     "execution_count": 52,
     "metadata": {},
     "output_type": "execute_result"
    }
   ],
   "source": [
    "X_train"
   ]
  },
  {
   "cell_type": "markdown",
   "id": "bc946100",
   "metadata": {},
   "source": [
    "# Train the model using Linear Regression"
   ]
  },
  {
   "cell_type": "code",
   "execution_count": 53,
   "id": "550dba08",
   "metadata": {},
   "outputs": [],
   "source": [
    "from sklearn.linear_model import LinearRegression\n",
    "lm = LinearRegression()"
   ]
  },
  {
   "cell_type": "code",
   "execution_count": 54,
   "id": "d1e4e3ee",
   "metadata": {},
   "outputs": [
    {
     "data": {
      "text/plain": [
       "LinearRegression()"
      ]
     },
     "execution_count": 54,
     "metadata": {},
     "output_type": "execute_result"
    }
   ],
   "source": [
    "lm.fit(X_train,y_train)"
   ]
  },
  {
   "cell_type": "code",
   "execution_count": 55,
   "id": "415fe97a",
   "metadata": {},
   "outputs": [
    {
     "data": {
      "text/plain": [
       "993387    -0.677467\n",
       "1810464    0.952185\n",
       "301588    -0.802098\n",
       "1246335   -0.160134\n",
       "147190    -0.814355\n",
       "             ...   \n",
       "1764477    1.344520\n",
       "2045601    0.186039\n",
       "1140003   -0.555902\n",
       "1428929    0.252146\n",
       "809845    -0.699848\n",
       "Name: Close, Length: 629928, dtype: float64"
      ]
     },
     "execution_count": 55,
     "metadata": {},
     "output_type": "execute_result"
    }
   ],
   "source": [
    "y_test"
   ]
  },
  {
   "cell_type": "code",
   "execution_count": 56,
   "id": "09090ff6",
   "metadata": {},
   "outputs": [
    {
     "data": {
      "text/plain": [
       "array([-0.67746524,  0.95224694, -0.80208021, ..., -0.55638604,\n",
       "        0.25215248, -0.69983816])"
      ]
     },
     "execution_count": 56,
     "metadata": {},
     "output_type": "execute_result"
    }
   ],
   "source": [
    "pred=lm.predict(X_test)\n",
    "pred"
   ]
  },
  {
   "cell_type": "code",
   "execution_count": 57,
   "id": "cba0db23",
   "metadata": {},
   "outputs": [
    {
     "data": {
      "text/html": [
       "<div>\n",
       "<style scoped>\n",
       "    .dataframe tbody tr th:only-of-type {\n",
       "        vertical-align: middle;\n",
       "    }\n",
       "\n",
       "    .dataframe tbody tr th {\n",
       "        vertical-align: top;\n",
       "    }\n",
       "\n",
       "    .dataframe thead th {\n",
       "        text-align: right;\n",
       "    }\n",
       "</style>\n",
       "<table border=\"1\" class=\"dataframe\">\n",
       "  <thead>\n",
       "    <tr style=\"text-align: right;\">\n",
       "      <th></th>\n",
       "      <th>Timestamp</th>\n",
       "      <th>Open</th>\n",
       "      <th>High</th>\n",
       "      <th>Low</th>\n",
       "      <th>Volume_(BTC)</th>\n",
       "      <th>Volume_(Currency)</th>\n",
       "      <th>Weighted_Price</th>\n",
       "    </tr>\n",
       "  </thead>\n",
       "  <tbody>\n",
       "    <tr>\n",
       "      <th>993387</th>\n",
       "      <td>-0.092960</td>\n",
       "      <td>-0.677467</td>\n",
       "      <td>-0.677453</td>\n",
       "      <td>-0.677476</td>\n",
       "      <td>-0.410781</td>\n",
       "      <td>-0.261816</td>\n",
       "      <td>-0.677464</td>\n",
       "    </tr>\n",
       "    <tr>\n",
       "      <th>1810464</th>\n",
       "      <td>1.254531</td>\n",
       "      <td>0.952165</td>\n",
       "      <td>0.951321</td>\n",
       "      <td>0.953184</td>\n",
       "      <td>-0.234539</td>\n",
       "      <td>-0.086657</td>\n",
       "      <td>0.952208</td>\n",
       "    </tr>\n",
       "    <tr>\n",
       "      <th>301588</th>\n",
       "      <td>-1.233848</td>\n",
       "      <td>-0.802089</td>\n",
       "      <td>-0.801986</td>\n",
       "      <td>-0.802185</td>\n",
       "      <td>-0.322445</td>\n",
       "      <td>-0.259723</td>\n",
       "      <td>-0.802085</td>\n",
       "    </tr>\n",
       "    <tr>\n",
       "      <th>1246335</th>\n",
       "      <td>0.324192</td>\n",
       "      <td>-0.163551</td>\n",
       "      <td>-0.157464</td>\n",
       "      <td>-0.163853</td>\n",
       "      <td>5.251028</td>\n",
       "      <td>1.750325</td>\n",
       "      <td>-0.160391</td>\n",
       "    </tr>\n",
       "    <tr>\n",
       "      <th>147190</th>\n",
       "      <td>-1.488475</td>\n",
       "      <td>-0.814354</td>\n",
       "      <td>-0.814260</td>\n",
       "      <td>-0.814449</td>\n",
       "      <td>-0.402920</td>\n",
       "      <td>-0.262893</td>\n",
       "      <td>-0.814354</td>\n",
       "    </tr>\n",
       "    <tr>\n",
       "      <th>...</th>\n",
       "      <td>...</td>\n",
       "      <td>...</td>\n",
       "      <td>...</td>\n",
       "      <td>...</td>\n",
       "      <td>...</td>\n",
       "      <td>...</td>\n",
       "      <td>...</td>\n",
       "    </tr>\n",
       "    <tr>\n",
       "      <th>1764477</th>\n",
       "      <td>1.178692</td>\n",
       "      <td>1.344518</td>\n",
       "      <td>1.343341</td>\n",
       "      <td>1.345782</td>\n",
       "      <td>-0.319370</td>\n",
       "      <td>-0.141860</td>\n",
       "      <td>1.344560</td>\n",
       "    </tr>\n",
       "    <tr>\n",
       "      <th>2045601</th>\n",
       "      <td>1.642310</td>\n",
       "      <td>0.185149</td>\n",
       "      <td>0.185543</td>\n",
       "      <td>0.185684</td>\n",
       "      <td>0.300459</td>\n",
       "      <td>0.120176</td>\n",
       "      <td>0.185250</td>\n",
       "    </tr>\n",
       "    <tr>\n",
       "      <th>1140003</th>\n",
       "      <td>0.148833</td>\n",
       "      <td>-0.555539</td>\n",
       "      <td>-0.555597</td>\n",
       "      <td>-0.556610</td>\n",
       "      <td>-0.217523</td>\n",
       "      <td>-0.229927</td>\n",
       "      <td>-0.556063</td>\n",
       "    </tr>\n",
       "    <tr>\n",
       "      <th>1428929</th>\n",
       "      <td>0.625319</td>\n",
       "      <td>0.252148</td>\n",
       "      <td>0.251614</td>\n",
       "      <td>0.252723</td>\n",
       "      <td>-0.356646</td>\n",
       "      <td>-0.222596</td>\n",
       "      <td>0.252170</td>\n",
       "    </tr>\n",
       "    <tr>\n",
       "      <th>809845</th>\n",
       "      <td>-0.395650</td>\n",
       "      <td>-0.699815</td>\n",
       "      <td>-0.699788</td>\n",
       "      <td>-0.699870</td>\n",
       "      <td>-0.254887</td>\n",
       "      <td>-0.248334</td>\n",
       "      <td>-0.699835</td>\n",
       "    </tr>\n",
       "  </tbody>\n",
       "</table>\n",
       "<p>629928 rows × 7 columns</p>\n",
       "</div>"
      ],
      "text/plain": [
       "         Timestamp      Open      High       Low  Volume_(BTC)  \\\n",
       "993387   -0.092960 -0.677467 -0.677453 -0.677476     -0.410781   \n",
       "1810464   1.254531  0.952165  0.951321  0.953184     -0.234539   \n",
       "301588   -1.233848 -0.802089 -0.801986 -0.802185     -0.322445   \n",
       "1246335   0.324192 -0.163551 -0.157464 -0.163853      5.251028   \n",
       "147190   -1.488475 -0.814354 -0.814260 -0.814449     -0.402920   \n",
       "...            ...       ...       ...       ...           ...   \n",
       "1764477   1.178692  1.344518  1.343341  1.345782     -0.319370   \n",
       "2045601   1.642310  0.185149  0.185543  0.185684      0.300459   \n",
       "1140003   0.148833 -0.555539 -0.555597 -0.556610     -0.217523   \n",
       "1428929   0.625319  0.252148  0.251614  0.252723     -0.356646   \n",
       "809845   -0.395650 -0.699815 -0.699788 -0.699870     -0.254887   \n",
       "\n",
       "         Volume_(Currency)  Weighted_Price  \n",
       "993387           -0.261816       -0.677464  \n",
       "1810464          -0.086657        0.952208  \n",
       "301588           -0.259723       -0.802085  \n",
       "1246335           1.750325       -0.160391  \n",
       "147190           -0.262893       -0.814354  \n",
       "...                    ...             ...  \n",
       "1764477          -0.141860        1.344560  \n",
       "2045601           0.120176        0.185250  \n",
       "1140003          -0.229927       -0.556063  \n",
       "1428929          -0.222596        0.252170  \n",
       "809845           -0.248334       -0.699835  \n",
       "\n",
       "[629928 rows x 7 columns]"
      ]
     },
     "execution_count": 57,
     "metadata": {},
     "output_type": "execute_result"
    }
   ],
   "source": [
    "X_test"
   ]
  },
  {
   "cell_type": "code",
   "execution_count": 58,
   "id": "09d1ba0f",
   "metadata": {},
   "outputs": [
    {
     "data": {
      "text/plain": [
       "-6.474066787377189e-08"
      ]
     },
     "execution_count": 58,
     "metadata": {},
     "output_type": "execute_result"
    }
   ],
   "source": [
    "lm.intercept_"
   ]
  },
  {
   "cell_type": "code",
   "execution_count": 59,
   "id": "16cc2c49",
   "metadata": {},
   "outputs": [
    {
     "data": {
      "text/plain": [
       "array([-7.71129432e-07, -5.61386427e-01,  6.98524108e-01,  6.44995456e-01,\n",
       "        8.19828273e-06, -1.82642645e-05,  2.17873444e-01])"
      ]
     },
     "execution_count": 59,
     "metadata": {},
     "output_type": "execute_result"
    }
   ],
   "source": [
    "lm.coef_"
   ]
  },
  {
   "cell_type": "code",
   "execution_count": 60,
   "id": "a010d9df",
   "metadata": {},
   "outputs": [
    {
     "data": {
      "text/plain": [
       "0.9999992215890581"
      ]
     },
     "execution_count": 60,
     "metadata": {},
     "output_type": "execute_result"
    }
   ],
   "source": [
    "from sklearn.metrics import r2_score\n",
    "r2_score(y_test,pred)"
   ]
  },
  {
   "cell_type": "markdown",
   "id": "826d2604",
   "metadata": {},
   "source": [
    "# Taking the input from the user"
   ]
  },
  {
   "cell_type": "code",
   "execution_count": 61,
   "id": "1a5e7730",
   "metadata": {},
   "outputs": [
    {
     "name": "stdout",
     "output_type": "stream",
     "text": [
      "Enter Open, High, Low values, Volume_(BTC), Volume_(Currency), Weighted_Price:\n",
      "Open : -0.677467\n",
      "High : -0.677453\n",
      "Low : -0.677476\n",
      "Timestamp : -0.092960\n",
      "Volume_(BTC) : -0.410781\n",
      "Volume_(Currency) : -0.261816\t\n",
      "Weighted_Price : -0.677464\n",
      "Close value is: [-0.3004775]\n"
     ]
    }
   ],
   "source": [
    "\n",
    "print(\"Enter Open, High, Low values, Volume_(BTC), Volume_(Currency), Weighted_Price:\")\n",
    "Open = float(input(\"Open : \"))\n",
    "High = float(input(\"High : \"))\n",
    "Low = float(input(\"Low : \"))\n",
    "Timestamp = float(input(\"Timestamp : \"))\n",
    "Volume = float(input(\"Volume_(BTC) : \"))\n",
    "Volume = float(input(\"Volume_(Currency) : \"))\n",
    "Weighted_Price = float(input(\"Weighted_Price : \"))\n",
    "\n",
    "#predicting the sales with respect to the inputs\n",
    "output = lm.predict([[Open,High,Low,Timestamp,Volume,Volume,Weighted_Price]])\n",
    "print(f\"Close value is: {output}\")"
   ]
  },
  {
   "cell_type": "code",
   "execution_count": null,
   "id": "db119731",
   "metadata": {},
   "outputs": [],
   "source": []
  }
 ],
 "metadata": {
  "kernelspec": {
   "display_name": "Python 3",
   "language": "python",
   "name": "python3"
  },
  "language_info": {
   "codemirror_mode": {
    "name": "ipython",
    "version": 3
   },
   "file_extension": ".py",
   "mimetype": "text/x-python",
   "name": "python",
   "nbconvert_exporter": "python",
   "pygments_lexer": "ipython3",
   "version": "3.8.8"
  }
 },
 "nbformat": 4,
 "nbformat_minor": 5
}
