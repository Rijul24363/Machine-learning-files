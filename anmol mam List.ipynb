{
 "cells": [
  {
   "cell_type": "code",
   "execution_count": 2,
   "metadata": {},
   "outputs": [
    {
     "name": "stdout",
     "output_type": "stream",
     "text": [
      "['The', 'earth', 'revolves', 'around', 'sun']\n"
     ]
    }
   ],
   "source": [
    "#list  (ordered sequence)  (mutable)  \n",
    "myList = [\"The\", \"earth\", \"revolves\", \"around\", \"sun\"]\n",
    "print(myList)    #printing list\n"
   ]
  },
  {
   "cell_type": "code",
   "execution_count": 2,
   "metadata": {},
   "outputs": [
    {
     "data": {
      "text/plain": [
       "['sun', 'around', 'revolves', 'earth', 'The']"
      ]
     },
     "execution_count": 2,
     "metadata": {},
     "output_type": "execute_result"
    }
   ],
   "source": [
    "myList.reverse()\n",
    "myList"
   ]
  },
  {
   "cell_type": "code",
   "execution_count": 3,
   "metadata": {},
   "outputs": [
    {
     "data": {
      "text/plain": [
       "['The', 'earth', 'revolves', 'around', 'sun', 'abcd']"
      ]
     },
     "execution_count": 3,
     "metadata": {},
     "output_type": "execute_result"
    }
   ],
   "source": [
    "# append()   it will insert new item in list at the end position\n",
    "\n",
    "myList.append(\"abcd\")\n",
    "myList"
   ]
  },
  {
   "cell_type": "code",
   "execution_count": 4,
   "metadata": {
    "scrolled": true
   },
   "outputs": [
    {
     "name": "stdout",
     "output_type": "stream",
     "text": [
      "['The', 'earth', 'revolves', 'Yes', 'around', 'sun', 'abcd']\n"
     ]
    }
   ],
   "source": [
    "myList.insert(3,\"Yes\")  #insert yes at very beginning\n",
    "print(myList)"
   ]
  },
  {
   "cell_type": "code",
   "execution_count": 5,
   "metadata": {},
   "outputs": [
    {
     "name": "stdout",
     "output_type": "stream",
     "text": [
      "7\n"
     ]
    },
    {
     "data": {
      "text/plain": [
       "'sun'"
      ]
     },
     "execution_count": 5,
     "metadata": {},
     "output_type": "execute_result"
    }
   ],
   "source": [
    "a=len(myList)        #checking length of list\n",
    "print(a)\n"
   ]
  },
  {
   "cell_type": "code",
   "execution_count": 7,
   "metadata": {},
   "outputs": [
    {
     "data": {
      "text/plain": [
       "'sun'"
      ]
     },
     "execution_count": 7,
     "metadata": {},
     "output_type": "execute_result"
    }
   ],
   "source": [
    "# indexing \n",
    "myList[0]\n",
    "myList[5]   # indexing "
   ]
  },
  {
   "cell_type": "code",
   "execution_count": 8,
   "metadata": {},
   "outputs": [
    {
     "name": "stdout",
     "output_type": "stream",
     "text": [
      "['earth', 'revolves', 'Yes']\n",
      "['around', 'sun', 'abcd']\n"
     ]
    }
   ],
   "source": [
    "\n",
    "#slicing\n",
    "print(myList[1:4]) # output will be \"earth\", \"revolves\", \"around\"\n",
    "\n",
    "print(myList[4:]) #\"the\",\"earth\", \"revolves\", \"around\" "
   ]
  },
  {
   "cell_type": "code",
   "execution_count": 10,
   "metadata": {},
   "outputs": [
    {
     "name": "stdout",
     "output_type": "stream",
     "text": [
      "['Aman', 'Nisha', 'kush', 'Anil']\n"
     ]
    }
   ],
   "source": [
    "teachers=['Aman','Nisha','kush','Anil']   \n",
    "print (teachers)"
   ]
  },
  {
   "cell_type": "code",
   "execution_count": 11,
   "metadata": {},
   "outputs": [
    {
     "name": "stdout",
     "output_type": "stream",
     "text": [
      "teacher at position 2 is :kush\n",
      "['Aman', 'Nisha', 'kush', 'Anil', 'anush']\n"
     ]
    }
   ],
   "source": [
    "print (\"teacher at position 2 is :\"+teachers[2]) #output Kush  and + is a concatination operator\n",
    "teachers.append('anush')  #for adding new element to list at end use append\n",
    "print(teachers)"
   ]
  },
  {
   "cell_type": "code",
   "execution_count": 12,
   "metadata": {},
   "outputs": [
    {
     "name": "stdout",
     "output_type": "stream",
     "text": [
      "['New Teacher', 'Aman', 'Nisha', 'kush', 'Anil', 'anush']\n"
     ]
    }
   ],
   "source": [
    "\n",
    "teachers.insert(0, 'New Teacher') \n",
    "print(teachers)\n"
   ]
  },
  {
   "cell_type": "code",
   "execution_count": 13,
   "metadata": {},
   "outputs": [
    {
     "name": "stdout",
     "output_type": "stream",
     "text": [
      "['New Teacher', 'Nisha', 'kush', 'Anil', 'anush']\n"
     ]
    }
   ],
   "source": [
    "# deleting item from  List\n",
    "del teachers[1]  # for deleting any list item write its index with del\n",
    "print (teachers)"
   ]
  },
  {
   "cell_type": "code",
   "execution_count": 14,
   "metadata": {},
   "outputs": [
    {
     "name": "stdout",
     "output_type": "stream",
     "text": [
      "['Nisha', 'kush', 'Anil', 'anush']\n"
     ]
    }
   ],
   "source": [
    "# remove function to delete item from List \n",
    "teachers.remove('New Teacher')  \n",
    "print(teachers)"
   ]
  },
  {
   "cell_type": "code",
   "execution_count": 19,
   "metadata": {},
   "outputs": [
    {
     "name": "stdout",
     "output_type": "stream",
     "text": [
      "List : [123, 'xyz', 'zara', 'abc', 'xyz']\n"
     ]
    },
    {
     "data": {
      "text/plain": [
       "['xyz', 'abc', 'zara', 'xyz', 123]"
      ]
     },
     "execution_count": 19,
     "metadata": {},
     "output_type": "execute_result"
    }
   ],
   "source": [
    "aList=[123, 'xyz', 'zara', 'abc', 'xyz']\n",
    "print(\"List :\", aList)\n",
    "aList.reverse()  # reverse item presesnt in the List\n",
    "aList"
   ]
  },
  {
   "cell_type": "code",
   "execution_count": 8,
   "metadata": {},
   "outputs": [
    {
     "name": "stdout",
     "output_type": "stream",
     "text": [
      "list is : [1, 2, 3, 3, 4, 4]\n"
     ]
    }
   ],
   "source": [
    "a=[1,2,3,3,4,4]\n",
    "print(\"list is :\",a)"
   ]
  },
  {
   "cell_type": "code",
   "execution_count": 26,
   "metadata": {},
   "outputs": [
    {
     "ename": "TypeError",
     "evalue": "'<' not supported between instances of 'str' and 'int'",
     "output_type": "error",
     "traceback": [
      "\u001b[1;31m---------------------------------------------------------------------------\u001b[0m",
      "\u001b[1;31mTypeError\u001b[0m                                 Traceback (most recent call last)",
      "\u001b[1;32m<ipython-input-26-0279477f4994>\u001b[0m in \u001b[0;36m<module>\u001b[1;34m\u001b[0m\n\u001b[0;32m      7\u001b[0m \u001b[0maList1\u001b[0m\u001b[1;33m\u001b[0m\u001b[1;33m\u001b[0m\u001b[0m\n\u001b[0;32m      8\u001b[0m \u001b[1;33m\u001b[0m\u001b[0m\n\u001b[1;32m----> 9\u001b[1;33m \u001b[0maList\u001b[0m\u001b[1;33m.\u001b[0m\u001b[0msort\u001b[0m\u001b[1;33m(\u001b[0m\u001b[0mreverse\u001b[0m\u001b[1;33m=\u001b[0m\u001b[1;32mTrue\u001b[0m\u001b[1;33m)\u001b[0m\u001b[1;31m# descending order\u001b[0m\u001b[1;33m\u001b[0m\u001b[1;33m\u001b[0m\u001b[0m\n\u001b[0m\u001b[0;32m     10\u001b[0m \u001b[0maList\u001b[0m\u001b[1;33m\u001b[0m\u001b[1;33m\u001b[0m\u001b[0m\n",
      "\u001b[1;31mTypeError\u001b[0m: '<' not supported between instances of 'str' and 'int'"
     ]
    }
   ],
   "source": [
    "# sort : ascending , descending \n",
    "\n",
    "aList = ['gagan','aman','raman','aaram',23,334]\n",
    "aList1 = [ 52,51,50,77,44]\n",
    "aList1.sort()#ascending order\n",
    "#aList1.sort(reverse=True) # decending order\n",
    "aList1\n",
    "\n",
    "aList.sort(reverse=True)# descending order \n",
    "aList\n"
   ]
  },
  {
   "cell_type": "code",
   "execution_count": null,
   "metadata": {},
   "outputs": [],
   "source": [
    "\n",
    "\n",
    "aList1.sort(reverse=True)\n",
    "print(aList1)\n",
    "'gagan' in aList"
   ]
  },
  {
   "cell_type": "code",
   "execution_count": 27,
   "metadata": {},
   "outputs": [
    {
     "name": "stdout",
     "output_type": "stream",
     "text": [
      "False 23\n",
      "True helo\n",
      "True world\n",
      "False 34\n",
      "False 56\n"
     ]
    }
   ],
   "source": [
    "a=[23,\"helo\",\"world\",34,56]\n",
    "for i in a:\n",
    "    #print(i)\n",
    "    print(isinstance(i, str),i)\n",
    "\n",
    "#a=10\n",
    "#lambda a: (isinstance(a, str),a)\n",
    "\n",
    "#(False,10)"
   ]
  },
  {
   "cell_type": "markdown",
   "metadata": {},
   "source": [
    "\n",
    "To create a lambda function first write keyword lambda followed by one of more arguments separated by comma, followed by colon sign ( : ), followed by a single line expression.\n",
    " \n",
    "This key function maps each element in the list to a tuple in which \n",
    "the first value is a boolean (True for strings and False for numbers) and \n",
    "the second value is the element itself, like this:\n",
    "   \n",
    "[(isinstance(v, str), v) for v in x]\n",
    "[(False, 4), (False, 6), (False, 9), (True, 'ashley'), (True, 'chay'),\n",
    " (True, 'drooks'), (True, 'may'), (True, 'poo')]\n",
    " \n",
    " "
   ]
  },
  {
   "cell_type": "code",
   "execution_count": 29,
   "metadata": {},
   "outputs": [
    {
     "data": {
      "text/plain": [
       "['poo', 'may', 'drooks', 'chay', 'ashley', 10, 9, 6]"
      ]
     },
     "execution_count": 29,
     "metadata": {},
     "output_type": "execute_result"
    }
   ],
   "source": [
    "x = [10,6,9,'ashley','drooks','chay','poo','may']\n",
    "\n",
    "x.sort(key=lambda a: (isinstance(a, str),a),reverse=True)\n",
    "x\n"
   ]
  },
  {
   "cell_type": "code",
   "execution_count": 13,
   "metadata": {},
   "outputs": [
    {
     "data": {
      "text/plain": [
       "[0, 1, 66, 'as', 'fg']"
      ]
     },
     "execution_count": 13,
     "metadata": {},
     "output_type": "execute_result"
    }
   ],
   "source": [
    "ss=[1,66,0,\"fg\",\"as\"]\n",
    "ss.sort(key=lambda a: (isinstance(a,str),a))\n",
    "ss"
   ]
  },
  {
   "cell_type": "code",
   "execution_count": null,
   "metadata": {},
   "outputs": [],
   "source": []
  },
  {
   "cell_type": "code",
   "execution_count": 11,
   "metadata": {},
   "outputs": [
    {
     "name": "stdout",
     "output_type": "stream",
     "text": [
      "7\n",
      "15\n"
     ]
    }
   ],
   "source": [
    "def abc(a,b):\n",
    "    print(a+b)\n",
    "\n",
    "abc(3,4)# calling of function\n",
    "abc(7,8)"
   ]
  },
  {
   "cell_type": "code",
   "execution_count": 14,
   "metadata": {
    "collapsed": true
   },
   "outputs": [
    {
     "name": "stdout",
     "output_type": "stream",
     "text": [
      "16\n",
      "p\n",
      "y\n",
      "t\n",
      "h\n",
      "o\n",
      "n\n",
      " \n",
      "o\n",
      "p\n",
      "e\n",
      "r\n",
      "a\n",
      "t\n",
      "o\n",
      "r\n",
      "s\n"
     ]
    }
   ],
   "source": [
    "a=\"python operators\"\n",
    "print(len(a))\n",
    "for i in a:\n",
    "    print(i)"
   ]
  },
  {
   "cell_type": "code",
   "execution_count": 15,
   "metadata": {},
   "outputs": [
    {
     "name": "stdout",
     "output_type": "stream",
     "text": [
      "jfbgjt\n",
      "1\n",
      "3\n",
      "45\n",
      "njkgjg\n",
      "njtkjfrk\n"
     ]
    }
   ],
   "source": [
    "a=[\"jfbgjt\",1,3,45,\"njkgjg\",\"njtkjfrk\"]\n",
    "for i in a:\n",
    "    print(i)"
   ]
  }
 ],
 "metadata": {
  "kernelspec": {
   "display_name": "Python 3",
   "language": "python",
   "name": "python3"
  },
  "language_info": {
   "codemirror_mode": {
    "name": "ipython",
    "version": 3
   },
   "file_extension": ".py",
   "mimetype": "text/x-python",
   "name": "python",
   "nbconvert_exporter": "python",
   "pygments_lexer": "ipython3",
   "version": "3.8.5"
  }
 },
 "nbformat": 4,
 "nbformat_minor": 2
}
